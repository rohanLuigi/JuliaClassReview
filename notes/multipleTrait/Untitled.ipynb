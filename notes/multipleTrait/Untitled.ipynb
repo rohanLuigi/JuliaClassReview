{
 "cells": [
  {
   "cell_type": "code",
   "execution_count": 14,
   "metadata": {
    "collapsed": false
   },
   "outputs": [
    {
     "name": "stderr",
     "output_type": "stream",
     "text": [
      "INFO: Precompiling module Devectorize...\n"
     ]
    }
   ],
   "source": [
    "using Devectorize"
   ]
  },
  {
   "cell_type": "code",
   "execution_count": 16,
   "metadata": {
    "collapsed": false
   },
   "outputs": [
    {
     "data": {
      "text/plain": [
       "adjust! (generic function with 1 method)"
      ]
     },
     "execution_count": 16,
     "metadata": {},
     "output_type": "execute_result"
    }
   ],
   "source": [
    "function adjust!(a::Float64,x::Array{Float64,1},y::Array{Float64,1})\n",
    "    n=length(y)\n",
    "    for i=1:n\n",
    "        y[i]=y[i]+a*x[i]\n",
    "    end\n",
    "end"
   ]
  },
  {
   "cell_type": "code",
   "execution_count": 19,
   "metadata": {
    "collapsed": false
   },
   "outputs": [
    {
     "data": {
      "text/plain": [
       "foo1 (generic function with 1 method)"
      ]
     },
     "execution_count": 19,
     "metadata": {},
     "output_type": "execute_result"
    }
   ],
   "source": [
    "function foo1(n,nIter)\n",
    "    y = zeros(n)\n",
    "    for i=1:nIter\n",
    "        for j=1:n\n",
    "            y[j] = y[j] + 1.0\n",
    "        end\n",
    "    end\n",
    "    return y\n",
    "end"
   ]
  },
  {
   "cell_type": "code",
   "execution_count": 17,
   "metadata": {
    "collapsed": false
   },
   "outputs": [
    {
     "data": {
      "text/plain": [
       "foo2 (generic function with 1 method)"
      ]
     },
     "execution_count": 17,
     "metadata": {},
     "output_type": "execute_result"
    }
   ],
   "source": [
    "function foo2(n,nIter)\n",
    "    y = zeros(n)\n",
    "    J = ones(n)\n",
    "    for i=1:nIter\n",
    "        y += J\n",
    "    end\n",
    "    return y\n",
    "end"
   ]
  },
  {
   "cell_type": "code",
   "execution_count": 18,
   "metadata": {
    "collapsed": false
   },
   "outputs": [
    {
     "data": {
      "text/plain": [
       "foo2a (generic function with 1 method)"
      ]
     },
     "execution_count": 18,
     "metadata": {},
     "output_type": "execute_result"
    }
   ],
   "source": [
    "function foo2a(n,nIter)\n",
    "    y = zeros(n)\n",
    "    J = ones(n)\n",
    "    for i=1:nIter\n",
    "        @devec y += J\n",
    "    end\n",
    "    return y\n",
    "end"
   ]
  },
  {
   "cell_type": "code",
   "execution_count": 20,
   "metadata": {
    "collapsed": false
   },
   "outputs": [
    {
     "data": {
      "text/plain": [
       "foo3 (generic function with 1 method)"
      ]
     },
     "execution_count": 20,
     "metadata": {},
     "output_type": "execute_result"
    }
   ],
   "source": [
    "function foo3(n,nIter)\n",
    "    y = zeros(n)\n",
    "    J = ones(n)\n",
    "    for i=1:nIter\n",
    "        BLAS.axpy!(1.0,J,y)\n",
    "    end\n",
    "    return y\n",
    "end"
   ]
  },
  {
   "cell_type": "code",
   "execution_count": 29,
   "metadata": {
    "collapsed": false
   },
   "outputs": [
    {
     "data": {
      "text/plain": [
       "foo4 (generic function with 1 method)"
      ]
     },
     "execution_count": 29,
     "metadata": {},
     "output_type": "execute_result"
    }
   ],
   "source": [
    "function foo4(n,nIter)\n",
    "    y = zeros(n)\n",
    "    J = ones(n)\n",
    "    for i=1:nIter\n",
    "        adjust!(1.0,J,y)\n",
    "    end\n",
    "    return y\n",
    "end"
   ]
  },
  {
   "cell_type": "code",
   "execution_count": 24,
   "metadata": {
    "collapsed": false,
    "scrolled": false
   },
   "outputs": [
    {
     "name": "stdout",
     "output_type": "stream",
     "text": [
      "  2.526550 seconds (6 allocations: 7.630 MB, 0.09% gc time)\n"
     ]
    }
   ],
   "source": [
    "@time foo1(1000000,2000);"
   ]
  },
  {
   "cell_type": "code",
   "execution_count": 23,
   "metadata": {
    "collapsed": false
   },
   "outputs": [
    {
     "name": "stdout",
     "output_type": "stream",
     "text": [
      "  7.700268 seconds (8.01 k allocations: 14.916 GB, 27.96% gc time)\n"
     ]
    }
   ],
   "source": [
    "@time foo2(1000000,2000);"
   ]
  },
  {
   "cell_type": "code",
   "execution_count": 26,
   "metadata": {
    "collapsed": false
   },
   "outputs": [
    {
     "name": "stdout",
     "output_type": "stream",
     "text": [
      "  7.457856 seconds (8.01 k allocations: 14.916 GB, 20.41% gc time)\n"
     ]
    }
   ],
   "source": [
    "@time foo2a(1000000,2000);"
   ]
  },
  {
   "cell_type": "code",
   "execution_count": 26,
   "metadata": {
    "collapsed": false
   },
   "outputs": [
    {
     "name": "stdout",
     "output_type": "stream",
     "text": [
      "  1.651654 seconds (8 allocations: 15.259 MB, 0.12% gc time)\n"
     ]
    }
   ],
   "source": [
    "@time foo3(1000000,2000);"
   ]
  },
  {
   "cell_type": "code",
   "execution_count": 31,
   "metadata": {
    "collapsed": false
   },
   "outputs": [
    {
     "name": "stdout",
     "output_type": "stream",
     "text": [
      "  2.892965 seconds (8 allocations: 15.259 MB, 0.04% gc time)\n"
     ]
    }
   ],
   "source": [
    "@time foo4(1000000,2000);"
   ]
  },
  {
   "cell_type": "code",
   "execution_count": 1,
   "metadata": {
    "collapsed": true
   },
   "outputs": [],
   "source": [
    "nrow=1000000\n",
    "ncol=1000\n",
    "X=randn(nrow,ncol);"
   ]
  },
  {
   "cell_type": "code",
   "execution_count": 2,
   "metadata": {
    "collapsed": true
   },
   "outputs": [],
   "source": [
    "sol=randn(ncol)\n",
    "ycorr=zeros(nrow);"
   ]
  },
  {
   "cell_type": "code",
   "execution_count": 35,
   "metadata": {
    "collapsed": false
   },
   "outputs": [
    {
     "name": "stdout",
     "output_type": "stream",
     "text": [
      "  0.004169 seconds (8 allocations: 78.375 KB)\n"
     ]
    }
   ],
   "source": [
    "@time BLAS.axpy!(-1.0,X*sol,ycorr);"
   ]
  },
  {
   "cell_type": "code",
   "execution_count": 3,
   "metadata": {
    "collapsed": false
   },
   "outputs": [
    {
     "data": {
      "text/plain": [
       "test (generic function with 1 method)"
      ]
     },
     "execution_count": 3,
     "metadata": {},
     "output_type": "execute_result"
    }
   ],
   "source": [
    "function test(X,sol,ycorr,niter)\n",
    "    for i =1:niter\n",
    "        BLAS.axpy!(-1.0,X*sol,ycorr)\n",
    "    end\n",
    "end"
   ]
  },
  {
   "cell_type": "code",
   "execution_count": 4,
   "metadata": {
    "collapsed": false
   },
   "outputs": [
    {
     "data": {
      "text/plain": [
       "test2 (generic function with 1 method)"
      ]
     },
     "execution_count": 4,
     "metadata": {},
     "output_type": "execute_result"
    }
   ],
   "source": [
    "function test2(X,sol,ycorr,niter)\n",
    "    for i =1:niter\n",
    "        ycorr-=X*sol\n",
    "    end\n",
    "end"
   ]
  },
  {
   "cell_type": "code",
   "execution_count": 5,
   "metadata": {
    "collapsed": false
   },
   "outputs": [
    {
     "data": {
      "text/plain": [
       "test3 (generic function with 1 method)"
      ]
     },
     "execution_count": 5,
     "metadata": {},
     "output_type": "execute_result"
    }
   ],
   "source": [
    "function test3(X,sol,ycorr,niter)\n",
    "    for i =1:niter\n",
    "        #sol = randn(ncol)\n",
    "        BLAS.gemv!('N',1.0,X,sol,1.0,ycorr)\n",
    "    end\n",
    "end"
   ]
  },
  {
   "cell_type": "code",
   "execution_count": 8,
   "metadata": {
    "collapsed": false
   },
   "outputs": [
    {
     "name": "stdout",
     "output_type": "stream",
     "text": [
      " 57"
     ]
    }
   ],
   "source": [
    "niter=100\n",
    "@time test(X,sol,ycorr,niter)"
   ]
  },
  {
   "cell_type": "code",
   "execution_count": 10,
   "metadata": {
    "collapsed": false
   },
   "outputs": [
    {
     "name": "stdout",
     "output_type": "stream",
     "text": [
      " 57.982593 seconds (8.09 k allocations: 1.490 GB, 0.24% gc time)\n"
     ]
    }
   ],
   "source": [
    "niter=100\n",
    "@time test2(X,sol,ycorr,niter)"
   ]
  },
  {
   "cell_type": "code",
   "execution_count": 9,
   "metadata": {
    "collapsed": false
   },
   "outputs": [
    {
     "name": "stdout",
     "output_type": "stream",
     "text": [
      ".274542 seconds (404 allocations: 762.949 MB, 0.13% gc time)\n",
      " 56.873426 seconds (4 allocations: 160 bytes)\n"
     ]
    }
   ],
   "source": [
    "niter=100\n",
    "@time test3(X,sol,ycorr,niter)"
   ]
  },
  {
   "cell_type": "code",
   "execution_count": null,
   "metadata": {
    "collapsed": true
   },
   "outputs": [],
   "source": [
    "gemv!(tA, alpha, A, x, beta, y)"
   ]
  },
  {
   "cell_type": "code",
   "execution_count": 59,
   "metadata": {
    "collapsed": false
   },
   "outputs": [
    {
     "data": {
      "text/plain": [
       "10000-element Array{Float64,1}:\n",
       "  10.7252  \n",
       "  12.206   \n",
       "   6.73659 \n",
       "  32.4708  \n",
       "  18.3474  \n",
       "   7.82986 \n",
       " -17.7365  \n",
       "  27.5821  \n",
       " -17.2379  \n",
       " -41.027   \n",
       "  56.5367  \n",
       " -54.0944  \n",
       "  14.4407  \n",
       "   ⋮       \n",
       "  14.239   \n",
       "  45.5786  \n",
       " -19.22    \n",
       "  -9.08581 \n",
       "   9.34264 \n",
       "  43.6002  \n",
       "  39.4071  \n",
       " -24.8009  \n",
       "  -0.992228\n",
       "  28.9838  \n",
       "  -6.73441 \n",
       "   4.22691 "
      ]
     },
     "execution_count": 59,
     "metadata": {},
     "output_type": "execute_result"
    }
   ],
   "source": [
    "BLAS.gemv!('N',1.0,X,sol,1.0,ycorr)"
   ]
  }
 ],
 "metadata": {
  "kernelspec": {
   "display_name": "Julia 0.4.0",
   "language": "julia",
   "name": "julia-0.4"
  },
  "language_info": {
   "file_extension": ".jl",
   "mimetype": "application/julia",
   "name": "julia",
   "version": "0.4.0"
  }
 },
 "nbformat": 4,
 "nbformat_minor": 0
}

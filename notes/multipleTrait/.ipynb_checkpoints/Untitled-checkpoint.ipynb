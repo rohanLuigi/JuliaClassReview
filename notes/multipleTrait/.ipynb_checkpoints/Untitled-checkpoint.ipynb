{
 "cells": [
  {
   "cell_type": "code",
   "execution_count": 16,
   "metadata": {
    "collapsed": false
   },
   "outputs": [
    {
     "data": {
      "text/plain": [
       "adjust! (generic function with 1 method)"
      ]
     },
     "execution_count": 16,
     "metadata": {},
     "output_type": "execute_result"
    }
   ],
   "source": [
    "function adjust!(a::Float64,x::Array{Float64,1},y::Array{Float64,1})\n",
    "    n=length(y)\n",
    "    for i=1:n\n",
    "        y[i]=y[i]+a*x[i]\n",
    "    end\n",
    "end"
   ]
  },
  {
   "cell_type": "code",
   "execution_count": 4,
   "metadata": {
    "collapsed": false
   },
   "outputs": [
    {
     "data": {
      "text/plain": [
       "foo1 (generic function with 1 method)"
      ]
     },
     "execution_count": 4,
     "metadata": {},
     "output_type": "execute_result"
    }
   ],
   "source": [
    "function foo1(n,nIter)\n",
    "    y = zeros(n)\n",
    "    for i=1:nIter\n",
    "        for j=1:n\n",
    "            y[j] = y[j] + 1.0\n",
    "        end\n",
    "    end\n",
    "    return y\n",
    "end"
   ]
  },
  {
   "cell_type": "code",
   "execution_count": 17,
   "metadata": {
    "collapsed": false
   },
   "outputs": [
    {
     "data": {
      "text/plain": [
       "foo2 (generic function with 1 method)"
      ]
     },
     "execution_count": 17,
     "metadata": {},
     "output_type": "execute_result"
    }
   ],
   "source": [
    "function foo2(n,nIter)\n",
    "    y = zeros(n)\n",
    "    J = ones(n)\n",
    "    for i=1:nIter\n",
    "        y += J\n",
    "    end\n",
    "    return y\n",
    "end"
   ]
  },
  {
   "cell_type": "code",
   "execution_count": 20,
   "metadata": {
    "collapsed": false
   },
   "outputs": [
    {
     "data": {
      "text/plain": [
       "foo3 (generic function with 1 method)"
      ]
     },
     "execution_count": 20,
     "metadata": {},
     "output_type": "execute_result"
    }
   ],
   "source": [
    "function foo3(n,nIter)\n",
    "    y = zeros(n)\n",
    "    J = ones(n)\n",
    "    for i=1:nIter\n",
    "        BLAS.axpy!(1.0,J,y)\n",
    "    end\n",
    "    return y\n",
    "end"
   ]
  },
  {
   "cell_type": "code",
   "execution_count": 29,
   "metadata": {
    "collapsed": false
   },
   "outputs": [
    {
     "data": {
      "text/plain": [
       "foo4 (generic function with 1 method)"
      ]
     },
     "execution_count": 29,
     "metadata": {},
     "output_type": "execute_result"
    }
   ],
   "source": [
    "function foo4(n,nIter)\n",
    "    y = zeros(n)\n",
    "    J = ones(n)\n",
    "    for i=1:nIter\n",
    "        adjust!(1.0,J,y)\n",
    "    end\n",
    "    return y\n",
    "end"
   ]
  },
  {
   "cell_type": "code",
   "execution_count": 25,
   "metadata": {
    "collapsed": false,
    "scrolled": false
   },
   "outputs": [
    {
     "name": "stdout",
     "output_type": "stream",
     "text": [
      "  2.286463 seconds (6 allocations: 7.630 MB)\n"
     ]
    }
   ],
   "source": [
    "@time foo1(1000000,2000);"
   ]
  },
  {
   "cell_type": "code",
   "execution_count": 19,
   "metadata": {
    "collapsed": false
   },
   "outputs": [
    {
     "name": "stdout",
     "output_type": "stream",
     "text": [
      "  5.417578 seconds (8.01 k allocations: 14.916 GB, 20.61% gc time)\n"
     ]
    }
   ],
   "source": [
    "@time foo2(1000000,2000);"
   ]
  },
  {
   "cell_type": "code",
   "execution_count": 26,
   "metadata": {
    "collapsed": false
   },
   "outputs": [
    {
     "name": "stdout",
     "output_type": "stream",
     "text": [
      "  1.651654 seconds (8 allocations: 15.259 MB, 0.12% gc time)\n"
     ]
    }
   ],
   "source": [
    "@time foo3(1000000,2000);"
   ]
  },
  {
   "cell_type": "code",
   "execution_count": 31,
   "metadata": {
    "collapsed": false
   },
   "outputs": [
    {
     "name": "stdout",
     "output_type": "stream",
     "text": [
      "  2.892965 seconds (8 allocations: 15.259 MB, 0.04% gc time)\n"
     ]
    }
   ],
   "source": [
    "@time foo4(1000000,2000);"
   ]
  },
  {
   "cell_type": "code",
   "execution_count": 32,
   "metadata": {
    "collapsed": true
   },
   "outputs": [],
   "source": [
    "nrow=10000\n",
    "ncol=1000\n",
    "X=randn(nrow,ncol);"
   ]
  },
  {
   "cell_type": "code",
   "execution_count": 58,
   "metadata": {
    "collapsed": true
   },
   "outputs": [],
   "source": [
    "sol=randn(ncol)\n",
    "ycorr=zeros(nrow);"
   ]
  },
  {
   "cell_type": "code",
   "execution_count": 35,
   "metadata": {
    "collapsed": false
   },
   "outputs": [
    {
     "name": "stdout",
     "output_type": "stream",
     "text": [
      "  0.004169 seconds (8 allocations: 78.375 KB)\n"
     ]
    }
   ],
   "source": [
    "@time BLAS.axpy!(-1.0,X*sol,ycorr);"
   ]
  },
  {
   "cell_type": "code",
   "execution_count": 62,
   "metadata": {
    "collapsed": false
   },
   "outputs": [
    {
     "data": {
      "text/plain": [
       "test (generic function with 1 method)"
      ]
     },
     "execution_count": 62,
     "metadata": {},
     "output_type": "execute_result"
    }
   ],
   "source": [
    "function test(X,sol,ycorr,niter)\n",
    "    for i =1:niter\n",
    "        BLAS.axpy!(-1.0,X*sol,ycorr)\n",
    "    end\n",
    "end"
   ]
  },
  {
   "cell_type": "code",
   "execution_count": 63,
   "metadata": {
    "collapsed": false
   },
   "outputs": [
    {
     "data": {
      "text/plain": [
       "test2 (generic function with 1 method)"
      ]
     },
     "execution_count": 63,
     "metadata": {},
     "output_type": "execute_result"
    }
   ],
   "source": [
    "function test2(X,sol,ycorr,niter)\n",
    "    for i =1:niter\n",
    "        ycorr-=X*sol\n",
    "    end\n",
    "end"
   ]
  },
  {
   "cell_type": "code",
   "execution_count": 64,
   "metadata": {
    "collapsed": false
   },
   "outputs": [
    {
     "data": {
      "text/plain": [
       "test3 (generic function with 1 method)"
      ]
     },
     "execution_count": 64,
     "metadata": {},
     "output_type": "execute_result"
    }
   ],
   "source": [
    "function test3(X,sol,ycorr,niter)\n",
    "    for i =1:niter\n",
    "        #sol = randn(ncol)\n",
    "        BLAS.gemv!('N',1.0,X,sol,1.0,ycorr)\n",
    "    end\n",
    "end"
   ]
  },
  {
   "cell_type": "code",
   "execution_count": 49,
   "metadata": {
    "collapsed": false
   },
   "outputs": [
    {
     "name": "stdout",
     "output_type": "stream",
     "text": [
      "  0.000347 seconds (4 allocations: 160 bytes)\n"
     ]
    }
   ],
   "source": [
    "niter=1000\n",
    "@time test(X,sol,ycorr,niter)"
   ]
  },
  {
   "cell_type": "code",
   "execution_count": 54,
   "metadata": {
    "collapsed": false
   },
   "outputs": [
    {
     "name": "stdout",
     "output_type": "stream",
     "text": [
      "  0.001138 seconds (3.00 k allocations: 7.736 MB)\n"
     ]
    }
   ],
   "source": [
    "niter=1000\n",
    "@time test2(X,sol,ycorr,niter)"
   ]
  },
  {
   "cell_type": "code",
   "execution_count": null,
   "metadata": {
    "collapsed": true
   },
   "outputs": [],
   "source": [
    "gemv!(tA, alpha, A, x, beta, y)"
   ]
  },
  {
   "cell_type": "code",
   "execution_count": 59,
   "metadata": {
    "collapsed": false
   },
   "outputs": [
    {
     "data": {
      "text/plain": [
       "10000-element Array{Float64,1}:\n",
       "  10.7252  \n",
       "  12.206   \n",
       "   6.73659 \n",
       "  32.4708  \n",
       "  18.3474  \n",
       "   7.82986 \n",
       " -17.7365  \n",
       "  27.5821  \n",
       " -17.2379  \n",
       " -41.027   \n",
       "  56.5367  \n",
       " -54.0944  \n",
       "  14.4407  \n",
       "   ⋮       \n",
       "  14.239   \n",
       "  45.5786  \n",
       " -19.22    \n",
       "  -9.08581 \n",
       "   9.34264 \n",
       "  43.6002  \n",
       "  39.4071  \n",
       " -24.8009  \n",
       "  -0.992228\n",
       "  28.9838  \n",
       "  -6.73441 \n",
       "   4.22691 "
      ]
     },
     "execution_count": 59,
     "metadata": {},
     "output_type": "execute_result"
    }
   ],
   "source": [
    "BLAS.gemv!('N',1.0,X,sol,1.0,ycorr)"
   ]
  },
  {
   "cell_type": "code",
   "execution_count": 56,
   "metadata": {
    "collapsed": false
   },
   "outputs": [
    {
     "data": {
      "text/html": [
       "4 methods for generic function <b>gemv!</b>:<ul><li> gemv!(trans::<b>Char</b>, alpha::<b>Float64</b>, A::<b>Union{DenseArray{Float64,1},DenseArray{Float64,2},SubArray{Float64,1,A<:DenseArray{T,N},I<:Tuple{Vararg{Union{Colon,Int64,Range{Int64}}}},LD},SubArray{Float64,2,A<:DenseArray{T,N},I<:Tuple{Vararg{Union{Colon,Int64,Range{Int64}}}},LD}}</b>, X::<b>Union{DenseArray{Float64,1},SubArray{Float64,1,A<:DenseArray{T,N},I<:Tuple{Vararg{Union{Colon,Int64,Range{Int64}}}},LD}}</b>, beta::<b>Float64</b>, Y::<b>Union{DenseArray{Float64,1},SubArray{Float64,1,A<:DenseArray{T,N},I<:Tuple{Vararg{Union{Colon,Int64,Range{Int64}}}},LD}}</b>) at <a href=\"https://github.com/JuliaLang/julia/tree/0ff703b40afddf9b705bd6a06d3a59cb4c089ea5/base/linalg/blas.jl#L283\" target=\"_blank\">linalg/blas.jl:283</a><li> gemv!(trans::<b>Char</b>, alpha::<b>Float32</b>, A::<b>Union{DenseArray{Float32,1},DenseArray{Float32,2},SubArray{Float32,1,A<:DenseArray{T,N},I<:Tuple{Vararg{Union{Colon,Int64,Range{Int64}}}},LD},SubArray{Float32,2,A<:DenseArray{T,N},I<:Tuple{Vararg{Union{Colon,Int64,Range{Int64}}}},LD}}</b>, X::<b>Union{DenseArray{Float32,1},SubArray{Float32,1,A<:DenseArray{T,N},I<:Tuple{Vararg{Union{Colon,Int64,Range{Int64}}}},LD}}</b>, beta::<b>Float32</b>, Y::<b>Union{DenseArray{Float32,1},SubArray{Float32,1,A<:DenseArray{T,N},I<:Tuple{Vararg{Union{Colon,Int64,Range{Int64}}}},LD}}</b>) at <a href=\"https://github.com/JuliaLang/julia/tree/0ff703b40afddf9b705bd6a06d3a59cb4c089ea5/base/linalg/blas.jl#L283\" target=\"_blank\">linalg/blas.jl:283</a><li> gemv!(trans::<b>Char</b>, alpha::<b>Complex{Float64}</b>, A::<b>Union{DenseArray{Complex{Float64},1},DenseArray{Complex{Float64},2},SubArray{Complex{Float64},1,A<:DenseArray{T,N},I<:Tuple{Vararg{Union{Colon,Int64,Range{Int64}}}},LD},SubArray{Complex{Float64},2,A<:DenseArray{T,N},I<:Tuple{Vararg{Union{Colon,Int64,Range{Int64}}}},LD}}</b>, X::<b>Union{DenseArray{Complex{Float64},1},SubArray{Complex{Float64},1,A<:DenseArray{T,N},I<:Tuple{Vararg{Union{Colon,Int64,Range{Int64}}}},LD}}</b>, beta::<b>Complex{Float64}</b>, Y::<b>Union{DenseArray{Complex{Float64},1},SubArray{Complex{Float64},1,A<:DenseArray{T,N},I<:Tuple{Vararg{Union{Colon,Int64,Range{Int64}}}},LD}}</b>) at <a href=\"https://github.com/JuliaLang/julia/tree/0ff703b40afddf9b705bd6a06d3a59cb4c089ea5/base/linalg/blas.jl#L283\" target=\"_blank\">linalg/blas.jl:283</a><li> gemv!(trans::<b>Char</b>, alpha::<b>Complex{Float32}</b>, A::<b>Union{DenseArray{Complex{Float32},1},DenseArray{Complex{Float32},2},SubArray{Complex{Float32},1,A<:DenseArray{T,N},I<:Tuple{Vararg{Union{Colon,Int64,Range{Int64}}}},LD},SubArray{Complex{Float32},2,A<:DenseArray{T,N},I<:Tuple{Vararg{Union{Colon,Int64,Range{Int64}}}},LD}}</b>, X::<b>Union{DenseArray{Complex{Float32},1},SubArray{Complex{Float32},1,A<:DenseArray{T,N},I<:Tuple{Vararg{Union{Colon,Int64,Range{Int64}}}},LD}}</b>, beta::<b>Complex{Float32}</b>, Y::<b>Union{DenseArray{Complex{Float32},1},SubArray{Complex{Float32},1,A<:DenseArray{T,N},I<:Tuple{Vararg{Union{Colon,Int64,Range{Int64}}}},LD}}</b>) at <a href=\"https://github.com/JuliaLang/julia/tree/0ff703b40afddf9b705bd6a06d3a59cb4c089ea5/base/linalg/blas.jl#L283\" target=\"_blank\">linalg/blas.jl:283</a></ul>"
      ],
      "text/plain": [
       "# 4 methods for generic function \"gemv!\":\n",
       "gemv!(trans::Char, alpha::Float64, A::Union{DenseArray{Float64,1},DenseArray{Float64,2},SubArray{Float64,1,A<:DenseArray{T,N},I<:Tuple{Vararg{Union{Colon,Int64,Range{Int64}}}},LD},SubArray{Float64,2,A<:DenseArray{T,N},I<:Tuple{Vararg{Union{Colon,Int64,Range{Int64}}}},LD}}, X::Union{DenseArray{Float64,1},SubArray{Float64,1,A<:DenseArray{T,N},I<:Tuple{Vararg{Union{Colon,Int64,Range{Int64}}}},LD}}, beta::Float64, Y::Union{DenseArray{Float64,1},SubArray{Float64,1,A<:DenseArray{T,N},I<:Tuple{Vararg{Union{Colon,Int64,Range{Int64}}}},LD}}) at linalg/blas.jl:283\n",
       "gemv!(trans::Char, alpha::Float32, A::Union{DenseArray{Float32,1},DenseArray{Float32,2},SubArray{Float32,1,A<:DenseArray{T,N},I<:Tuple{Vararg{Union{Colon,Int64,Range{Int64}}}},LD},SubArray{Float32,2,A<:DenseArray{T,N},I<:Tuple{Vararg{Union{Colon,Int64,Range{Int64}}}},LD}}, X::Union{DenseArray{Float32,1},SubArray{Float32,1,A<:DenseArray{T,N},I<:Tuple{Vararg{Union{Colon,Int64,Range{Int64}}}},LD}}, beta::Float32, Y::Union{DenseArray{Float32,1},SubArray{Float32,1,A<:DenseArray{T,N},I<:Tuple{Vararg{Union{Colon,Int64,Range{Int64}}}},LD}}) at linalg/blas.jl:283\n",
       "gemv!(trans::Char, alpha::Complex{Float64}, A::Union{DenseArray{Complex{Float64},1},DenseArray{Complex{Float64},2},SubArray{Complex{Float64},1,A<:DenseArray{T,N},I<:Tuple{Vararg{Union{Colon,Int64,Range{Int64}}}},LD},SubArray{Complex{Float64},2,A<:DenseArray{T,N},I<:Tuple{Vararg{Union{Colon,Int64,Range{Int64}}}},LD}}, X::Union{DenseArray{Complex{Float64},1},SubArray{Complex{Float64},1,A<:DenseArray{T,N},I<:Tuple{Vararg{Union{Colon,Int64,Range{Int64}}}},LD}}, beta::Complex{Float64}, Y::Union{DenseArray{Complex{Float64},1},SubArray{Complex{Float64},1,A<:DenseArray{T,N},I<:Tuple{Vararg{Union{Colon,Int64,Range{Int64}}}},LD}}) at linalg/blas.jl:283\n",
       "gemv!(trans::Char, alpha::Complex{Float32}, A::Union{DenseArray{Complex{Float32},1},DenseArray{Complex{Float32},2},SubArray{Complex{Float32},1,A<:DenseArray{T,N},I<:Tuple{Vararg{Union{Colon,Int64,Range{Int64}}}},LD},SubArray{Complex{Float32},2,A<:DenseArray{T,N},I<:Tuple{Vararg{Union{Colon,Int64,Range{Int64}}}},LD}}, X::Union{DenseArray{Complex{Float32},1},SubArray{Complex{Float32},1,A<:DenseArray{T,N},I<:Tuple{Vararg{Union{Colon,Int64,Range{Int64}}}},LD}}, beta::Complex{Float32}, Y::Union{DenseArray{Complex{Float32},1},SubArray{Complex{Float32},1,A<:DenseArray{T,N},I<:Tuple{Vararg{Union{Colon,Int64,Range{Int64}}}},LD}}) at linalg/blas.jl:283"
      ]
     },
     "execution_count": 56,
     "metadata": {},
     "output_type": "execute_result"
    }
   ],
   "source": [
    "methods(BLAS.gemv!)"
   ]
  }
 ],
 "metadata": {
  "kernelspec": {
   "display_name": "Julia 0.4.0",
   "language": "julia",
   "name": "julia-0.4"
  },
  "language_info": {
   "file_extension": ".jl",
   "mimetype": "application/julia",
   "name": "julia",
   "version": "0.4.0"
  }
 },
 "nbformat": 4,
 "nbformat_minor": 0
}

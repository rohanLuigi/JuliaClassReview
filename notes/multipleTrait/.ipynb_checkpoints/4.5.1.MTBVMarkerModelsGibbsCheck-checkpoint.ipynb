{
 "cells": [
  {
   "cell_type": "code",
   "execution_count": null,
   "metadata": {
    "collapsed": false
   },
   "outputs": [],
   "source": [
    ";pwd"
   ]
  },
  {
   "cell_type": "code",
   "execution_count": null,
   "metadata": {
    "collapsed": true
   },
   "outputs": [],
   "source": [
    "using Distributions"
   ]
  },
  {
   "cell_type": "code",
   "execution_count": null,
   "metadata": {
    "collapsed": false
   },
   "outputs": [],
   "source": [
    "srand(1234)\n",
    "nTr = 2\n",
    "n,p = 10,100\n",
    "Q = convert(Array{Float64,2},rand(Binomial(2,0.5),n,p))\n",
    "α2 = randn(p)\n",
    "α1 = randn(p)*2 + α2\n",
    "Alpha = [α1 α2]'\n",
    "a1 = Q*α1\n",
    "a2 = Q*α2;\n",
    "R = cov([a1 a2])\n",
    "R0 = R\n",
    "L  = chol(R0)\n",
    "e  = L'*randn(2,size(Q,1))\n",
    "Y = Alpha*Q' + e\n",
    "G = cov([α1 α2])\n",
    "Q = Q - ones(n)*mean(Q,1)\n",
    "G0 = G"
   ]
  },
  {
   "cell_type": "code",
   "execution_count": null,
   "metadata": {
    "collapsed": false
   },
   "outputs": [],
   "source": [
    "YCorr = copy(Y) #- Alpha*Q'\n",
    "μ = zeros(nTr,1)"
   ]
  },
  {
   "cell_type": "code",
   "execution_count": null,
   "metadata": {
    "collapsed": false
   },
   "outputs": [],
   "source": [
    "νG = 10 + nTr\n",
    "νR = 10 + nTr\n",
    "PG  = G*(νG - nTr - 1)\n",
    "PR  = R*(νR - nTr - 1)"
   ]
  },
  {
   "cell_type": "code",
   "execution_count": null,
   "metadata": {
    "collapsed": false
   },
   "outputs": [],
   "source": [
    "niter = 5000\n",
    "GMean = zeros(nTr,nTr)\n",
    "RMean = zeros(nTr,nTr)\n",
    "Alpha = zeros(nTr,p);"
   ]
  },
  {
   "cell_type": "code",
   "execution_count": null,
   "metadata": {
    "collapsed": false,
    "scrolled": true
   },
   "outputs": [],
   "source": [
    "srand(1234)\n",
    "for iter = 1:niter\n",
    "    iR = inv(R)\n",
    "    iG = inv(G)\n",
    "    # sample μ\n",
    "    # unadjust for mu\n",
    "    YCorr = YCorr .+ μ\n",
    "    Lhs = n*iR\n",
    "    Rhs = iR * sum(YCorr,2)\n",
    "    for i=1:nTr\n",
    "        lhs = Lhs[i,i]\n",
    "        ilhs = 1/lhs\n",
    "        rhs = (Rhs[i] - Lhs[i,:]*μ)[1,1] # + lhs*μ[i]\n",
    "        mu  = ilhs*rhs + μ[i]\n",
    "        μ[i,1] = mu + randn()*sqrt(ilhs)\n",
    "    end\n",
    "    # adjust for μ\n",
    "    YCorr = YCorr .- μ;\n",
    "\n",
    "    # sample locus effects\n",
    "    for locus=1:p\n",
    "        # unadjust for locus\n",
    "        YCorr = YCorr .+ Alpha[:,locus]*Q[:,locus]'\n",
    "        Rhs = iR*YCorr*Q[:,locus]\n",
    "        Lhs = dot(Q[:,locus],Q[:,locus])*iR + iG \n",
    "        #println(YCorr[1,:])\n",
    "        #println(\"Rhs\",Rhs)\n",
    "        #println(\"Lhs\",Lhs)\n",
    "\n",
    "        for i=1:nTr        \n",
    "            lhs  = Lhs[i,i]\n",
    "            ilhs = 1/lhs\n",
    "            rhs  = (Rhs[i] - Lhs[i,:]*Alpha[:,locus])[1,1] # + lhs*μ[i]\n",
    "            #println(\"lhs rhs\",lhs,\" \",rhs)\n",
    "            mu   = ilhs*rhs + Alpha[i,locus] \n",
    "            Alpha[i,locus] = mu + randn()*sqrt(ilhs)\n",
    "        end\n",
    "        # adjust for locus j\n",
    "        YCorr = YCorr .- Alpha[:,locus]*Q[:,locus]'\n",
    "        #println(\"effects\", Alpha[:,locus])\n",
    "    end\n",
    "    SR = YCorr*YCorr'\n",
    "    SG = Alpha*Alpha'\n",
    "\n",
    "    R = rand(InverseWishart(νR + n, PR + SR))\n",
    "    G = rand(InverseWishart(νG + p, PG + SG))\n",
    "    RMean  += (R  - RMean)/iter  \n",
    "    GMean  += (G  - GMean)/iter \n",
    "    if iter%100==0\n",
    "        println(\"at sample: \",iter,\"\\n\")\n",
    "        println(\"GMMean\",GMean)\n",
    "    end\n",
    "    #println(RMean)\n",
    "end"
   ]
  },
  {
   "cell_type": "code",
   "execution_count": null,
   "metadata": {
    "collapsed": false,
    "scrolled": true
   },
   "outputs": [],
   "source": [
    "G0"
   ]
  },
  {
   "cell_type": "code",
   "execution_count": null,
   "metadata": {
    "collapsed": false
   },
   "outputs": [],
   "source": [
    "GMean"
   ]
  }
 ],
 "metadata": {
  "kernelspec": {
   "display_name": "Julia 0.4.5",
   "language": "julia",
   "name": "julia-0.4"
  },
  "language_info": {
   "file_extension": ".jl",
   "mimetype": "application/julia",
   "name": "julia",
   "version": "0.4.5"
  }
 },
 "nbformat": 4,
 "nbformat_minor": 0
}

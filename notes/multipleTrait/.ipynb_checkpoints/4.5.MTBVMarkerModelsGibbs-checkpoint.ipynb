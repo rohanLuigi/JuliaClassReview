{
 "cells": [
  {
   "cell_type": "markdown",
   "metadata": {
    "slideshow": {
     "slide_type": "slide"
    }
   },
   "source": [
    "## Tools for Building Henderson's Mixed Model Equations for Multiple Trait Model\n",
    "\n",
    "Adding markers with random effects in multiple trait model. Added estimation of covariance matrix of marker effects.\n"
   ]
  },
  {
   "cell_type": "code",
   "execution_count": 1,
   "metadata": {
    "collapsed": false,
    "slideshow": {
     "slide_type": "slide"
    }
   },
   "outputs": [],
   "source": [
    "using PedModule\n",
    "using DataFrames\n",
    "using Distributions"
   ]
  },
  {
   "cell_type": "code",
   "execution_count": 2,
   "metadata": {
    "collapsed": false,
    "slideshow": {
     "slide_type": "slide"
    }
   },
   "outputs": [
    {
     "data": {
      "text/plain": [
       "Jacobi (generic function with 1 method)"
      ]
     },
     "execution_count": 2,
     "metadata": {},
     "output_type": "execute_result"
    }
   ],
   "source": [
    "function Gibbs(A,x,b,nIter;outFreq=100)\n",
    "    n = size(x,1)\n",
    "    xMean = zeros(n)\n",
    "    for iter = 1:nIter\n",
    "        if iter%outFreq==0\n",
    "            println(\"at sample: \",iter)\n",
    "        end\n",
    "        for i=1:n\n",
    "            cVar = 1.0/A[i,i]\n",
    "            cMean   = cVar*(b[i] - A[:,i]'x)[1,1] + x[i]\n",
    "            x[i]    = randn()*sqrt(cVar) + cMean \n",
    "        end\n",
    "        xMean += (x - xMean)/iter\n",
    "    end\n",
    "    return xMean\n",
    "end\n",
    "\n",
    "function Gibbs(A,x,b)\n",
    "    n = size(x,1)\n",
    "    for i=1:n\n",
    "        cVar = 1.0/A[i,i]\n",
    "        cMean   = cVar*(b[i] - A[:,i]'x)[1,1] + x[i]\n",
    "        x[i]    = randn()*sqrt(cVar) + cMean \n",
    "    end\n",
    "end\n",
    "\n",
    "function GaussSeidel(A,x,b;tol=0.000001)\n",
    "    n = size(x,1)\n",
    "    for i=1:n\n",
    "        x[i] = ((b[i] - A[:,i]'x)/A[i,i])[1,1] + x[i]\n",
    "    end\n",
    "    diff = sum((A*x-b).^2)\n",
    "    iter = 0\n",
    "    while ((diff/n > tol) & (iter<1000))\n",
    "        iter += 1\n",
    "        for i=1:n\n",
    "            x[i] = ((b[i] - A[:,i]'x)/A[i,i])[1,1] + x[i]\n",
    "        end\n",
    "        diff = sum((A*x-b).^2)\n",
    "        #println(iter,\" \",diff/n)\n",
    "    end\n",
    "    return x\n",
    "end\n",
    "\n",
    "function Jacobi(A,x,b,p;tol=0.000001)\n",
    "    D       = diag(A)\n",
    "    res     = A*x\n",
    "    resid   = b-res\n",
    "    tempSol = resid./D\n",
    "    diff    = sum(resid.^2)\n",
    "    n    = size(A,1)\n",
    "    iter = 0\n",
    "    while ((diff/n > tol) & (iter<1000))\n",
    "        iter += 1\n",
    "        x = p*tempSol + (1-p)*x\n",
    "        res     = A*x\n",
    "        resid   = b-res\n",
    "        tempSol = resid./D + x\n",
    "        diff    = sum(resid.^2)\n",
    "        println(iter,\" \",diff/n)\n",
    "    end\n",
    "    return x\n",
    "end"
   ]
  },
  {
   "cell_type": "code",
   "execution_count": 3,
   "metadata": {
    "collapsed": false
   },
   "outputs": [],
   "source": [
    "type TermStrVal\n",
    "    str::AbstractString\n",
    "    value::Float64\n",
    "end\n",
    "\n",
    "type TermLvlVal\n",
    "    level::AbstractString\n",
    "    value::Float64\n",
    "end\n",
    "\n",
    "type ModelTerm \n",
    "    iModel::Int64\n",
    "    trmStr::AbstractString\n",
    "    nFactors::Int64\n",
    "    factors::Array{Symbol,1}\n",
    "    str::Array{AbstractString,1}            # used to store the data for this term as strings\n",
    "    val::Array{Float64,1}\n",
    "    startPos::Int64                         # start pos in HMME\n",
    "    nLevels::Int64                           \n",
    "    X::SparseMatrixCSC{Float64,Int64}\n",
    "    names::Array{Any,1}\n",
    "end\n",
    "\n",
    "type ResVar\n",
    "    R0::Array{Float64,2}\n",
    "    RiDict::Dict{BitArray{1},Array{Float64,2}}\n",
    "end   \n",
    "\n",
    "type MarkerMatrix\n",
    "    X::Array{Float64,2}\n",
    "    xArray::Array{Array{Float64,1},1}\n",
    "    markerMeans::Array{Float64,2}\n",
    "    mean2pq::Float64\n",
    "    G::Array{Float64,2}\n",
    "    centered::Bool\n",
    "    function MarkerMatrix(X::Array{Float64,2},G::Array{Float64,2})\n",
    "        markerMeans = center!(X) #centering\n",
    "        p           = markerMeans/2.0\n",
    "        mean2pq     = (2*p*(1-p)')[1,1]\n",
    "        xArray      = get_column_ref(X)\n",
    "        new(X,xArray,markerMeans,mean2pq,G,true)\n",
    "    end\n",
    "end\n",
    "\n",
    "type MME\n",
    "    modelVec::Array{AbstractString,1}\n",
    "    modelTerms::Array{ModelTerm,1}\n",
    "    modelTermDict::Dict{AbstractString,ModelTerm}\n",
    "    lhsVec::Array{Symbol,1}\n",
    "    covVec::Array{Symbol,1}\n",
    "    pedTrmVec::Array{AbstractString,1}\n",
    "    X\n",
    "    ySparse\n",
    "    mmeLhs\n",
    "    mmeRhs\n",
    "    ped\n",
    "    Gi::Array{Float64,2}\n",
    "    R::Array{Float64,2}\n",
    "    Ai\n",
    "    mmePos::Int64\n",
    "    missingPattern\n",
    "    resVar\n",
    "    M\n",
    "end"
   ]
  },
  {
   "cell_type": "code",
   "execution_count": 4,
   "metadata": {
    "collapsed": false
   },
   "outputs": [
    {
     "data": {
      "text/plain": [
       "sampleMissingResiduals (generic function with 1 method)"
      ]
     },
     "execution_count": 4,
     "metadata": {},
     "output_type": "execute_result"
    }
   ],
   "source": [
    "function mkDict(a)\n",
    "    aUnique = unique(a)\n",
    "    d = Dict()\n",
    "    names = Array(Any,size(aUnique,1))\n",
    "    for (i,s) in enumerate(aUnique)\n",
    "        names[i] = s\n",
    "        d[s] = i\n",
    "    end\n",
    "    return d,names\n",
    "end\n",
    "\n",
    "function getRi(resVar::ResVar,sel::BitArray{1})\n",
    "    if haskey(resVar.RiDict,sel)\n",
    "        return resVar.RiDict[sel]\n",
    "    end\n",
    "    n = size(resVar.R0,1)\n",
    "    RZ = zeros(n,n)\n",
    "    RZ[sel,sel] = inv(resVar.R0[sel,sel])\n",
    "    resVar.RiDict[sel] = copy(RZ)\n",
    "    return RZ\n",
    "end\n",
    "\n",
    "function getTerm(trmStr,m)\n",
    "    trm = ModelTerm(m,string(m)*\":\"*trmStr,0,[],[],[],0,0,spzeros(0,0),[])\n",
    "    factorVec = split(trmStr,\"*\")\n",
    "    trm.nFactors = length(factorVec)\n",
    "    trm.factors = [symbol(strip(f)) for f in factorVec]\n",
    "    return trm\n",
    "end\n",
    "\n",
    "function initMME(models::AbstractString,R::Array{Float64,2})\n",
    "    # returns an MME object for muilding the mme corresponding \n",
    "    # to the input string\n",
    "    if models==\"\"\n",
    "        println(\"modelEquation is empty\\n\")\n",
    "        return\n",
    "    end\n",
    "    modelVec = split(models,[';','\\n'],keep=false)\n",
    "    nModels  = size(modelVec,1)\n",
    "    lhsVec   = Symbol[]\n",
    "    modelTerms = ModelTerm[]\n",
    "    dict = Dict{AbstractString,ModelTerm}()\n",
    "    for (m,model) = enumerate(modelVec)\n",
    "        lhsRhs = split(model,\"=\")\n",
    "        lhsVec = [lhsVec;symbol(strip(lhsRhs[1]))]\n",
    "        rhs = strip(lhsRhs[2])\n",
    "        rhsVec = split(rhs,\"+\")    \n",
    "        mTrms = [getTerm(strip(trmStr),m) for trmStr in rhsVec]\n",
    "        modelTerms = [modelTerms; mTrms]\n",
    "        for (i,trm) = enumerate(modelTerms) \n",
    "            dict[trm.trmStr] = modelTerms[i]\n",
    "        end \n",
    "    end\n",
    "    return MME(modelVec,modelTerms,dict,lhsVec,[],[],0,0,0,0,0,Array(Float64,1,1),R,0,1,0,0,0)\n",
    "end \n",
    "\n",
    "function getData(trm::ModelTerm,df::DataFrame,mme::MME)\n",
    "    nObs = size(df,1)\n",
    "    trm.str = Array(AbstractString,nObs)\n",
    "    trm.val = Array(Float64,nObs)\n",
    "    if(trm.factors[1] == :intercept)                     # from Melanie's HW\n",
    "        str = fill(string(trm.factors[1]),nObs)\n",
    "        val = fill(1.0,nObs)\n",
    "    else\n",
    "        myDf = df[trm.factors]\n",
    "        if trm.factors[1] in mme.covVec\n",
    "            str = fill(string(trm.factors[1]),nObs)\n",
    "            val = df[trm.factors[1]]\n",
    "        else\n",
    "            str = [string(i) for i in df[trm.factors[1]]]\n",
    "            val = fill(1.0,nObs)\n",
    "        end\n",
    "        for i=2:trm.nFactors\n",
    "            if trm.factors[i] in mme.covVec\n",
    "                str = str .* fill(\"*\"*string(trm.factors[i]),nObs)\n",
    "                val = val .* df[trm.factors[i]]\n",
    "            else\n",
    "                str = str .* fill(\"*\",nObs) .* [string(j) for j in df[trm.factors[i]]]\n",
    "                val = val .* fill(1.0,nObs)\n",
    "            end\n",
    "        end\n",
    "    end\n",
    "    trm.str = str\n",
    "    trm.val = val\n",
    "end\n",
    "\n",
    "getFactor1(str) = [strip(i) for i in split(str,\"*\")][1]\n",
    "\n",
    "function getX(trm,mme::MME)\n",
    "    pedSize = 0\n",
    "    nObs  = size(trm.str,1)\n",
    "    if trm.trmStr in mme.pedTrmVec\n",
    "        trm.names   = PedModule.getIDs(mme.ped)\n",
    "        trm.nLevels = length(mme.ped.idMap)\n",
    "        xj = round(Int64,[mme.ped.idMap[getFactor1(i)].seqID for i in trm.str])\n",
    "    else\n",
    "        dict,trm.names  = mkDict(trm.str)\n",
    "        trm.nLevels     = length(dict)\n",
    "        xj    = round(Int64,[dict[i] for i in trm.str]) \n",
    "    end\n",
    "    xi    = (trm.iModel-1)*nObs + collect(1:nObs)\n",
    "    xv    = trm.val\n",
    "    if mme.ped!=0\n",
    "        pedSize = length(mme.ped.idMap)\n",
    "        if trm.trmStr in mme.pedTrmVec\n",
    "            # This is to ensure the X matrix for \n",
    "            # additive effect has the correct number of columns\n",
    "            ii = 1         # adding a zero to\n",
    "            jj = pedSize   # the last column in row 1\n",
    "            vv = [0.0]\n",
    "            xi = [xi;ii]\n",
    "            xj = [xj;jj]\n",
    "            xv = [xv;vv]\n",
    "        end\n",
    "    end \n",
    "    #make sure X has nObs*nModels rows\n",
    "    nModels = size(mme.lhsVec,1)\n",
    "    xi = [xi;1;nObs*nModels]\n",
    "    xj = [xj;1;1]\n",
    "    xv = [xv;0;0]\n",
    "    trm.X = sparse(xi,xj,xv)\n",
    "    trm.startPos = mme.mmePos\n",
    "    mme.mmePos  += trm.nLevels\n",
    "end\n",
    "\n",
    "function mkRi(mme::MME,df::DataFrame)\n",
    "    resVar = ResVar(mme.R,Dict())\n",
    "    tstMsng = !isna(df[mme.lhsVec[1]])\n",
    "    for i=2:size(mme.lhsVec,1)\n",
    "        tstMsng = [tstMsng !isna(df[mme.lhsVec[i]])]\n",
    "    end\n",
    "    mme.missingPattern = tstMsng\n",
    "    n    = size(tstMsng,2)\n",
    "    nObs = size(tstMsng,1)\n",
    "    ii = Array(Int64,nObs*n^2)\n",
    "    jj = Array(Int64,nObs*n^2)\n",
    "    vv = Array(Float64,nObs*n^2)\n",
    "    pos = 1\n",
    "    for i=1:size(tstMsng,1)\n",
    "        sel = reshape(tstMsng[i,:],n)\n",
    "        Ri  = getRi(resVar,sel)\n",
    "        for ti=1:n\n",
    "            tii = (ti-1)*nObs + i\n",
    "            for tj=1:n\n",
    "                tjj = (tj-1)*nObs + i\n",
    "                ii[pos] = tii\n",
    "                jj[pos] = tjj\n",
    "                vv[pos] = Ri[ti,tj]\n",
    "                pos += 1\n",
    "            end\n",
    "        end         \n",
    "    end\n",
    "    mme.resVar = resVar\n",
    "    return sparse(ii,jj,vv)\n",
    "end\n",
    "\n",
    "function getMME(mme::MME, df::DataFrame)\n",
    "    mme.mmePos = 1\n",
    "    for trm in mme.modelTerms\n",
    "        getData(trm,df,mme)\n",
    "        getX(trm,mme)\n",
    "    end\n",
    "    n   = size(mme.modelTerms,1)\n",
    "    trm = mme.modelTerms[1]\n",
    "    X   = trm.X\n",
    "    for i=2:n\n",
    "        trm = mme.modelTerms[i]\n",
    "        X = [X trm.X]\n",
    "    end\n",
    "    y = convert(Array,df[mme.lhsVec[1]],0.0)\n",
    "    for i=2:size(mme.lhsVec,1)\n",
    "        y    = [y; convert(Array,df[mme.lhsVec[i]],0.0)] \n",
    "    end\n",
    "    N  = size(y,1)\n",
    "    ii = 1:N\n",
    "    jj = fill(1,N)\n",
    "    vv = y\n",
    "    ySparse = sparse(ii,jj,vv)\n",
    "    nObs = size(df,1)\n",
    "    Ri = mkRi(mme,df)\n",
    "    mme.X = X\n",
    "    mme.ySparse = ySparse \n",
    "    mme.mmeLhs = X'Ri*X\n",
    "    mme.mmeRhs = X'Ri*ySparse\n",
    "    if mme.ped != 0\n",
    "        ii,jj,vv = PedModule.HAi(mme.ped)\n",
    "        HAi = sparse(ii,jj,vv)\n",
    "        mme.Ai = HAi'HAi\n",
    "        addA(mme)\n",
    "    end   \n",
    "end\n",
    "\n",
    "function getNames(mme)\n",
    "    names = Array(String,0)\n",
    "    for trm in mme.modelTerms\n",
    "        for name in trm.names\n",
    "            push!(names,trm.trmStr*\": \"*name)\n",
    "        end\n",
    "    end\n",
    "    return names\n",
    "end  \n",
    "\n",
    "function covList(mme::MME, covStr::AbstractString)\n",
    "    covVec = split(covStr,\" \",false) \n",
    "    mme.covVec = [symbol(i) for i in covVec]\n",
    "    nothing\n",
    "end\n",
    "\n",
    "function getSolJ(mme::MME, df::DataFrame)\n",
    "    if size(mme.mmeRhs)==() \n",
    "        getMME(mme,df)\n",
    "    end\n",
    "    p = size(mme.mmeRhs,1)\n",
    "    return [getNames(mme) Jacobi(mme.mmeLhs,fill(0.0,p),mme.mmeRhs,0.3,tol=0.000001)]\n",
    "end\n",
    "\n",
    "function getSolG(mme::MME, df::DataFrame)\n",
    "    if size(mme.mmeRhs)==() \n",
    "        getMME(mme,df)\n",
    "    end\n",
    "    p = size(mme.mmeRhs,1)\n",
    "    return [getNames(mme) GaussSeidel(mme.mmeLhs,fill(0.0,p),mme.mmeRhs,tol=0.000001)]\n",
    "end\n",
    "\n",
    "function setAsRandom(mme::MME,randomStr::AbstractString,ped::PedModule.Pedigree, G::Array{Float64,2})\n",
    "    pedTrmVec = split(randomStr,\" \",keep=false)\n",
    "    res = []\n",
    "    for trm in pedTrmVec\n",
    "        for (m,model) = enumerate(mme.modelVec)\n",
    "            strVec  = split(model,['=','+'])\n",
    "            strpVec = [strip(i) for i in strVec]\n",
    "            if trm in strpVec\n",
    "                res = [res;string(m)*\":\"*trm]\n",
    "            end\n",
    "        end\n",
    "    end\n",
    "    mme.pedTrmVec = res\n",
    "    mme.ped = ped\n",
    "    mme.Gi = inv(G)\n",
    "    nothing\n",
    "end\n",
    "\n",
    "function addA(mme::MME)\n",
    "    pedTrmVec = mme.pedTrmVec\n",
    "    for (i,trmi) = enumerate(pedTrmVec)\n",
    "        pedTrmi  = mme.modelTermDict[trmi]\n",
    "        startPosi  = pedTrmi.startPos\n",
    "        endPosi    = startPosi + pedTrmi.nLevels - 1\n",
    "        for (j,trmj) = enumerate(pedTrmVec)\n",
    "            pedTrmj  = mme.modelTermDict[trmj]\n",
    "            startPosj  = pedTrmj.startPos\n",
    "            endPosj    = startPosj + pedTrmj.nLevels - 1 \n",
    "            mme.mmeLhs[startPosi:endPosi,startPosj:endPosj] = \n",
    "            mme.mmeLhs[startPosi:endPosi,startPosj:endPosj] + mme.Ai*mme.Gi[i,j] \n",
    "        end\n",
    "    end\n",
    "end\n",
    "\n",
    "function sampleMissingResiduals(mme,resVec)\n",
    "    msngPtrn = mme.missingPattern\n",
    "    n,k = size(msngPtrn)\n",
    "    yIndex = collect(0:k-1)*n\n",
    "    allTrue = fill(true,k)\n",
    "    for i=1:n\n",
    "        notMsng = reshape(msngPtrn[i,:,],k)\n",
    "        if (notMsng!=allTrue)\n",
    "            msng    = !notMsng\n",
    "            nMsng   = sum(msng)\n",
    "            resi    = resVec[yIndex+i][notMsng]\n",
    "            Ri      = mme.resVar.RiDict[notMsng][notMsng,notMsng]\n",
    "            Rc      = mme.R[msng,notMsng]\n",
    "            L       = chol(mme.R[msng,msng] - Rc*Ri*Rc')'\n",
    "            resVec[(yIndex+i)[msng]] = Rc*Ri*resi + L*randn(nMsng) \n",
    "        end\n",
    "    end\n",
    "end"
   ]
  },
  {
   "cell_type": "raw",
   "metadata": {},
   "source": [
    "      15 In[4]; getMME; line: 180\n",
    "       5 In[4]; mkRi; line: 140\n",
    "        1 abstractarray.jl; getindex; line: 468\n",
    "         1 multidimensional.jl; _unsafe_getindex; line: 193\n",
    "          1 ...lib/julia/sys.dylib; call; (unknown line)\n",
    "           1 ...lib/julia/sys.dylib; call; (unknown line)\n",
    "        4 abstractarray.jl; reshape; line: 215\n",
    "         2 bitarray.jl; reshape; line: 285\n",
    "          1 ...lib/julia/sys.dylib; call; (unknown line)\n",
    "       1 In[4]; mkRi; line: 141\n",
    "        1 In[4]; getRi; line: 13\n",
    "         1 dict.jl; ht_keyindex; line: 567\n",
    "          1 ...lib/julia/sys.dylib; ==; (unknown line)\n",
    "       1 In[4]; mkRi; line: 142\n",
    "       1 In[4]; mkRi; line: 143\n",
    "       1 In[4]; mkRi; line: 144\n",
    "       2 In[4]; mkRi; line: 145\n",
    "       1 In[4]; mkRi; line: 146\n",
    "       1 In[4]; mkRi; line: 147\n",
    "       1 In[4]; mkRi; line: 148\n",
    "       1 In[4]; mkRi; line: 149\n",
    "        1 .../lib/julia/sys.dylib; done; (unknown line)\n",
    "      1  In[4]; getMME; line: 183\n",
    "       1 sparse/linalg.jl; *; line: 108\n",
    "        1 sparse/linalg.jl; spmatmul; line: 152\n",
    "\n"
   ]
  },
  {
   "cell_type": "code",
   "execution_count": 5,
   "metadata": {
    "collapsed": false
   },
   "outputs": [],
   "source": [
    "ped = PedModule.mkPed(\"sim.ped\");"
   ]
  },
  {
   "cell_type": "code",
   "execution_count": 6,
   "metadata": {
    "collapsed": true
   },
   "outputs": [],
   "source": [
    "dfGen = readtable(\"sim.gen\", separator = ' ');"
   ]
  },
  {
   "cell_type": "code",
   "execution_count": 32,
   "metadata": {
    "collapsed": false
   },
   "outputs": [],
   "source": [
    "srand(1234)\n",
    "Q = convert(Array{Float64,2},dfGen[:,collect(2:end)]);\n",
    "α1 = randn(200)\n",
    "α2 = randn(200) + 0.5α1\n",
    "a1 = Q*α1\n",
    "a2 = Q*α2;"
   ]
  },
  {
   "cell_type": "code",
   "execution_count": 33,
   "metadata": {
    "collapsed": false
   },
   "outputs": [
    {
     "data": {
      "text/plain": [
       "2x2 Array{Float64,2}:\n",
       " 58.4077  24.6024\n",
       " 24.6024  67.2585"
      ]
     },
     "execution_count": 33,
     "metadata": {},
     "output_type": "execute_result"
    }
   ],
   "source": [
    "R = cov([a1 a2])"
   ]
  },
  {
   "cell_type": "code",
   "execution_count": 81,
   "metadata": {
    "collapsed": false
   },
   "outputs": [
    {
     "data": {
      "text/plain": [
       "2x2 Array{Float64,2}:\n",
       " 0.292038  0.123012\n",
       " 0.123012  0.336293"
      ]
     },
     "execution_count": 81,
     "metadata": {},
     "output_type": "execute_result"
    }
   ],
   "source": [
    "GM  = R./200"
   ]
  },
  {
   "cell_type": "code",
   "execution_count": 80,
   "metadata": {
    "collapsed": false,
    "scrolled": true
   },
   "outputs": [],
   "source": [
    "R0 = R\n",
    "L  = chol(R0)\n",
    "e  = L'*randn(2,size(Q,1))\n",
    "y = [a1 a2] + e';"
   ]
  },
  {
   "cell_type": "code",
   "execution_count": 39,
   "metadata": {
    "collapsed": false
   },
   "outputs": [
    {
     "data": {
      "text/plain": [
       "2x2 Array{Float64,2}:\n",
       " 56.8318  23.763 \n",
       " 23.763   66.7894"
      ]
     },
     "execution_count": 39,
     "metadata": {},
     "output_type": "execute_result"
    }
   ],
   "source": [
    "cov(e')"
   ]
  },
  {
   "cell_type": "code",
   "execution_count": 57,
   "metadata": {
    "collapsed": false
   },
   "outputs": [
    {
     "data": {
      "text/plain": [
       "2x2 Array{Float64,2}:\n",
       " 114.822    48.4003\n",
       "  48.4003  134.101 "
      ]
     },
     "execution_count": 57,
     "metadata": {},
     "output_type": "execute_result"
    }
   ],
   "source": [
    "cov(y)"
   ]
  },
  {
   "cell_type": "code",
   "execution_count": 40,
   "metadata": {
    "collapsed": false
   },
   "outputs": [],
   "source": [
    "df2 = DataFrame(Animal = dfGen[:,1], y1=y[:,1],y2=y[:,2]);"
   ]
  },
  {
   "cell_type": "code",
   "execution_count": 41,
   "metadata": {
    "collapsed": false,
    "scrolled": true
   },
   "outputs": [
    {
     "data": {
      "text/html": [
       "<table class=\"data-frame\"><tr><th></th><th>Animal</th><th>y1</th><th>y2</th></tr><tr><th>1</th><td>10102</td><td>5.919949392746034</td><td>0.7235531261963493</td></tr><tr><th>2</th><td>10103</td><td>-17.36969088823628</td><td>11.610884248971198</td></tr><tr><th>3</th><td>10104</td><td>-2.370795821095914</td><td>11.591462275367984</td></tr><tr><th>4</th><td>10105</td><td>-4.562728519081498</td><td>3.593927517577562</td></tr><tr><th>5</th><td>10106</td><td>-3.7714944777212143</td><td>-13.901146146503452</td></tr><tr><th>6</th><td>10107</td><td>20.87498656890901</td><td>-2.8062396106490928</td></tr></table>"
      ],
      "text/plain": [
       "6x3 DataFrames.DataFrame\n",
       "| Row | Animal | y1       | y2       |\n",
       "|-----|--------|----------|----------|\n",
       "| 1   | 10102  | 5.91995  | 0.723553 |\n",
       "| 2   | 10103  | -17.3697 | 11.6109  |\n",
       "| 3   | 10104  | -2.3708  | 11.5915  |\n",
       "| 4   | 10105  | -4.56273 | 3.59393  |\n",
       "| 5   | 10106  | -3.77149 | -13.9011 |\n",
       "| 6   | 10107  | 20.875   | -2.80624 |"
      ]
     },
     "execution_count": 41,
     "metadata": {},
     "output_type": "execute_result"
    }
   ],
   "source": [
    "head(df2)"
   ]
  },
  {
   "cell_type": "code",
   "execution_count": 42,
   "metadata": {
    "collapsed": false
   },
   "outputs": [],
   "source": [
    "models = \"y1 = intercept ;\n",
    "          y2 = intercept \"\n",
    "mme = initMME(models,R)\n",
    "nothing"
   ]
  },
  {
   "cell_type": "markdown",
   "metadata": {},
   "source": [
    "##### functions for markers"
   ]
  },
  {
   "cell_type": "code",
   "execution_count": 43,
   "metadata": {
    "collapsed": false
   },
   "outputs": [
    {
     "data": {
      "text/plain": [
       "sample_effects_ycorr! (generic function with 1 method)"
      ]
     },
     "execution_count": 43,
     "metadata": {},
     "output_type": "execute_result"
    }
   ],
   "source": [
    "function initVec(a::Float64,x::Array{Float64,1})\n",
    "    for v in x\n",
    "        v = a\n",
    "    end\n",
    "end\n",
    "\n",
    "function get_column(X,j)\n",
    "    nrow,ncol = size(X)\n",
    "    if j>ncol||j<0\n",
    "        error(\"column number is wrong!\")\n",
    "    end\n",
    "    indx = 1 + (j-1)*nrow\n",
    "    ptr = pointer(X,indx)\n",
    "    pointer_to_array(ptr,nrow)\n",
    "end\n",
    "\n",
    "function get_column_ref(X)\n",
    "    ncol = size(X)[2]\n",
    "    xArray = Array(Array{Float64,1},ncol)\n",
    "    for i=1:ncol\n",
    "        xArray[i] = get_column(X,i)\n",
    "    end\n",
    "    return xArray\n",
    "end\n",
    "\n",
    "function center!(X)\n",
    "    nrow,ncol = size(X)\n",
    "    colMeans = mean(X,1)\n",
    "    BLAS.axpy!(-1,ones(nrow)*colMeans,X)\n",
    "    return colMeans\n",
    "end\n",
    "\n",
    "function sample_effects_ycorr!(xArray,xpx,yCorr,alphaArray,meanAlpha,invR0,invG0,\n",
    "                               iIter,traiti) \n",
    "    # function to sample effects for trait i\n",
    "    # invR0 is inverse of R0[traiti,traiti]\n",
    "    # invG0 is inverse of G0\n",
    "    \n",
    "    nEffects = length(xArray)\n",
    "    α = alphaArray[traiti] # vector of effects for traiti across all loci\n",
    "    nTraits = length(alphaArray)\n",
    "    β = zeros(nTraits)     # vector of effects for locus j across all traits\n",
    "    for j=1:nEffects\n",
    "        for k=1:nTraits\n",
    "            β[k] = alphaArray[k][j]\n",
    "        end\n",
    "        x        = xArray[j]\n",
    "        lhs      = xpx[j]*invR0 + invG0[traiti,traiti]\n",
    "        rhs      = dot(x,yCorr) - (invG0[traiti,:]*β)[1]\n",
    "        invLhs   = 1.0/lhs\n",
    "        mean     = invLhs*rhs + α[j]\n",
    "        oldAlpha = α[j]\n",
    "        α[j]     = mean + randn()*sqrt(invLhs)\n",
    "        BLAS.axpy!((oldAlpha-α[j,1])*invR0,x,yCorr)\n",
    "        meanAlpha[j] += (α[j] - meanAlpha[j])/iIter\n",
    "    end\n",
    "end\n"
   ]
  },
  {
   "cell_type": "raw",
   "metadata": {},
   "source": [
    "111 In[95]; sampleMCMC; line: 65\n",
    "      2  In[43]; sample_effects_ycorr!; line: 46\n",
    "      16 In[43]; sample_effects_ycorr!; line: 47\n",
    "      41 In[43]; sample_effects_ycorr!; line: 48\n",
    "       2  linalg/blas.jl; dot; line: 155\n",
    "        1 abstractarray.jl; stride; line: 73\n",
    "       2  linalg/matmul.jl; gemv!; line: 219\n",
    "        1 linalg/matmul.jl; lapack_size; line: 336\n",
    "       1  linalg/matmul.jl; gemv!; line: 223\n",
    "       13 linalg/matmul.jl; gemv!; line: 232\n",
    "        1  ...lib/julia/sys.dylib; stride; (unknown line)\n",
    "        2  linalg/blas.jl; gemv!; line: 283\n",
    "        10 linalg/blas.jl; gemv!; line: 291\n",
    "         1 ...lib/julia/sys.dylib; stride; (unknown line)\n",
    "         2 abstractarray.jl; stride; line: 73\n",
    "       19 multidimensional.jl; _unsafe_getindex; line: 193\n",
    "       1  multidimensional.jl; _unsafe_getindex; line: 194\n",
    "      3  In[43]; sample_effects_ycorr!; line: 49\n",
    "      13 In[43]; sample_effects_ycorr!; line: 50\n",
    "      27 In[43]; sample_effects_ycorr!; line: 52\n",
    "       1 random.jl; gen_rand; line: 88\n",
    "        1 dSFMT.jl; dsfmt_fill_array_close1_open2!; line: 67\n",
    "       1 random.jl; randn_unlikely; line: 1126\n",
    "      6  In[43]; sample_effects_ycorr!; line: 53\n",
    "       5 linalg/blas.jl; axpy!; line: 231\n",
    "        1 abstractarray.jl; stride; line: 78\n",
    "      2  In[43]; sample_effects_ycorr!; line: 54"
   ]
  },
  {
   "cell_type": "markdown",
   "metadata": {},
   "source": [
    "### Adding marker information for multiple-traits"
   ]
  },
  {
   "cell_type": "markdown",
   "metadata": {},
   "source": [
    "Let \n",
    "$$\n",
    "\\mathbf{w}_i = \\mathbf{y}_i - \\mathbf{W}_i\\mathbf{\\theta}_i - \\mathbf{M}\\mathbf{\\theta}_i,\n",
    "$$"
   ]
  },
  {
   "cell_type": "markdown",
   "metadata": {},
   "source": [
    "where $\\mathbf{\\theta}_i$ are the effects in the mixed model for trait $i$, $\\mathbf{W}_i$ is the incidnce matrix for these effects, $\\mathbf{M}$ are the marker covariates, and $\\mathbf{\\theta}_i$ are their effects for trait $i$. Then \"sample_effects_ycorr!\" is called to sample $\\mathbf{\\alpha}_i$ for each trait $i$ with \"yCorr\" set to\n",
    "$$\n",
    "\\text{yCorr} = \\sum_j r^{ij}\\mathbf{w}_i,\n",
    "$$\n",
    "where $r^{ij}$ is the $ij$th element from $\\mathbf{R}_0^{-1}$. After sampling $\\mathbf{\\alpha}_i$, $\\mathbf{W}_i$ is updated as"
   ]
  },
  {
   "cell_type": "markdown",
   "metadata": {},
   "source": [
    "$$\n",
    "\\mathbf{w}_i = \\mathbf{w}_i + \\mathbf{M}(\\mathbf{\\theta}_i^{\\text{old}} - \\mathbf{\\theta}_i^{\\text{new}}).\n",
    "$$"
   ]
  },
  {
   "cell_type": "code",
   "execution_count": 44,
   "metadata": {
    "collapsed": false
   },
   "outputs": [],
   "source": [
    "mme.M = MarkerMatrix(Q,GM); "
   ]
  },
  {
   "cell_type": "code",
   "execution_count": 142,
   "metadata": {
    "collapsed": false
   },
   "outputs": [
    {
     "data": {
      "text/plain": [
       "sampleMCMC (generic function with 1 method)"
      ]
     },
     "execution_count": 142,
     "metadata": {},
     "output_type": "execute_result"
    }
   ],
   "source": [
    "function sampleMCMC(nIter,mme,df;outFreq=100)\n",
    "    getMME(mme,df)\n",
    "    p = size(mme.mmeLhs,1)\n",
    "    nMarkers = size(mme.M.X,2)\n",
    "    sol = fill(0.0,p)\n",
    "    solMean = fill(0.0,p)\n",
    "    GaussSeidel(mme.mmeLhs,sol,mme.mmeRhs,tol=0.000001) \n",
    "    ν = 10\n",
    "    nObs    = size(df,1)\n",
    "    nTraits = size(mme.lhsVec,1)\n",
    "    νR0 = ν + nTraits\n",
    "    R0 = mme.R\n",
    "    PRes = R0*(νR0 - nTraits - 1)\n",
    "    SRes   = zeros(Float64,nTraits,nTraits)\n",
    "    R0Mean = zeros(Float64,nTraits,nTraits)\n",
    "    if mme.ped != 0\n",
    "        pedTrmVec = mme.pedTrmVec\n",
    "        k   = size(pedTrmVec,1)        \n",
    "        νG0 = ν + k\n",
    "        G0  = inv(mme.Gi)\n",
    "        P   = G0*(νG0 - k - 1)\n",
    "        S   = zeros(Float64,k,k)\n",
    "        G0Mean = zeros(Float64,k,k)\n",
    "    end\n",
    "    νGM = 4.0 + nTraits\n",
    "    PM  = mme.M.G*(νGM - nTraits - 1)\n",
    "    SM  = zeros(Float64,nTraits,nTraits) \n",
    "    GMMean = zeros(Float64,nTraits,nTraits) \n",
    "    \n",
    "    mArray = mme.M.xArray\n",
    "    mpm    = [dot(mme.M.X[:,i],mme.M.X[:,i]) for i=1:size(mme.M.X,2)]   \n",
    "    ycorr  = vec(full(mme.ySparse))\n",
    "    wArray         = Array(Array{Float64,1},nTraits)\n",
    "    alphaArray     = Array(Array{Float64,1},nTraits)\n",
    "    meanAlphaArray = Array(Array{Float64,1},nTraits)\n",
    "    for traiti = 1:nTraits\n",
    "        startPosi = (traiti-1)*nObs  + 1\n",
    "        ptr = pointer(ycorr,startPosi) \n",
    "        wArray[traiti] = pointer_to_array(ptr,nObs) \n",
    "        alphaArray[traiti]     = zeros(nMarkers)\n",
    "        meanAlphaArray[traiti] = zeros(nMarkers)\n",
    "    end\n",
    "    yCorr  = zeros(nObs)\n",
    "########################################################################################    \n",
    "    # loop for MCMC sampling\n",
    "    for iter=1:nIter\n",
    "        if iter%outFreq==0\n",
    "            println(\"at sample: \",iter,\"\\n\")\n",
    "        end\n",
    "        # sample effects included in mme.model\n",
    "        Gibbs(mme.mmeLhs,sol,mme.mmeRhs)\n",
    "        ycorr[:] = ycorr[:] - mme.X*sol \n",
    "        # sample marker effects for each traiti\n",
    "        iR0 = inv(mme.R)\n",
    "        iGM = inv(mme.M.G)\n",
    "        for traiti = 1:nTraits # sample alpha_i for each trait\n",
    "            initVec(0.0,yCorr)\n",
    "            for traitj =1:nTraits # making yCorr for trait i\n",
    "                yCorr[:] = yCorr[:] + iR0[traiti,traitj]*wArray[traitj]\n",
    "            end\n",
    "            #sample marker effetcs for trait \n",
    "            oldAlpha = copy(alphaArray[traiti])\n",
    "            sample_effects_ycorr!(mArray,mpm,yCorr,alphaArray,meanAlphaArray[traiti],iR0[traiti,traiti],iGM,iter,traiti)\n",
    "            # update w_i\n",
    "            wArray[traiti][:] = wArray[traiti][:] + mme.M.X*(oldAlpha - alphaArray[traiti])\n",
    "        end\n",
    "        # can make this more efficient by taking advantage of symmetry\n",
    "        if mme.ped != 0\n",
    "            for (i,trmi) = enumerate(pedTrmVec)    \n",
    "                pedTrmi  = mme.modelTermDict[trmi]\n",
    "                startPosi  = pedTrmi.startPos\n",
    "                endPosi    = startPosi + pedTrmi.nLevels - 1\n",
    "                for (j,trmj) = enumerate(pedTrmVec)\n",
    "                    pedTrmj  = mme.modelTermDict[trmj]\n",
    "                    startPosj  = pedTrmj.startPos\n",
    "                    endPosj    = startPosj + pedTrmj.nLevels - 1\n",
    "                    S[i,j] = (sol[startPosi:endPosi]'*mme.Ai*sol[startPosj:endPosj])[1,1]\n",
    "                end\n",
    "            end\n",
    "        end\n",
    "        resVec = ycorr\n",
    "        #sampleMissingResiduals(mme,resVec)\n",
    "        for traiti = 1:nTraits\n",
    "            startPosi = (traiti-1)*nObs + 1\n",
    "            endPosi   = startPosi + nObs - 1\n",
    "            for traitj = traiti:nTraits\n",
    "                startPosj = (traitj-1)*nObs + 1\n",
    "                endPosj   = startPosj + nObs - 1\n",
    "                SRes[traiti,traitj] = (resVec[startPosi:endPosi]'resVec[startPosj:endPosj])[1] \n",
    "                SRes[traitj,traiti] = SRes[traiti,traitj]\n",
    "                SM[traiti,traitj] = (alphaArray[traiti]'alphaArray[traitj])[1]\n",
    "                SM[traitj,traiti] = SM[traiti,traitj]\n",
    "            end\n",
    "        end\n",
    "        mme.M.G = rand(InverseWishart(νGM + nMarkers, PM + SM))\n",
    "        R0      = rand(InverseWishart(νR0 + nObs, PRes + SRes))\n",
    "        mme.R = R0\n",
    "        #Ri = mkRi(mme,df)\n",
    "        Ri = kron(inv(R0),speye(nObs))\n",
    "        X = mme.X\n",
    "        mme.mmeLhs = X'Ri*X\n",
    "        ycorr[:] = ycorr[:] + mme.X*sol\n",
    "        mme.mmeRhs = mme.X'Ri*ycorr\n",
    "        if mme.ped != 0\n",
    "            pedTrm1 = mme.modelTermDict[pedTrmVec[1]]\n",
    "            q = pedTrm1.nLevels\n",
    "            G0 = rand(InverseWishart(νG0 + q, P + S))\n",
    "            mme.Gi = inv(G0)\n",
    "            addA(mme)\n",
    "            G0Mean  += (G0  - G0Mean )/iter     \n",
    "        end\n",
    "        solMean += (sol - solMean)/iter \n",
    "        R0Mean  += (R0  - R0Mean )/iter\n",
    "        GMMean  += (mme.M.G  - GMMean)/iter\n",
    "    end\n",
    "    output = Dict()\n",
    "    output[\"posteriorMeanLocationParms\"] = solMean\n",
    "    output[\"posteriorMeanAlpha\"] = meanAlphaArray\n",
    "    output[\"posteriorMeanR0\"] = R0Mean\n",
    "    output[\"posteriorMeanGM\"] = GMMean\n",
    "    return output\n",
    "end"
   ]
  },
  {
   "cell_type": "code",
   "execution_count": 84,
   "metadata": {
    "collapsed": false
   },
   "outputs": [
    {
     "data": {
      "text/plain": [
       "2x2 Array{Float64,2}:\n",
       " 58.9824  24.7197\n",
       " 24.7197  65.4517"
      ]
     },
     "execution_count": 84,
     "metadata": {},
     "output_type": "execute_result"
    }
   ],
   "source": [
    "cov(e')"
   ]
  },
  {
   "cell_type": "code",
   "execution_count": 118,
   "metadata": {
    "collapsed": true
   },
   "outputs": [],
   "source": [
    "Profile.clear()"
   ]
  },
  {
   "cell_type": "code",
   "execution_count": 151,
   "metadata": {
    "collapsed": false,
    "scrolled": false
   },
   "outputs": [
    {
     "name": "stdout",
     "output_type": "stream",
     "text": [
      "at sample: 100\n",
      "\n",
      "at sample: 200\n",
      "\n",
      "at sample: 300"
     ]
    },
    {
     "data": {
      "text/plain": [
       "2x2 Array{Float64,2}:\n",
       " 57.0846  22.0093\n",
       " 22.0093  68.2643"
      ]
     },
     "execution_count": 151,
     "metadata": {},
     "output_type": "execute_result"
    },
    {
     "name": "stdout",
     "output_type": "stream",
     "text": [
      "\n",
      "\n",
      "  1.093065 seconds (2.47 M allocations: 876.595 MB, 9.27% gc time)\n"
     ]
    }
   ],
   "source": [
    "@time res = sampleMCMC(300,mme,df2)\n",
    "res[\"posteriorMeanR0\"]"
   ]
  },
  {
   "cell_type": "code",
   "execution_count": 109,
   "metadata": {
    "collapsed": false,
    "scrolled": false
   },
   "outputs": [
    {
     "name": "stdout",
     "output_type": "stream",
     "text": [
      "1   linalg/matmul.jl; lapack_size; line: 336\n",
      "560 task.jl; anonymous; line: 447\n",
      " 559 .../IJulia/src/IJulia.jl; eventloop; line: 141\n",
      "  559 ...rc/execute_request.jl; execute_request_0x535c5df2; line: 177\n",
      "   559 loading.jl; include_string; line: 266\n",
      "    559 profile.jl; anonymous; line: 16\n",
      "     62  .../lib/julia/sys.dylib; typeinf_ext; (unknown line)\n",
      "      62 ...a/lib/julia/sys.dylib; typeinf; (unknown line)\n",
      "       62 .../lib/julia/sys.dylib; typeinf_uncached; (unknown line)\n",
      "        28 .../lib/julia/sys.dylib; abstract_interpret; (unknown line)\n",
      "         27 ...lib/julia/sys.dylib; abstract_eval; (unknown line)\n",
      "          27 ...lib/julia/sys.dylib; abstract_eval_call; (unknown line)\n",
      "           11 ...lib/julia/sys.dylib; abstract_call; (unknown line)\n",
      "            3 ...lib/julia/sys.dylib; abstract_call; (unknown line)\n",
      "             3 ...ib/julia/sys.dylib; abstract_call_gf; (unknown line)\n",
      "              2 ...ib/julia/sys.dylib; _methods; (unknown line)\n",
      "               2 ...b/julia/sys.dylib; _methods; (unknown line)\n",
      "                2 ...b/julia/sys.dylib; _methods; (unknown line)\n",
      "                 2 ...b/julia/sys.dylib; _methods; (unknown line)\n",
      "                  2 .../julia/sys.dylib; _methods; (unknown line)\n",
      "              1 ...ib/julia/sys.dylib; typeinf; (unknown line)\n",
      "               1 ...b/julia/sys.dylib; typeinf; (unknown line)\n",
      "            8 ...lib/julia/sys.dylib; abstract_call_gf; (unknown line)\n",
      "             6 ...ib/julia/sys.dylib; _methods; (unknown line)\n",
      "              6 ...ib/julia/sys.dylib; _methods; (unknown line)\n",
      "               6 ...b/julia/sys.dylib; _methods; (unknown line)\n",
      "                5 ...b/julia/sys.dylib; _methods; (unknown line)\n",
      "                 2 ...b/julia/sys.dylib; _methods; (unknown line)\n",
      "             1 ...ib/julia/sys.dylib; anonymous; (unknown line)\n",
      "             1 ...ib/julia/sys.dylib; next; (unknown line)\n",
      "           15 ...lib/julia/sys.dylib; abstract_eval; (unknown line)\n",
      "            15 ...ib/julia/sys.dylib; abstract_eval_call; (unknown line)\n",
      "             9 ...ib/julia/sys.dylib; abstract_call; (unknown line)\n",
      "              6 ...ib/julia/sys.dylib; abstract_call; (unknown line)\n",
      "               6 ...b/julia/sys.dylib; abstract_call_gf; (unknown line)\n",
      "                6 ...b/julia/sys.dylib; _methods; (unknown line)\n",
      "                 6 ...b/julia/sys.dylib; _methods; (unknown line)\n",
      "                  6 .../julia/sys.dylib; _methods; (unknown line)\n",
      "                   6 .../julia/sys.dylib; _methods; (unknown line)\n",
      "                    6 ...julia/sys.dylib; _methods; (unknown line)\n",
      "              3 ...ib/julia/sys.dylib; abstract_call_gf; (unknown line)\n",
      "               3 ...b/julia/sys.dylib; _methods; (unknown line)\n",
      "                3 ...b/julia/sys.dylib; _methods; (unknown line)\n",
      "                 3 ...b/julia/sys.dylib; _methods; (unknown line)\n",
      "                  3 .../julia/sys.dylib; _methods; (unknown line)\n",
      "             6 ...ib/julia/sys.dylib; abstract_eval; (unknown line)\n",
      "              6 ...ib/julia/sys.dylib; abstract_eval_call; (unknown line)\n",
      "               2 ...b/julia/sys.dylib; abstract_call; (unknown line)\n",
      "                2 ...b/julia/sys.dylib; abstract_call_gf; (unknown line)\n",
      "                 2 ...b/julia/sys.dylib; _methods; (unknown line)\n",
      "                  2 .../julia/sys.dylib; _methods; (unknown line)\n",
      "                   2 .../julia/sys.dylib; _methods; (unknown line)\n",
      "                    2 ...julia/sys.dylib; _methods; (unknown line)\n",
      "               4 ...b/julia/sys.dylib; abstract_eval; (unknown line)\n",
      "                4 ...b/julia/sys.dylib; abstract_eval_call; (unknown line)\n",
      "                 4 ...b/julia/sys.dylib; abstract_call; (unknown line)\n",
      "                  4 .../julia/sys.dylib; abstract_call; (unknown line)\n",
      "                   4 .../julia/sys.dylib; abstract_call_gf; (unknown line)\n",
      "                    4 ...julia/sys.dylib; _methods; (unknown line)\n",
      "                     4 ...julia/sys.dylib; _methods; (unknown line)\n",
      "                      4 ...julia/sys.dylib; _methods; (unknown line)\n",
      "                       4 ...ulia/sys.dylib; _methods; (unknown line)\n",
      "                        4 ...ulia/sys.dylib; _methods; (unknown line)\n",
      "        11 .../lib/julia/sys.dylib; inlining_pass; (unknown line)\n",
      "         11 ...lib/julia/sys.dylib; inlining_pass; (unknown line)\n",
      "          11 ...lib/julia/sys.dylib; inlining_pass; (unknown line)\n",
      "           5 ...lib/julia/sys.dylib; inlineable; (unknown line)\n",
      "            1 ...lib/julia/sys.dylib; _methods; (unknown line)\n",
      "             1 ...ib/julia/sys.dylib; _methods; (unknown line)\n",
      "              1 ...ib/julia/sys.dylib; _methods; (unknown line)\n",
      "               1 ...b/julia/sys.dylib; _methods; (unknown line)\n",
      "            1 ...lib/julia/sys.dylib; ast_localvars; (unknown line)\n",
      "            1 ...lib/julia/sys.dylib; effect_free; (unknown line)\n",
      "             1 ...ib/julia/sys.dylib; effect_free; (unknown line)\n",
      "              1 ...ib/julia/sys.dylib; isconstantfunc; (unknown line)\n",
      "            1 ...lib/julia/sys.dylib; inline_worthy; (unknown line)\n",
      "            1 ...lib/julia/sys.dylib; occurs_outside_getfield; (unknown line)\n",
      "             1 ...ib/julia/sys.dylib; occurs_outside_getfield; (unknown line)\n",
      "              1 ...ib/julia/sys.dylib; occurs_outside_getfield; (unknown line)\n",
      "               1 ...b/julia/sys.dylib; occurs_outside_getfield; (unknown line)\n",
      "                1 ...b/julia/sys.dylib; occurs_outside_getfield; (unknown line)\n",
      "                 1 ...b/julia/sys.dylib; is_known_call; (unknown line)\n",
      "           6 ...lib/julia/sys.dylib; inlining_pass; (unknown line)\n",
      "            5 ...lib/julia/sys.dylib; inlineable; (unknown line)\n",
      "             2 ...ib/julia/sys.dylib; _methods; (unknown line)\n",
      "              2 ...ib/julia/sys.dylib; _methods; (unknown line)\n",
      "               2 ...b/julia/sys.dylib; _methods; (unknown line)\n",
      "                2 ...b/julia/sys.dylib; _methods; (unknown line)\n",
      "                 2 ...b/julia/sys.dylib; _methods; (unknown line)\n",
      "             1 ...ib/julia/sys.dylib; ast_localvars; (unknown line)\n",
      "            1 ...lib/julia/sys.dylib; inlining_pass; (unknown line)\n",
      "             1 ...ib/julia/sys.dylib; inlineable; (unknown line)\n",
      "              1 ...ib/julia/sys.dylib; _methods; (unknown line)\n",
      "               1 ...b/julia/sys.dylib; _methods; (unknown line)\n",
      "                1 ...b/julia/sys.dylib; _methods; (unknown line)\n",
      "                 1 ...b/julia/sys.dylib; _methods; (unknown line)\n",
      "                  1 .../julia/sys.dylib; _methods; (unknown line)\n",
      "        1  .../lib/julia/sys.dylib; stchanged; (unknown line)\n",
      "        5  .../lib/julia/sys.dylib; stupdate; (unknown line)\n",
      "         1 .../lib/julia/sys.dylib; setindex!; (unknown line)\n",
      "         2 .../lib/julia/sys.dylib; stupdate; (unknown line)\n",
      "          1 ...lib/julia/sys.dylib; setindex!; (unknown line)\n",
      "        14 .../lib/julia/sys.dylib; tuple_elim_pass; (unknown line)\n",
      "         5 .../lib/julia/sys.dylib; occurs_outside_getfield; (unknown line)\n",
      "          5 ...lib/julia/sys.dylib; occurs_outside_getfield; (unknown line)\n",
      "           5 ...lib/julia/sys.dylib; occurs_outside_getfield; (unknown line)\n",
      "            4 ...lib/julia/sys.dylib; occurs_outside_getfield; (unknown line)\n",
      "             1 ...ib/julia/sys.dylib; is_known_call; (unknown line)\n",
      "             2 ...ib/julia/sys.dylib; occurs_outside_getfield; (unknown line)\n",
      "              1 ...ib/julia/sys.dylib; occurs_outside_getfield; (unknown line)\n",
      "               1 ...b/julia/sys.dylib; occurs_outside_getfield; (unknown line)\n",
      "                1 ...b/julia/sys.dylib; occurs_outside_getfield; (unknown line)\n",
      "                 1 ...b/julia/sys.dylib; is_known_call; (unknown line)\n",
      "         1 .../lib/julia/sys.dylib; remove_redundant_temp_vars; (unknown line)\n",
      "          1 ...lib/julia/sys.dylib; mapreduce_sc_impl; (unknown line)\n",
      "           1 ...lib/julia/sys.dylib; anonymous; (unknown line)\n",
      "         8 .../lib/julia/sys.dylib; replace_getfield!; (unknown line)\n",
      "          7 ...lib/julia/sys.dylib; replace_getfield!; (unknown line)\n",
      "           2 ...lib/julia/sys.dylib; replace_getfield!; (unknown line)\n",
      "            2 ...lib/julia/sys.dylib; replace_getfield!; (unknown line)\n",
      "             1 ...ib/julia/sys.dylib; is_known_call; (unknown line)\n",
      "     19  In[106]; sampleMCMC; line: 2\n",
      "      1  In[4]; getMME; line: 160\n",
      "       1 In[4]; getData; line: 58\n",
      "        1 ...bstractdataframe.jl; size; line: 212\n",
      "         1 ...aframe/dataframe.jl; nrow; line: 203\n",
      "      1  In[4]; getMME; line: 178\n",
      "       1 sparse/sparsematrix.jl; sparse; line: 380\n",
      "        1 sparse/csparse.jl; sparse; line: 73\n",
      "      17 In[4]; getMME; line: 180\n",
      "       5 In[4]; mkRi; line: 140\n",
      "        2 abstractarray.jl; getindex; line: 468\n",
      "         2 multidimensional.jl; _unsafe_getindex; line: 193\n",
      "          2 ...lib/julia/sys.dylib; call; (unknown line)\n",
      "           2 ...lib/julia/sys.dylib; call; (unknown line)\n",
      "        2 abstractarray.jl; reshape; line: 215\n",
      "         2 bitarray.jl; reshape; line: 285\n",
      "          2 ...lib/julia/sys.dylib; call; (unknown line)\n",
      "       1 In[4]; mkRi; line: 142\n",
      "       4 In[4]; mkRi; line: 144\n",
      "       1 In[4]; mkRi; line: 145\n",
      "       1 In[4]; mkRi; line: 146\n",
      "       3 In[4]; mkRi; line: 147\n",
      "       1 In[4]; mkRi; line: 148\n",
      "       1 In[4]; mkRi; line: 149\n",
      "     3   In[106]; sampleMCMC; line: 31\n",
      "      3 abstractarray.jl; getindex; line: 468\n",
      "       3 multidimensional.jl; _unsafe_getindex; line: 195\n",
      "     1   In[106]; sampleMCMC; line: 53\n",
      "      1 In[2]; Gibbs; line: 23\n",
      "     4   In[106]; sampleMCMC; line: 54\n",
      "      2 arraymath.jl; -; line: 98\n",
      "      2 linalg/matmul.jl; *; line: 86\n",
      "       1 sparse/linalg.jl; A_mul_B!; line: 67\n",
      "     5   In[106]; sampleMCMC; line: 56\n",
      "      5 linalg/dense.jl; inv; line: 360\n",
      "       4 array.jl; copy; line: 100\n",
      "       1 linalg/lu.jl; inv; line: 213\n",
      "        1 linalg/lapack.jl; getri!; line: 882\n",
      "         1 .../lib/julia/sys.dylib; chkstride1; (unknown line)\n",
      "     103 In[106]; sampleMCMC; line: 66\n",
      "      2  In[43]; sample_effects_ycorr!; line: 44\n",
      "      15 In[43]; sample_effects_ycorr!; line: 47\n",
      "       1 float.jl; *; line: 208\n",
      "      35 In[43]; sample_effects_ycorr!; line: 48\n",
      "       2  linalg/blas.jl; dot; line: 151\n",
      "       4  linalg/blas.jl; dot; line: 155\n",
      "        2 abstractarray.jl; stride; line: 73\n",
      "       6  linalg/matmul.jl; gemv!; line: 232\n",
      "        6 linalg/blas.jl; gemv!; line: 291\n",
      "         1 .../lib/julia/sys.dylib; stride; (unknown line)\n",
      "       14 multidimensional.jl; _unsafe_getindex; line: 193\n",
      "        1 abstractarray.jl; trailingsize; line: 98\n",
      "       2  multidimensional.jl; _unsafe_getindex; line: 194\n",
      "        1 multidimensional.jl; checksize; line: 272\n",
      "      7  In[43]; sample_effects_ycorr!; line: 49\n",
      "       1 float.jl; /; line: 210\n",
      "      14 In[43]; sample_effects_ycorr!; line: 50\n",
      "      1  In[43]; sample_effects_ycorr!; line: 51\n",
      "      18 In[43]; sample_effects_ycorr!; line: 52\n",
      "      8  In[43]; sample_effects_ycorr!; line: 53\n",
      "       2 linalg/blas.jl; axpy!; line: 228\n",
      "       1 linalg/blas.jl; axpy!; line: 232\n",
      "      3  In[43]; sample_effects_ycorr!; line: 54\n",
      "     3   In[106]; sampleMCMC; line: 71\n",
      "      2 linalg/blas.jl; gemv!; line: 291\n",
      "     6   In[106]; sampleMCMC; line: 95\n",
      "      1 array.jl; getindex; line: 288\n",
      "       1 array.jl; unsafe_getindex; line: 291\n",
      "      2 linalg/matmul.jl; Ac_mul_B; line: 75\n",
      "       2 ...a/lib/julia/sys.dylib; vect; (unknown line)\n",
      "     2   In[106]; sampleMCMC; line: 97\n",
      "      1 ...a/lib/julia/sys.dylib; vect; (unknown line)\n",
      "     21  In[106]; sampleMCMC; line: 101\n",
      "      7 ...rix/inversewishart.jl; call; line: 20\n",
      "       7 linalg/cholesky.jl; cholfact; line: 126\n",
      "        7 linalg/cholesky.jl; cholfact; line: 126\n",
      "         1 array.jl; copy; line: 100\n",
      "         1 linalg/cholesky.jl; chol!; line: 27\n",
      "          1 ...lib/julia/sys.dylib; potrf!; (unknown line)\n",
      "      8 ...rix/inversewishart.jl; rand; line: 77\n",
      "       3 .../PDMats/src/pdmat.jl; inv; line: 42\n",
      "        1 linalg/cholesky.jl; cholfact; line: 126\n",
      "         1 linalg/cholesky.jl; cholfact; line: 126\n",
      "        1 linalg/lapack.jl; potri!; line: 2501\n",
      "        1 linalg/matmul.jl; copytri!; line: 215\n",
      "       1 .../PDMats/src/pdmat.jl; unwhiten!; line: 57\n",
      "        1 linalg/cholesky.jl; getindex; line: 169\n",
      "         1 .../lib/julia/sys.dylib; symbol; (unknown line)\n",
      "       3 .../PDMats/src/pdmat.jl; unwhiten!; line: 58\n",
      "        1 linalg/triangular.jl; Ac_mul_B!; line: 380\n",
      "         1 linalg/blas.jl; trmm!; line: 901\n",
      "       1 linalg/matmul.jl; A_mul_Bt; line: 154\n",
      "     60  In[106]; sampleMCMC; line: 105\n",
      "      1  sparse/linalg.jl; kron; line: 693\n",
      "      3  sparse/linalg.jl; kron; line: 694\n",
      "      1  sparse/linalg.jl; kron; line: 713\n",
      "      3  sparse/linalg.jl; kron; line: 717\n",
      "      4  sparse/linalg.jl; kron; line: 719\n",
      "      1  sparse/linalg.jl; kron; line: 720\n",
      "      1  sparse/linalg.jl; kron; line: 722\n",
      "      3  sparse/linalg.jl; kron; line: 724\n",
      "      9  sparse/linalg.jl; kron; line: 725\n",
      "      5  sparse/linalg.jl; kron; line: 726\n",
      "      7  sparse/linalg.jl; kron; line: 727\n",
      "      16 sparse/linalg.jl; kron; line: 729\n",
      "      1  sparse/linalg.jl; kron; line: 733\n",
      "       1 sparse/sparsematrix.jl; call; line: 18\n",
      "      1  sparse/sparsematrix.jl; convert; line: 215\n",
      "       1 array.jl; findnz; line: 826\n",
      "      1  sparse/sparsematrix.jl; convert; line: 216\n",
      "       1 sparse/sparsematrix.jl; sparse_IJ_sorted!; line: 362\n",
      "        1 arraymath.jl; cumsum!; line: 445\n",
      "         1 arraymath.jl; cumsum_pairwise!; line: 430\n",
      "      2  sparse/sparsematrix.jl; speye; line: 597\n",
      "       1 ...a/lib/julia/sys.dylib; call; (unknown line)\n",
      "      1  sparse/sparsematrix.jl; speye; line: 598\n",
      "     104 In[106]; sampleMCMC; line: 107\n",
      "      17 sparse/csparse.jl; ctranspose; line: 201\n",
      "       2  sparse/csparse.jl; ftranspose; line: 181\n",
      "       1  sparse/csparse.jl; ftranspose; line: 182\n",
      "       2  sparse/csparse.jl; ftranspose; line: 184\n",
      "        2 sparse/sparsematrix.jl; call; line: 18\n",
      "       12 sparse/csparse.jl; ftranspose; line: 185\n",
      "        3 sparse/csparse.jl; ftranspose!; line: 161\n",
      "        2 sparse/csparse.jl; ftranspose!; line: 163\n",
      "         2 arraymath.jl; cumsum!; line: 445\n",
      "          2 arraymath.jl; cumsum_pairwise!; line: 437\n",
      "           1 arraymath.jl; cumsum_pairwise!; line: 436\n",
      "            1 arraymath.jl; cumsum_pairwise!; line: 437\n",
      "             1 arraymath.jl; cumsum_pairwise!; line: 436\n",
      "              1 arraymath.jl; cumsum_pairwise!; line: 436\n",
      "               1 arraymath.jl; cumsum_pairwise!; line: 437\n",
      "                1 arraymath.jl; cumsum_pairwise!; line: 437\n",
      "                 1 arraymath.jl; cumsum_pairwise!; line: 439\n",
      "           1 arraymath.jl; cumsum_pairwise!; line: 437\n",
      "            1 arraymath.jl; cumsum_pairwise!; line: 437\n",
      "             1 arraymath.jl; cumsum_pairwise!; line: 436\n",
      "              1 arraymath.jl; cumsum_pairwise!; line: 436\n",
      "               1 arraymath.jl; cumsum_pairwise!; line: 436\n",
      "                1 arraymath.jl; cumsum_pairwise!; line: 437\n",
      "                 1 arraymath.jl; cumsum_pairwise!; line: 432\n",
      "        1 sparse/csparse.jl; ftranspose!; line: 165\n",
      "         1 array.jl; copy; line: 100\n",
      "        1 sparse/csparse.jl; ftranspose!; line: 167\n",
      "        3 sparse/csparse.jl; ftranspose!; line: 169\n",
      "        2 sparse/csparse.jl; ftranspose!; line: 171\n",
      "      87 sparse/linalg.jl; *; line: 108\n",
      "       1  sparse/linalg.jl; spmatmul; line: 120\n",
      "       1  sparse/linalg.jl; spmatmul; line: 121\n",
      "       2  sparse/linalg.jl; spmatmul; line: 122\n",
      "       2  sparse/linalg.jl; spmatmul; line: 126\n",
      "        2 .../lib/julia/sys.dylib; call; (unknown line)\n",
      "       1  sparse/linalg.jl; spmatmul; line: 128\n",
      "       1  sparse/linalg.jl; spmatmul; line: 129\n",
      "       2  sparse/linalg.jl; spmatmul; line: 135\n",
      "       3  sparse/linalg.jl; spmatmul; line: 136\n",
      "       3  sparse/linalg.jl; spmatmul; line: 137\n",
      "       8  sparse/linalg.jl; spmatmul; line: 138\n",
      "       6  sparse/linalg.jl; spmatmul; line: 139\n",
      "       6  sparse/linalg.jl; spmatmul; line: 140\n",
      "       9  sparse/linalg.jl; spmatmul; line: 141\n",
      "       14 sparse/linalg.jl; spmatmul; line: 142\n",
      "       7  sparse/linalg.jl; spmatmul; line: 147\n",
      "       3  sparse/linalg.jl; spmatmul; line: 151\n",
      "       12 sparse/linalg.jl; spmatmul; line: 152\n",
      "       6  sparse/linalg.jl; spmatmul; line: 163\n",
      "        3 sparse/sparsematrix.jl; sortSparseMatrixCSC!; line: 2805\n",
      "         1 .../lib/julia/sys.dylib; call; (unknown line)\n",
      "        1 sparse/sparsematrix.jl; sortSparseMatrixCSC!; line: 2808\n",
      "        1 sparse/sparsematrix.jl; sortSparseMatrixCSC!; line: 2811\n",
      "        1 sparse/sparsematrix.jl; sortSparseMatrixCSC!; line: 2814\n",
      "     3   In[106]; sampleMCMC; line: 109\n",
      "      2 linalg/matmul.jl; *; line: 86\n",
      "       2 sparse/linalg.jl; A_mul_B!; line: 67\n",
      "     92  In[106]; sampleMCMC; line: 110\n",
      "      11 linalg/matmul.jl; *; line: 86\n",
      "       2 sparse/linalg.jl; A_mul_B!; line: 66\n",
      "       9 sparse/linalg.jl; A_mul_B!; line: 67\n",
      "      9  sparse/csparse.jl; ctranspose; line: 201\n",
      "       2 sparse/csparse.jl; ftranspose; line: 180\n",
      "       2 sparse/csparse.jl; ftranspose; line: 182\n",
      "       5 sparse/csparse.jl; ftranspose; line: 185\n",
      "        2 sparse/csparse.jl; ftranspose!; line: 161\n",
      "        1 sparse/csparse.jl; ftranspose!; line: 163\n",
      "         1 arraymath.jl; cumsum!; line: 445\n",
      "          1 arraymath.jl; cumsum_pairwise!; line: 437\n",
      "           1 arraymath.jl; cumsum_pairwise!; line: 437\n",
      "            1 arraymath.jl; cumsum_pairwise!; line: 437\n",
      "             1 arraymath.jl; cumsum_pairwise!; line: 436\n",
      "              1 arraymath.jl; cumsum_pairwise!; line: 436\n",
      "               1 arraymath.jl; cumsum_pairwise!; line: 436\n",
      "                1 arraymath.jl; cumsum_pairwise!; line: 436\n",
      "                 1 arraymath.jl; cumsum_pairwise!; line: 431\n",
      "        1 sparse/csparse.jl; ftranspose!; line: 167\n",
      "        1 sparse/csparse.jl; ftranspose!; line: 168\n",
      "      72 sparse/linalg.jl; *; line: 108\n",
      "       3  sparse/linalg.jl; spmatmul; line: 120\n",
      "       2  sparse/linalg.jl; spmatmul; line: 121\n",
      "       3  sparse/linalg.jl; spmatmul; line: 122\n",
      "       1  sparse/linalg.jl; spmatmul; line: 126\n",
      "        1 .../lib/julia/sys.dylib; call; (unknown line)\n",
      "       1  sparse/linalg.jl; spmatmul; line: 134\n",
      "       2  sparse/linalg.jl; spmatmul; line: 135\n",
      "       3  sparse/linalg.jl; spmatmul; line: 137\n",
      "       14 sparse/linalg.jl; spmatmul; line: 138\n",
      "       1  sparse/linalg.jl; spmatmul; line: 139\n",
      "       1  sparse/linalg.jl; spmatmul; line: 140\n",
      "       5  sparse/linalg.jl; spmatmul; line: 141\n",
      "       13 sparse/linalg.jl; spmatmul; line: 142\n",
      "       2  sparse/linalg.jl; spmatmul; line: 147\n",
      "       2  sparse/linalg.jl; spmatmul; line: 151\n",
      "       13 sparse/linalg.jl; spmatmul; line: 152\n",
      "       6  sparse/linalg.jl; spmatmul; line: 163\n",
      "        4 simdloop.jl; sortSparseMatrixCSC!; line: 75\n",
      "        1 sparse/sparsematrix.jl; sortSparseMatrixCSC!; line: 2808\n",
      "        1 sparse/sparsematrix.jl; sortSparseMatrixCSC!; line: 2817\n",
      "     1   In[106]; sampleMCMC; line: 124\n",
      "      1 arraymath.jl; -; line: 96\n",
      " 1   ...4/IJulia/src/stdio.jl; watch_stream; line: 41\n",
      "  1 ....4/IJulia/src/stdio.jl; send_stream; line: 32\n",
      "   1 ...v0.4/IJulia/src/msg.jl; send_ipython; line: 54\n",
      "    1 iostream.jl; sprint; line: 204\n"
     ]
    }
   ],
   "source": [
    "Profile.print()"
   ]
  },
  {
   "cell_type": "code",
   "execution_count": 67,
   "metadata": {
    "collapsed": false
   },
   "outputs": [
    {
     "data": {
      "text/plain": [
       "1x2 Array{Float64,2}:\n",
       " 4.43083  2.89755"
      ]
     },
     "execution_count": 67,
     "metadata": {},
     "output_type": "execute_result"
    }
   ],
   "source": [
    "mean(y,1)"
   ]
  },
  {
   "cell_type": "code",
   "execution_count": 68,
   "metadata": {
    "collapsed": false
   },
   "outputs": [
    {
     "data": {
      "text/plain": [
       "2-element Array{Float64,1}:\n",
       " 4.42186\n",
       " 2.90324"
      ]
     },
     "execution_count": 68,
     "metadata": {},
     "output_type": "execute_result"
    }
   ],
   "source": [
    "res[\"posteriorMeanLocationParms\"]"
   ]
  },
  {
   "cell_type": "code",
   "execution_count": 69,
   "metadata": {
    "collapsed": false,
    "scrolled": false
   },
   "outputs": [
    {
     "data": {
      "text/plain": [
       "2x2 Array{Float64,2}:\n",
       " 1.0       0.977099\n",
       " 0.977099  1.0     "
      ]
     },
     "execution_count": 69,
     "metadata": {},
     "output_type": "execute_result"
    }
   ],
   "source": [
    "cor([Q*res[\"posteriorMeanAlpha\"][1] Q*α1])"
   ]
  },
  {
   "cell_type": "code",
   "execution_count": 82,
   "metadata": {
    "collapsed": false
   },
   "outputs": [
    {
     "data": {
      "text/plain": [
       "2x2 Array{Float64,2}:\n",
       " 1.05775   0.585118\n",
       " 0.585118  1.19751 "
      ]
     },
     "execution_count": 82,
     "metadata": {},
     "output_type": "execute_result"
    }
   ],
   "source": [
    "cov([α1 α2])"
   ]
  },
  {
   "cell_type": "code",
   "execution_count": 79,
   "metadata": {
    "collapsed": false
   },
   "outputs": [
    {
     "data": {
      "text/plain": [
       "2x2 Array{Float64,2}:\n",
       " 1.20833   0.777518\n",
       " 0.777518  1.39265 "
      ]
     },
     "execution_count": 79,
     "metadata": {},
     "output_type": "execute_result"
    }
   ],
   "source": [
    "res[\"posteriorMeanGM\"]"
   ]
  }
 ],
 "metadata": {
  "celltoolbar": "Slideshow",
  "kernelspec": {
   "display_name": "Julia 0.4.0",
   "language": "julia",
   "name": "julia-0.4"
  },
  "language_info": {
   "file_extension": ".jl",
   "mimetype": "application/julia",
   "name": "julia",
   "version": "0.4.0"
  }
 },
 "nbformat": 4,
 "nbformat_minor": 0
}

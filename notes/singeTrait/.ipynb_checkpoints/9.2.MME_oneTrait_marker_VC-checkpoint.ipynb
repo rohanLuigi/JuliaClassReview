{
 "cells": [
  {
   "cell_type": "markdown",
   "metadata": {},
   "source": [
    "## Module for building Henderson's Mixed Model Equations for single trait including marker  and polygenic effect\n",
    "\n"
   ]
  },
  {
   "cell_type": "markdown",
   "metadata": {},
   "source": [
    "### <font color=\"red\"> Data</font>"
   ]
  },
  {
   "cell_type": "code",
   "execution_count": 2,
   "metadata": {
    "collapsed": true
   },
   "outputs": [],
   "source": [
    "using DataFrames\n",
    "using Distributions"
   ]
  },
  {
   "cell_type": "code",
   "execution_count": 3,
   "metadata": {
    "collapsed": false
   },
   "outputs": [],
   "source": [
    "FILE = \"../../data/small.ped\";"
   ]
  },
  {
   "cell_type": "code",
   "execution_count": 48,
   "metadata": {
    "collapsed": false
   },
   "outputs": [],
   "source": [
    "Animal = [\"S1\",\"D1\",\"O1\",\"O3\"]\n",
    "y = [1.09, 2.68, 1.64, -1.48];\n",
    "df = DataFrame(Animal=Animal,y=y);"
   ]
  },
  {
   "cell_type": "code",
   "execution_count": 49,
   "metadata": {
    "collapsed": false
   },
   "outputs": [],
   "source": [
    "srand(123)\n",
    "d = Binomial(2,0.5)\n",
    "nObs     = 4\n",
    "nMarkers = 5\n",
    "M        = float(rand(d,(nObs,nMarkers)));"
   ]
  },
  {
   "cell_type": "code",
   "execution_count": 50,
   "metadata": {
    "collapsed": false
   },
   "outputs": [
    {
     "data": {
      "text/html": [
       "<table class=\"data-frame\"><tr><th></th><th>Animal</th><th>y</th><th>x1</th><th>x2</th><th>x3</th><th>x4</th><th>x5</th></tr><tr><th>1</th><td>S1</td><td>1.09</td><td>1.0</td><td>0.0</td><td>1.0</td><td>1.0</td><td>1.0</td></tr><tr><th>2</th><td>D1</td><td>2.68</td><td>2.0</td><td>0.0</td><td>2.0</td><td>2.0</td><td>1.0</td></tr><tr><th>3</th><td>O1</td><td>1.64</td><td>1.0</td><td>2.0</td><td>0.0</td><td>1.0</td><td>0.0</td></tr><tr><th>4</th><td>O3</td><td>-1.48</td><td>0.0</td><td>0.0</td><td>2.0</td><td>1.0</td><td>1.0</td></tr></table>"
      ],
      "text/plain": [
       "4x7 DataFrames.DataFrame\n",
       "| Row | Animal | y     | x1  | x2  | x3  | x4  | x5  |\n",
       "|-----|--------|-------|-----|-----|-----|-----|-----|\n",
       "| 1   | \"S1\"   | 1.09  | 1.0 | 0.0 | 1.0 | 1.0 | 1.0 |\n",
       "| 2   | \"D1\"   | 2.68  | 2.0 | 0.0 | 2.0 | 2.0 | 1.0 |\n",
       "| 3   | \"O1\"   | 1.64  | 1.0 | 2.0 | 0.0 | 1.0 | 0.0 |\n",
       "| 4   | \"O3\"   | -1.48 | 0.0 | 0.0 | 2.0 | 1.0 | 1.0 |"
      ]
     },
     "execution_count": 50,
     "metadata": {},
     "output_type": "execute_result"
    }
   ],
   "source": [
    "df=[df DataFrame(M)]"
   ]
  },
  {
   "cell_type": "code",
   "execution_count": 51,
   "metadata": {
    "collapsed": false
   },
   "outputs": [
    {
     "data": {
      "text/plain": [
       "0.4236157749220397"
      ]
     },
     "execution_count": 51,
     "metadata": {},
     "output_type": "execute_result"
    }
   ],
   "source": [
    "a        = M*α\n",
    "stdGen   = std(a)\n",
    "a        = a/stdGen\n",
    "y        = a + randn(nObs)\n",
    "var(y-a)"
   ]
  },
  {
   "cell_type": "markdown",
   "metadata": {},
   "source": [
    "### <font color=\"red\"> Run module</font>"
   ]
  },
  {
   "cell_type": "code",
   "execution_count": 54,
   "metadata": {
    "collapsed": false
   },
   "outputs": [],
   "source": [
    "MODULE_PATH=\"../../Module/MME.jl\";\n",
    "include(MODULE_PATH);"
   ]
  },
  {
   "cell_type": "code",
   "execution_count": 55,
   "metadata": {
    "collapsed": false
   },
   "outputs": [],
   "source": [
    "varRes = 1.0\n",
    "varGen = 1.0\n",
    "markerProp = 0.99\n",
    "MVarGen= varGen*markerProp\n",
    "PVarGen= varGen*(1-markerProp);"
   ]
  },
  {
   "cell_type": "code",
   "execution_count": 56,
   "metadata": {
    "collapsed": false
   },
   "outputs": [],
   "source": [
    "ped = PedModule.mkPed(FILE);"
   ]
  },
  {
   "cell_type": "code",
   "execution_count": 57,
   "metadata": {
    "collapsed": false
   },
   "outputs": [],
   "source": [
    "mme = MMEModule.initMME(\"y = intercept + Animal\",varRes);"
   ]
  },
  {
   "cell_type": "code",
   "execution_count": 58,
   "metadata": {
    "collapsed": true
   },
   "outputs": [],
   "source": [
    "G = reshape([PVarGen],1,1)\n",
    "MMEModule.setAsRandom(mme,\"Animal\",ped,G)"
   ]
  },
  {
   "cell_type": "markdown",
   "metadata": {},
   "source": [
    "### <font color=\"red\"> work with markers</font>"
   ]
  },
  {
   "cell_type": "markdown",
   "metadata": {},
   "source": [
    "### add marker information"
   ]
  },
  {
   "cell_type": "code",
   "execution_count": 61,
   "metadata": {
    "collapsed": false
   },
   "outputs": [
    {
     "data": {
      "text/plain": [
       "addMarkers (generic function with 1 method)"
      ]
     },
     "execution_count": 61,
     "metadata": {},
     "output_type": "execute_result"
    }
   ],
   "source": [
    "function addMarkers(mme,df,G::Float64)\n",
    "    M = convert(Array,df)\n",
    "    mme.M = MarkerMatrix(M,G)\n",
    "end"
   ]
  },
  {
   "cell_type": "markdown",
   "metadata": {},
   "source": [
    "##### functions for markers"
   ]
  },
  {
   "cell_type": "code",
   "execution_count": 62,
   "metadata": {
    "collapsed": false
   },
   "outputs": [
    {
     "data": {
      "text/plain": [
       "center! (generic function with 1 method)"
      ]
     },
     "execution_count": 62,
     "metadata": {},
     "output_type": "execute_result"
    }
   ],
   "source": [
    "function get_column(X,j)\n",
    "    nrow,ncol = size(X)\n",
    "    if j>ncol||j<0\n",
    "        error(\"column number is wrong!\")\n",
    "    end\n",
    "    indx = 1 + (j-1)*nrow\n",
    "    ptr = pointer(X,indx)\n",
    "    pointer_to_array(ptr,nrow)\n",
    "end\n",
    "\n",
    "function get_column_ref(X)\n",
    "    ncol = size(X)[2]\n",
    "    xArray = Array(Array{Float64,1},ncol)\n",
    "    for i=1:ncol\n",
    "        xArray[i] = get_column(X,i)\n",
    "    end\n",
    "    return xArray\n",
    "end\n",
    "\n",
    "function center!(X)\n",
    "    nrow,ncol = size(X)\n",
    "    colMeans = mean(X,1)\n",
    "    BLAS.axpy!(-1,ones(nrow)*colMeans,X)\n",
    "    return colMeans\n",
    "end"
   ]
  },
  {
   "cell_type": "markdown",
   "metadata": {},
   "source": [
    "##### types for markers"
   ]
  },
  {
   "cell_type": "code",
   "execution_count": 63,
   "metadata": {
    "collapsed": false
   },
   "outputs": [],
   "source": [
    "type MarkerMatrix\n",
    "    X::Array{Float64,2}\n",
    "    xArray::Array{Array{Float64,1},1}\n",
    "    markerMeans::Array{Float64,2}\n",
    "    mean2pq::Float64\n",
    "    G::Float64\n",
    "    centered::Bool\n",
    "    function MarkerMatrix(X::Array{Float64,2},G::Float64)\n",
    "        markerMeans = center!(X) #centering\n",
    "        p           = markerMeans/2.0\n",
    "        mean2pq     = (2*p*(1-p)')[1,1]\n",
    "        xArray      = get_column_ref(X)\n",
    "        new(X,xArray,markerMeans,mean2pq,G,true)\n",
    "    end\n",
    "end"
   ]
  },
  {
   "cell_type": "markdown",
   "metadata": {},
   "source": [
    "### variance components"
   ]
  },
  {
   "cell_type": "code",
   "execution_count": 64,
   "metadata": {
    "collapsed": false
   },
   "outputs": [
    {
     "data": {
      "text/plain": [
       "sampleVariance (generic function with 1 method)"
      ]
     },
     "execution_count": 64,
     "metadata": {},
     "output_type": "execute_result"
    }
   ],
   "source": [
    "function sampleVariance(x, n, df, scale)\n",
    "    return (dot(x,x) + df*scale)/rand(Chisq(n+df))\n",
    "end"
   ]
  },
  {
   "cell_type": "markdown",
   "metadata": {},
   "source": [
    "### Gibbs sampler"
   ]
  },
  {
   "cell_type": "code",
   "execution_count": 65,
   "metadata": {
    "collapsed": false
   },
   "outputs": [
    {
     "data": {
      "text/plain": [
       "sampleMCMC (generic function with 1 method)"
      ]
     },
     "execution_count": 65,
     "metadata": {},
     "output_type": "execute_result"
    }
   ],
   "source": [
    "function sampleMCMC(nIter,mme,df;outFreq=100)\n",
    "    if size(mme.mmeRhs)==() \n",
    "        MMEModule.getMME(mme,df)\n",
    "    end\n",
    "    p = size(mme.mmeRhs,1)\n",
    "    sol = zeros(p)\n",
    "    solMean = zeros(p)\n",
    "    \n",
    "    vEff=mme.M.G/mme.M.mean2pq \n",
    "    vRes=mme.R\n",
    "    dfEffectVar=4\n",
    "    nuRes=4\n",
    "    scaleVar   = vEff*(dfEffectVar-2)/dfEffectVar        # scale factor for locus effects\n",
    "    scaleRes   = vRes*(nuRes-2)/nuRes \n",
    "\n",
    "\n",
    "    nObs,nLoci = size(mme.M.X)\n",
    "    α  = zeros(Float64,nLoci)\n",
    "    meanAlpha = zeros(Float64,nLoci)\n",
    "    mArray = mme.M.xArray\n",
    "    mpm = [dot(mme.M.X[:,i],mme.M.X[:,i]) for i=1:size(mme.M.X,2)]   \n",
    "    ycorr = vec(full(mme.ySparse))\n",
    "    M = mme.M.X\n",
    "    \n",
    "    ν = 10\n",
    "    if mme.ped != 0\n",
    "        pedTrmVec = mme.pedTrmVec\n",
    "        k = size(pedTrmVec,1)\n",
    "        νG0 = ν + k\n",
    "        G0 = inv(mme.Gi)\n",
    "        P = G0*(νG0 - k - 1)\n",
    "        S = zeros(Float64,k,k)\n",
    "        G0Mean = zeros(Float64,k,k)\n",
    "    end\n",
    "\n",
    "    \n",
    "    for iter=1:nIter\n",
    "        #sample non-marker part\n",
    "        ycorr = ycorr + mme.X*sol\n",
    "        rhs = mme.X'ycorr #\n",
    "\n",
    "        MMEModule.Gibbs(mme.mmeLhs,sol,rhs,vRes)\n",
    "        ycorr = ycorr - mme.X*sol\n",
    "\n",
    "        solMean += (sol - solMean)/iter\n",
    "        \n",
    "        #sample marker\n",
    "        MMEModule.sample_effects_ycorr!(M,mArray,mpm,ycorr,α,meanAlpha,vRes,vEff,iter)\n",
    "\n",
    " \n",
    "        for (i,trmi) = enumerate(pedTrmVec)    \n",
    "            pedTrmi  = mme.modelTermDict[trmi]\n",
    "            startPosi  = pedTrmi.startPos\n",
    "            endPosi    = startPosi + pedTrmi.nLevels - 1\n",
    "            for (j,trmj) = enumerate(pedTrmVec)\n",
    "                pedTrmj  = mme.modelTermDict[trmj]\n",
    "                startPosj  = pedTrmj.startPos\n",
    "                endPosj    = startPosj + pedTrmj.nLevels - 1\n",
    "                S[i,j] = (sol[startPosi:endPosi]'*mme.Ai*sol[startPosj:endPosj])[1,1]\n",
    "            end\n",
    "        end\n",
    "        \n",
    "        if mme.ped != 0\n",
    "            pedTrm1 = mme.modelTermDict[pedTrmVec[1]]\n",
    "            q = pedTrm1.nLevels\n",
    "            G0 = rand(InverseWishart(νG0 + q, P + S)) #ν+q?\n",
    "            mme.Gi = inv(G0)\n",
    "            MMEModule.addA(mme)\n",
    "        end\n",
    "       \n",
    "        \n",
    "        vRes = sampleVariance(ycorr, nObs, nuRes, scaleRes)\n",
    "        vEff = sampleVariance(α, nLoci, dfEffectVar, scaleVar)\n",
    "\n",
    "\n",
    "        if iter%outFreq==0\n",
    "            println(\"at sample: \",iter)\n",
    "        end\n",
    "    end\n",
    "    output = Dict()\n",
    "    output[\"posteriorMeanLocationParms\"] = [MMEModule.getNames(mme) solMean]\n",
    "    output[\"posteriorMeanMarkerEffects\"] = meanAlpha\n",
    "    return output\n",
    "end"
   ]
  },
  {
   "cell_type": "markdown",
   "metadata": {},
   "source": [
    "### run it"
   ]
  },
  {
   "cell_type": "code",
   "execution_count": 66,
   "metadata": {
    "collapsed": false
   },
   "outputs": [],
   "source": [
    "addMarkers(mme,df[:,3:7],MVarGen);"
   ]
  },
  {
   "cell_type": "code",
   "execution_count": 70,
   "metadata": {
    "collapsed": false
   },
   "outputs": [
    {
     "name": "stdout",
     "output_type": "stream",
     "text": [
      "at sample: 10000\n",
      "at sample: 20000\n",
      "at sample: 30000\n",
      "at sample: 40000\n",
      "at sample: 50000"
     ]
    },
    {
     "data": {
      "text/plain": [
       "Dict{Any,Any} with 2 entries:\n",
       "  \"posteriorMeanLocationP… => 6x2 Array{Any,2}:…\n",
       "  \"posteriorMeanMarkerEff… => [0.8980368198994362,0.10394292492512452,-0.274417…"
      ]
     },
     "execution_count": 70,
     "metadata": {},
     "output_type": "execute_result"
    },
    {
     "name": "stdout",
     "output_type": "stream",
     "text": [
      "\n"
     ]
    }
   ],
   "source": [
    "output=sampleMCMC(100000,mme,df,outFreq=10000)"
   ]
  }
 ],
 "metadata": {
  "kernelspec": {
   "display_name": "Julia 0.4.3",
   "language": "julia",
   "name": "julia-0.4"
  },
  "language_info": {
   "file_extension": ".jl",
   "mimetype": "application/julia",
   "name": "julia",
   "version": "0.4.3"
  }
 },
 "nbformat": 4,
 "nbformat_minor": 0
}

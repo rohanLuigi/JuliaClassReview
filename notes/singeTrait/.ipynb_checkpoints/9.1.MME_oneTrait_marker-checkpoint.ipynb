{
 "cells": [
  {
   "cell_type": "markdown",
   "metadata": {},
   "source": [
    "## Module for building Henderson's Mixed Model Equations for single trait including marker  and polygenic effect\n",
    "\n"
   ]
  },
  {
   "cell_type": "markdown",
   "metadata": {},
   "source": [
    "### <font color=\"red\"> Data</font>"
   ]
  },
  {
   "cell_type": "code",
   "execution_count": 1,
   "metadata": {
    "collapsed": true
   },
   "outputs": [],
   "source": [
    "using DataFrames\n",
    "using Distributions"
   ]
  },
  {
   "cell_type": "code",
   "execution_count": 2,
   "metadata": {
    "collapsed": false
   },
   "outputs": [],
   "source": [
    "FILE = \"../../data/small.ped\";"
   ]
  },
  {
   "cell_type": "code",
   "execution_count": 3,
   "metadata": {
    "collapsed": false
   },
   "outputs": [],
   "source": [
    "Animal = [\"S1\",\"D1\",\"O1\",\"O3\"]\n",
    "y = [100.0, 50.0, 150.0, 40.0];\n",
    "df = DataFrame(Animal=Animal,y=y);"
   ]
  },
  {
   "cell_type": "code",
   "execution_count": 4,
   "metadata": {
    "collapsed": false
   },
   "outputs": [],
   "source": [
    "srand(123)\n",
    "d = Binomial(2,0.5)\n",
    "nObs     = 4\n",
    "nMarkers = 5\n",
    "M        = float(rand(d,(nObs,nMarkers)));"
   ]
  },
  {
   "cell_type": "code",
   "execution_count": 5,
   "metadata": {
    "collapsed": false
   },
   "outputs": [
    {
     "data": {
      "text/html": [
       "<table class=\"data-frame\"><tr><th></th><th>Animal</th><th>y</th><th>x1</th><th>x2</th><th>x3</th><th>x4</th><th>x5</th></tr><tr><th>1</th><td>S1</td><td>100.0</td><td>1.0</td><td>0.0</td><td>1.0</td><td>1.0</td><td>1.0</td></tr><tr><th>2</th><td>D1</td><td>50.0</td><td>2.0</td><td>0.0</td><td>2.0</td><td>2.0</td><td>1.0</td></tr><tr><th>3</th><td>O1</td><td>150.0</td><td>1.0</td><td>2.0</td><td>0.0</td><td>1.0</td><td>0.0</td></tr><tr><th>4</th><td>O3</td><td>40.0</td><td>0.0</td><td>0.0</td><td>2.0</td><td>1.0</td><td>1.0</td></tr></table>"
      ],
      "text/plain": [
       "4x7 DataFrames.DataFrame\n",
       "| Row | Animal | y     | x1  | x2  | x3  | x4  | x5  |\n",
       "|-----|--------|-------|-----|-----|-----|-----|-----|\n",
       "| 1   | \"S1\"   | 100.0 | 1.0 | 0.0 | 1.0 | 1.0 | 1.0 |\n",
       "| 2   | \"D1\"   | 50.0  | 2.0 | 0.0 | 2.0 | 2.0 | 1.0 |\n",
       "| 3   | \"O1\"   | 150.0 | 1.0 | 2.0 | 0.0 | 1.0 | 0.0 |\n",
       "| 4   | \"O3\"   | 40.0  | 0.0 | 0.0 | 2.0 | 1.0 | 1.0 |"
      ]
     },
     "execution_count": 5,
     "metadata": {},
     "output_type": "execute_result"
    }
   ],
   "source": [
    "df=[df DataFrame(M)]"
   ]
  },
  {
   "cell_type": "markdown",
   "metadata": {},
   "source": [
    "### <font color=\"red\"> Run module</font>"
   ]
  },
  {
   "cell_type": "code",
   "execution_count": 6,
   "metadata": {
    "collapsed": false
   },
   "outputs": [],
   "source": [
    "MODULE_PATH=\"../../Module/MME.jl\";\n",
    "include(MODULE_PATH);"
   ]
  },
  {
   "cell_type": "code",
   "execution_count": 7,
   "metadata": {
    "collapsed": false
   },
   "outputs": [],
   "source": [
    "varRes = 5.0\n",
    "varGen = 5.0\n",
    "markerProp = 0.8\n",
    "MVarGen= varGen*markerProp\n",
    "PVarGen= varGen*(1-markerProp);"
   ]
  },
  {
   "cell_type": "code",
   "execution_count": 8,
   "metadata": {
    "collapsed": false
   },
   "outputs": [],
   "source": [
    "ped = PedModule.mkPed(FILE);"
   ]
  },
  {
   "cell_type": "code",
   "execution_count": 9,
   "metadata": {
    "collapsed": false
   },
   "outputs": [],
   "source": [
    "varRes = 5.0\n",
    "mme = MMEModule.initMME(\"y = intercept + Animal\",varRes);"
   ]
  },
  {
   "cell_type": "code",
   "execution_count": 10,
   "metadata": {
    "collapsed": true
   },
   "outputs": [],
   "source": [
    "G = reshape([PVarGen],1,1)\n",
    "MMEModule.setAsRandom(mme,\"Animal\",ped,G)"
   ]
  },
  {
   "cell_type": "markdown",
   "metadata": {},
   "source": [
    "### <font color=\"blue\"> Gauss-Seidel</font> "
   ]
  },
  {
   "cell_type": "code",
   "execution_count": 11,
   "metadata": {
    "collapsed": false
   },
   "outputs": [
    {
     "data": {
      "text/plain": [
       "6x2 Array{Any,2}:\n",
       " \"intercept: intercept\"  84.5242     \n",
       " \"Animal: S1\"             4.16646    \n",
       " \"Animal: D1\"            -4.16707    \n",
       " \"Animal: O1\"             5.95206    \n",
       " \"Animal: O3\"            -4.04794    \n",
       " \"Animal: O2\"            -0.000304593"
      ]
     },
     "execution_count": 11,
     "metadata": {},
     "output_type": "execute_result"
    }
   ],
   "source": [
    "resG = MMEModule.getSolG(mme,df,outFreq=100)"
   ]
  },
  {
   "cell_type": "markdown",
   "metadata": {},
   "source": [
    "### <font color=\"blue\"> Gibbs</font> "
   ]
  },
  {
   "cell_type": "code",
   "execution_count": 12,
   "metadata": {
    "collapsed": false
   },
   "outputs": [
    {
     "name": "stdout",
     "output_type": "stream",
     "text": [
      "at sample: 10000\n",
      "at sample: 20000\n",
      "at sample: 30000\n",
      "at sample: 40000\n",
      "at sample: 50000"
     ]
    },
    {
     "data": {
      "text/plain": [
       "6x2 Array{Any,2}:\n",
       " \"intercept: intercept\"  84.5217   \n",
       " \"Animal: S1\"             4.17441  \n",
       " \"Animal: D1\"            -4.16322  \n",
       " \"Animal: O1\"             5.95959  \n",
       " \"Animal: O3\"            -4.04315  \n",
       " \"Animal: O2\"             0.0073063"
      ]
     },
     "execution_count": 12,
     "metadata": {},
     "output_type": "execute_result"
    }
   ],
   "source": [
    "sol  = fill(0.0,size(mme.mmeLhs,1));\n",
    "res2 = MMEModule.getSolGibbs(mme,df,outFreq=10000)"
   ]
  },
  {
   "cell_type": "markdown",
   "metadata": {},
   "source": [
    "### <font color=\"red\"> work with markers</font>"
   ]
  },
  {
   "cell_type": "markdown",
   "metadata": {},
   "source": [
    "### add marker information"
   ]
  },
  {
   "cell_type": "code",
   "execution_count": 13,
   "metadata": {
    "collapsed": false
   },
   "outputs": [
    {
     "data": {
      "text/plain": [
       "addMarkers (generic function with 1 method)"
      ]
     },
     "execution_count": 13,
     "metadata": {},
     "output_type": "execute_result"
    }
   ],
   "source": [
    "function addMarkers(mme,df,G::Float64)\n",
    "    M = convert(Array,df)\n",
    "    mme.M = MarkerMatrix(M,G)\n",
    "end"
   ]
  },
  {
   "cell_type": "markdown",
   "metadata": {},
   "source": [
    "##### functions for markers"
   ]
  },
  {
   "cell_type": "code",
   "execution_count": 14,
   "metadata": {
    "collapsed": false
   },
   "outputs": [
    {
     "data": {
      "text/plain": [
       "center! (generic function with 1 method)"
      ]
     },
     "execution_count": 14,
     "metadata": {},
     "output_type": "execute_result"
    }
   ],
   "source": [
    "function get_column(X,j)\n",
    "    nrow,ncol = size(X)\n",
    "    if j>ncol||j<0\n",
    "        error(\"column number is wrong!\")\n",
    "    end\n",
    "    indx = 1 + (j-1)*nrow\n",
    "    ptr = pointer(X,indx)\n",
    "    pointer_to_array(ptr,nrow)\n",
    "end\n",
    "\n",
    "function get_column_ref(X)\n",
    "    ncol = size(X)[2]\n",
    "    xArray = Array(Array{Float64,1},ncol)\n",
    "    for i=1:ncol\n",
    "        xArray[i] = get_column(X,i)\n",
    "    end\n",
    "    return xArray\n",
    "end\n",
    "\n",
    "function center!(X)\n",
    "    nrow,ncol = size(X)\n",
    "    colMeans = mean(X,1)\n",
    "    BLAS.axpy!(-1,ones(nrow)*colMeans,X)\n",
    "    return colMeans\n",
    "end"
   ]
  },
  {
   "cell_type": "markdown",
   "metadata": {},
   "source": [
    "##### types for markers"
   ]
  },
  {
   "cell_type": "code",
   "execution_count": 15,
   "metadata": {
    "collapsed": false
   },
   "outputs": [],
   "source": [
    "type MarkerMatrix\n",
    "    X::Array{Float64,2}\n",
    "    xArray::Array{Array{Float64,1},1}\n",
    "    markerMeans::Array{Float64,2}\n",
    "    mean2pq::Float64\n",
    "    G::Float64\n",
    "    centered::Bool\n",
    "    function MarkerMatrix(X::Array{Float64,2},G::Float64)\n",
    "        markerMeans = center!(X) #centering\n",
    "        p           = markerMeans/2.0\n",
    "        mean2pq     = (2*p*(1-p)')[1,1]\n",
    "        xArray      = get_column_ref(X)\n",
    "        new(X,xArray,markerMeans,mean2pq,G,true)\n",
    "    end\n",
    "end"
   ]
  },
  {
   "cell_type": "markdown",
   "metadata": {},
   "source": [
    "### Gibbs sampler"
   ]
  },
  {
   "cell_type": "code",
   "execution_count": 21,
   "metadata": {
    "collapsed": false
   },
   "outputs": [
    {
     "data": {
      "text/plain": [
       "sampleMCMC (generic function with 1 method)"
      ]
     },
     "execution_count": 21,
     "metadata": {},
     "output_type": "execute_result"
    }
   ],
   "source": [
    "function sampleMCMC(nIter,mme,df;outFreq=100)\n",
    "    if size(mme.mmeRhs)==() \n",
    "        MMEModule.getMME(mme,df)\n",
    "    end\n",
    "    p = size(mme.mmeRhs,1)\n",
    "    sol = zeros(p)\n",
    "    solMean = zeros(p)\n",
    "    \n",
    "    vEff = mme.M.G/mme.M.mean2pq \n",
    "    vRes = mme.R\n",
    "\n",
    "\n",
    "    numMarker = size(mme.M.X,2)\n",
    "    α  = zeros(Float64,numMarker)\n",
    "    meanAlpha = zeros(Float64,numMarker)\n",
    "    mArray = mme.M.xArray\n",
    "    mpm = [dot(mme.M.X[:,i],mme.M.X[:,i]) for i=1:size(mme.M.X,2)]   \n",
    "    ycorr = vec(full(mme.ySparse))\n",
    "    #ycorr = copy(mme.ySparse)\n",
    "    M = mme.M.X\n",
    "    \n",
    "    for iter=1:nIter\n",
    "        #sample non-marker part\n",
    "        ycorr = ycorr + mme.X*sol\n",
    "        rhs = mme.X'ycorr #\n",
    "\n",
    "        MMEModule.Gibbs(mme.mmeLhs,sol,rhs,vRes)\n",
    "        ycorr = ycorr - mme.X*sol\n",
    "\n",
    "        solMean += (sol - solMean)/iter\n",
    "        \n",
    "        #sample marker\n",
    "        MMEModule.sample_effects_ycorr!(M,mArray,mpm,ycorr,α,meanAlpha,vRes,vEff,iter)\n",
    "\n",
    "        if iter%outFreq==0\n",
    "            println(\"at sample: \",iter)\n",
    "        end\n",
    "    end\n",
    "    output = Dict()\n",
    "    output[\"posteriorMeanLocationParms\"] = [MMEModule.getNames(mme) solMean]\n",
    "    output[\"posteriorMeanMarkerEffects\"] = meanAlpha\n",
    "    return output\n",
    "end"
   ]
  },
  {
   "cell_type": "markdown",
   "metadata": {},
   "source": [
    "### run it"
   ]
  },
  {
   "cell_type": "code",
   "execution_count": 17,
   "metadata": {
    "collapsed": false
   },
   "outputs": [],
   "source": [
    "addMarkers(mme,df[:,3:7],MVarGen);"
   ]
  },
  {
   "cell_type": "code",
   "execution_count": 22,
   "metadata": {
    "collapsed": false
   },
   "outputs": [
    {
     "ename": "LoadError",
     "evalue": "LoadError: MethodError: `dot` has no method matching dot(::Array{Float64,1}, ::Array{Float64,2})\nClosest candidates are:\n  dot{T<:Union{Float32,Float64},TI<:Integer}(::Array{T<:Union{Float32,Float64},1}, !Matched::Union{Range{TI<:Integer},UnitRange{TI<:Integer}}, !Matched::Array{T<:Union{Float32,Float64},1}, !Matched::Union{Range{TI<:Integer},UnitRange{TI<:Integer}})\n  dot(::AbstractArray{T,1}, !Matched::AbstractArray{T,1})\nwhile loading In[22], in expression starting on line 1",
     "output_type": "error",
     "traceback": [
      "LoadError: MethodError: `dot` has no method matching dot(::Array{Float64,1}, ::Array{Float64,2})\nClosest candidates are:\n  dot{T<:Union{Float32,Float64},TI<:Integer}(::Array{T<:Union{Float32,Float64},1}, !Matched::Union{Range{TI<:Integer},UnitRange{TI<:Integer}}, !Matched::Array{T<:Union{Float32,Float64},1}, !Matched::Union{Range{TI<:Integer},UnitRange{TI<:Integer}})\n  dot(::AbstractArray{T,1}, !Matched::AbstractArray{T,1})\nwhile loading In[22], in expression starting on line 1",
      "",
      " in sample_effects_ycorr! at /Users/rohan/Box Sync/GitHub/JuliaClassReview/Module/markers.jl:27",
      " in sampleMCMC at In[21]:33"
     ]
    }
   ],
   "source": [
    "output=sampleMCMC(50000,mme,df,outFreq=10000)"
   ]
  },
  {
   "cell_type": "code",
   "execution_count": 19,
   "metadata": {
    "collapsed": false
   },
   "outputs": [
    {
     "name": "stdout",
     "output_type": "stream",
     "text": [
      "\n"
     ]
    },
    {
     "data": {
      "text/plain": [
       "6x2 Array{Any,2}:\n",
       " \"intercept: intercept\"  85.0684    \n",
       " \"Animal: S1\"             2.6353    \n",
       " \"Animal: D1\"            -2.63497   \n",
       " \"Animal: O1\"             1.74728   \n",
       " \"Animal: O3\"            -2.03301   \n",
       " \"Animal: O2\"             0.00197898"
      ]
     },
     "execution_count": 19,
     "metadata": {},
     "output_type": "execute_result"
    }
   ],
   "source": [
    "output[\"posteriorMeanLocationParms\"]"
   ]
  },
  {
   "cell_type": "code",
   "execution_count": 20,
   "metadata": {
    "collapsed": false
   },
   "outputs": [
    {
     "data": {
      "text/plain": [
       "5-element Array{Float64,1}:\n",
       "   3.02981\n",
       "  12.2574 \n",
       " -17.3617 \n",
       "  -4.10009\n",
       "  -6.12429"
      ]
     },
     "execution_count": 20,
     "metadata": {},
     "output_type": "execute_result"
    }
   ],
   "source": [
    "output[\"posteriorMeanMarkerEffects\"]"
   ]
  }
 ],
 "metadata": {
  "kernelspec": {
   "display_name": "Julia 0.4.0",
   "language": "julia",
   "name": "julia-0.4"
  },
  "language_info": {
   "file_extension": ".jl",
   "mimetype": "application/julia",
   "name": "julia",
   "version": "0.4.0"
  }
 },
 "nbformat": 4,
 "nbformat_minor": 0
}

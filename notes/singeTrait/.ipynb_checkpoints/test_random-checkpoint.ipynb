{
 "cells": [
  {
   "cell_type": "markdown",
   "metadata": {},
   "source": [
    "## Module for building Henderson's Mixed Model Equations for single trait\n",
    "\n"
   ]
  },
  {
   "cell_type": "markdown",
   "metadata": {},
   "source": [
    "### Data set to test the module"
   ]
  },
  {
   "cell_type": "code",
   "execution_count": 1,
   "metadata": {
    "collapsed": true
   },
   "outputs": [],
   "source": [
    "using DataFrames"
   ]
  },
  {
   "cell_type": "code",
   "execution_count": 2,
   "metadata": {
    "collapsed": false
   },
   "outputs": [],
   "source": [
    "FILE = \"../../data/small.ped\";"
   ]
  },
  {
   "cell_type": "code",
   "execution_count": 3,
   "metadata": {
    "collapsed": false
   },
   "outputs": [],
   "source": [
    "B = [\"S1\",\"D1\",\"O1\",\"O3\"]\n",
    "Animal = repeat(B,inner=[3])\n",
    "Age = repmat([1,2,3],4)\n",
    "intercept = ones(12,1)\n",
    "df = DataFrame(Animal=Animal,Age=Age,y=randn(12));"
   ]
  },
  {
   "cell_type": "code",
   "execution_count": 4,
   "metadata": {
    "collapsed": false
   },
   "outputs": [
    {
     "data": {
      "text/html": [
       "<table class=\"data-frame\"><tr><th></th><th>Animal</th><th>Age</th><th>y</th></tr><tr><th>1</th><td>S1</td><td>1</td><td>-0.24511968472002782</td></tr><tr><th>2</th><td>S1</td><td>2</td><td>0.22328638702012046</td></tr><tr><th>3</th><td>S1</td><td>3</td><td>0.23477188302557156</td></tr><tr><th>4</th><td>D1</td><td>1</td><td>-1.4418145573631536</td></tr><tr><th>5</th><td>D1</td><td>2</td><td>1.3667741604297987</td></tr><tr><th>6</th><td>D1</td><td>3</td><td>0.7484601761788464</td></tr><tr><th>7</th><td>O1</td><td>1</td><td>1.4547941254413732</td></tr><tr><th>8</th><td>O1</td><td>2</td><td>-2.0043036119887105</td></tr><tr><th>9</th><td>O1</td><td>3</td><td>-0.370375756029495</td></tr><tr><th>10</th><td>O3</td><td>1</td><td>-0.8077392063387818</td></tr><tr><th>11</th><td>O3</td><td>2</td><td>0.11697048339483868</td></tr><tr><th>12</th><td>O3</td><td>3</td><td>-1.2164551837490425</td></tr></table>"
      ],
      "text/plain": [
       "12x3 DataFrames.DataFrame\n",
       "| Row | Animal | Age | y         |\n",
       "|-----|--------|-----|-----------|\n",
       "| 1   | \"S1\"   | 1   | -0.24512  |\n",
       "| 2   | \"S1\"   | 2   | 0.223286  |\n",
       "| 3   | \"S1\"   | 3   | 0.234772  |\n",
       "| 4   | \"D1\"   | 1   | -1.44181  |\n",
       "| 5   | \"D1\"   | 2   | 1.36677   |\n",
       "| 6   | \"D1\"   | 3   | 0.74846   |\n",
       "| 7   | \"O1\"   | 1   | 1.45479   |\n",
       "| 8   | \"O1\"   | 2   | -2.0043   |\n",
       "| 9   | \"O1\"   | 3   | -0.370376 |\n",
       "| 10  | \"O3\"   | 1   | -0.807739 |\n",
       "| 11  | \"O3\"   | 2   | 0.11697   |\n",
       "| 12  | \"O3\"   | 3   | -1.21646  |"
      ]
     },
     "execution_count": 4,
     "metadata": {},
     "output_type": "execute_result"
    }
   ],
   "source": [
    "df"
   ]
  },
  {
   "cell_type": "markdown",
   "metadata": {},
   "source": [
    "### <font color=\"red\"> Run module</font>"
   ]
  },
  {
   "cell_type": "code",
   "execution_count": 5,
   "metadata": {
    "collapsed": false
   },
   "outputs": [],
   "source": [
    "MODULE_PATH=\"/Users/rohan/Box Sync/GitHub/JuliaClassReview/Module/MME.jl\";"
   ]
  },
  {
   "cell_type": "code",
   "execution_count": 6,
   "metadata": {
    "collapsed": false
   },
   "outputs": [
    {
     "data": {
      "text/plain": [
       "MMEModule"
      ]
     },
     "execution_count": 6,
     "metadata": {},
     "output_type": "execute_result"
    }
   ],
   "source": [
    "include(MODULE_PATH)"
   ]
  },
  {
   "cell_type": "code",
   "execution_count": 7,
   "metadata": {
    "collapsed": false
   },
   "outputs": [],
   "source": [
    "ped = PedModule.mkPed(FILE);"
   ]
  },
  {
   "cell_type": "code",
   "execution_count": 8,
   "metadata": {
    "collapsed": false,
    "scrolled": true
   },
   "outputs": [
    {
     "name": "stdout",
     "output_type": "stream",
     "text": [
      "10 "
     ]
    }
   ],
   "source": [
    "varRes=1.0\n",
    "mme = MMEModule.initMME(\"y = intercept + Age + Animal\",varRes)\n",
    "#MMEModule.covList(mme,\"Age\")\n",
    "G=zeros(1,1)\n",
    "G[1,1]=1.0\n",
    "MMEModule.setAsRandom(mme,\"Animal\",ped,G)\n",
    "#MMEModule.setAsRandom(mme,\"Age\",2.0)\n",
    "\n",
    "\n",
    "resG = MMEModule.getSolG(mme,df);"
   ]
  },
  {
   "cell_type": "code",
   "execution_count": 9,
   "metadata": {
    "collapsed": false
   },
   "outputs": [
    {
     "data": {
      "text/plain": [
       "9x2 Array{Any,2}:\n",
       " \"intercept: intercept\"  -0.0310347 \n",
       " \"Age: 1\"                -0.0982406 \n",
       " \"Age: 2\"                 0.0874111 \n",
       " \"Age: 3\"                 0.0108295 \n",
       " \"Animal: S1\"            -0.0559497 \n",
       " \"Animal: D1\"             0.0592428 \n",
       " \"Animal: O1\"            -0.164698  \n",
       " \"Animal: O3\"            -0.362165  \n",
       " \"Animal: O2\"             0.00164656"
      ]
     },
     "execution_count": 9,
     "metadata": {},
     "output_type": "execute_result"
    },
    {
     "name": "stdout",
     "output_type": "stream",
     "text": [
      "0.0007279868265632305\n",
      "20 8.357138495516101e-5\n",
      "30 9.593822353883963e-6\n",
      "40 1.1013509876287766e-6\n"
     ]
    }
   ],
   "source": [
    "resG"
   ]
  },
  {
   "cell_type": "code",
   "execution_count": 10,
   "metadata": {
    "collapsed": false
   },
   "outputs": [
    {
     "data": {
      "text/plain": [
       "9x9 Array{Float64,2}:\n",
       " 12.0  4.0  4.0  4.0   3.0   3.0   3.0   3.0   0.0\n",
       "  4.0  4.0  0.0  0.0   1.0   1.0   1.0   1.0   0.0\n",
       "  4.0  0.0  4.0  0.0   1.0   1.0   1.0   1.0   0.0\n",
       "  4.0  0.0  0.0  4.0   1.0   1.0   1.0   1.0   0.0\n",
       "  3.0  1.0  1.0  1.0   5.5   1.5  -1.0  -1.0  -1.0\n",
       "  3.0  1.0  1.0  1.0   1.5   5.5  -1.0  -1.0  -1.0\n",
       "  3.0  1.0  1.0  1.0  -1.0  -1.0   5.0   0.0   0.0\n",
       "  3.0  1.0  1.0  1.0  -1.0  -1.0   0.0   5.0   0.0\n",
       "  0.0  0.0  0.0  0.0  -1.0  -1.0   0.0   0.0   2.0"
      ]
     },
     "execution_count": 10,
     "metadata": {},
     "output_type": "execute_result"
    }
   ],
   "source": [
    "full(mme.mmeLhs)"
   ]
  },
  {
   "cell_type": "code",
   "execution_count": 11,
   "metadata": {
    "collapsed": false,
    "scrolled": true
   },
   "outputs": [
    {
     "name": "stdout",
     "output_type": "stream",
     "text": [
      "10 "
     ]
    }
   ],
   "source": [
    "varRes=1.0\n",
    "mme = MMEModule.initMME(\"y = intercept + Age + Animal\",varRes)\n",
    "#MMEModule.covList(mme,\"Age\")\n",
    "G=zeros(1,1)\n",
    "G[1,1]=1.0\n",
    "#MMEModule.setAsRandom(mme,\"Animal\",ped,G)\n",
    "MMEModule.setAsRandom(mme,\"Age\",2.0)\n",
    "MMEModule.setAsRandom(mme,\"Animal\",3.0)\n",
    "\n",
    "\n",
    "\n",
    "\n",
    "resG = MMEModule.getSolG(mme,df);"
   ]
  },
  {
   "cell_type": "code",
   "execution_count": 12,
   "metadata": {
    "collapsed": false
   },
   "outputs": [
    {
     "data": {
      "text/plain": [
       "9x9 Array{Float64,2}:\n",
       " 12.0  4.0  4.0  4.0   3.0   3.0   3.0   3.0   0.0\n",
       "  4.0  4.5  0.0  0.0   1.0   1.0   1.0   1.0   0.0\n",
       "  4.0  0.0  4.5  0.0   1.0   1.0   1.0   1.0   0.0\n",
       "  4.0  0.0  0.0  4.5   1.0   1.0   1.0   1.0   0.0\n",
       "  3.0  1.0  1.0  1.0   5.5   1.5  -1.0  -1.0  -1.0\n",
       "  3.0  1.0  1.0  1.0   1.5   5.5  -1.0  -1.0  -1.0\n",
       "  3.0  1.0  1.0  1.0  -1.0  -1.0   5.0   0.0   0.0\n",
       "  3.0  1.0  1.0  1.0  -1.0  -1.0   0.0   5.0   0.0\n",
       "  0.0  0.0  0.0  0.0  -1.0  -1.0   0.0   0.0   2.0"
      ]
     },
     "execution_count": 12,
     "metadata": {},
     "output_type": "execute_result"
    },
    {
     "name": "stdout",
     "output_type": "stream",
     "text": [
      "0.0007279868265632369\n",
      "20 8.357138495515867e-5\n",
      "30 9.593822353883326e-6\n",
      "40 1.101350987628596e-6\n"
     ]
    }
   ],
   "source": [
    "full(mme.mmeLhs)"
   ]
  }
 ],
 "metadata": {
  "kernelspec": {
   "display_name": "Julia 0.4.3",
   "language": "julia",
   "name": "julia-0.4"
  },
  "language_info": {
   "file_extension": ".jl",
   "mimetype": "application/julia",
   "name": "julia",
   "version": "0.4.3"
  }
 },
 "nbformat": 4,
 "nbformat_minor": 0
}

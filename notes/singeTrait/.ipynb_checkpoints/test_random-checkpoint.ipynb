{
 "cells": [
  {
   "cell_type": "markdown",
   "metadata": {},
   "source": [
    "## Module for building Henderson's Mixed Model Equations for single trait\n",
    "\n"
   ]
  },
  {
   "cell_type": "markdown",
   "metadata": {},
   "source": [
    "### Data set to test the module"
   ]
  },
  {
   "cell_type": "code",
   "execution_count": 1,
   "metadata": {
    "collapsed": true
   },
   "outputs": [],
   "source": [
    "using DataFrames"
   ]
  },
  {
   "cell_type": "code",
   "execution_count": 2,
   "metadata": {
    "collapsed": false
   },
   "outputs": [],
   "source": [
    "FILE = \"../../data/small.ped\";"
   ]
  },
  {
   "cell_type": "code",
   "execution_count": 3,
   "metadata": {
    "collapsed": false
   },
   "outputs": [],
   "source": [
    "B = [\"S1\",\"D1\",\"O1\",\"O3\"]\n",
    "Animal = repeat(B,inner=[3])\n",
    "Age = repmat([1,2,3],4)\n",
    "intercept = ones(12,1)\n",
    "df = DataFrame(Animal=Animal,Age=Age,y=randn(12));"
   ]
  },
  {
   "cell_type": "code",
   "execution_count": 4,
   "metadata": {
    "collapsed": false
   },
   "outputs": [
    {
     "data": {
      "text/html": [
       "<table class=\"data-frame\"><tr><th></th><th>Animal</th><th>Age</th><th>y</th></tr><tr><th>1</th><td>S1</td><td>1</td><td>1.2132653551449166</td></tr><tr><th>2</th><td>S1</td><td>2</td><td>2.2561902922490056</td></tr><tr><th>3</th><td>S1</td><td>3</td><td>0.8008500502343552</td></tr><tr><th>4</th><td>D1</td><td>1</td><td>-1.0952708917724348</td></tr><tr><th>5</th><td>D1</td><td>2</td><td>-2.3821087655267172</td></tr><tr><th>6</th><td>D1</td><td>3</td><td>0.9740008489395003</td></tr><tr><th>7</th><td>O1</td><td>1</td><td>-0.44535821996152364</td></tr><tr><th>8</th><td>O1</td><td>2</td><td>0.9926066132483637</td></tr><tr><th>9</th><td>O1</td><td>3</td><td>0.632898377803815</td></tr><tr><th>10</th><td>O3</td><td>1</td><td>-0.707672760928438</td></tr><tr><th>11</th><td>O3</td><td>2</td><td>1.2730092477005919</td></tr><tr><th>12</th><td>O3</td><td>3</td><td>0.4354598796217275</td></tr></table>"
      ],
      "text/plain": [
       "12x3 DataFrames.DataFrame\n",
       "| Row | Animal | Age | y         |\n",
       "|-----|--------|-----|-----------|\n",
       "| 1   | \"S1\"   | 1   | 1.21327   |\n",
       "| 2   | \"S1\"   | 2   | 2.25619   |\n",
       "| 3   | \"S1\"   | 3   | 0.80085   |\n",
       "| 4   | \"D1\"   | 1   | -1.09527  |\n",
       "| 5   | \"D1\"   | 2   | -2.38211  |\n",
       "| 6   | \"D1\"   | 3   | 0.974001  |\n",
       "| 7   | \"O1\"   | 1   | -0.445358 |\n",
       "| 8   | \"O1\"   | 2   | 0.992607  |\n",
       "| 9   | \"O1\"   | 3   | 0.632898  |\n",
       "| 10  | \"O3\"   | 1   | -0.707673 |\n",
       "| 11  | \"O3\"   | 2   | 1.27301   |\n",
       "| 12  | \"O3\"   | 3   | 0.43546   |"
      ]
     },
     "execution_count": 4,
     "metadata": {},
     "output_type": "execute_result"
    }
   ],
   "source": [
    "df"
   ]
  },
  {
   "cell_type": "markdown",
   "metadata": {},
   "source": [
    "### <font color=\"red\"> Run module</font>"
   ]
  },
  {
   "cell_type": "code",
   "execution_count": 5,
   "metadata": {
    "collapsed": false
   },
   "outputs": [],
   "source": [
    "MODULE_PATH=\"/Users/rohan/Box Sync/GitHub/JuliaClassReview/Module/MME.jl\";"
   ]
  },
  {
   "cell_type": "code",
   "execution_count": 6,
   "metadata": {
    "collapsed": false
   },
   "outputs": [
    {
     "data": {
      "text/plain": [
       "MMEModule"
      ]
     },
     "execution_count": 6,
     "metadata": {},
     "output_type": "execute_result"
    }
   ],
   "source": [
    "include(MODULE_PATH)"
   ]
  },
  {
   "cell_type": "code",
   "execution_count": 7,
   "metadata": {
    "collapsed": false
   },
   "outputs": [],
   "source": [
    "ped = PedModule.mkPed(FILE);"
   ]
  },
  {
   "cell_type": "code",
   "execution_count": 8,
   "metadata": {
    "collapsed": false,
    "scrolled": true
   },
   "outputs": [
    {
     "name": "stdout",
     "output_type": "stream",
     "text": [
      "10 "
     ]
    }
   ],
   "source": [
    "varRes=1.0\n",
    "mme = MMEModule.initMME(\"y = intercept + Age + Animal\",varRes)\n",
    "#MMEModule.covList(mme,\"Age\")\n",
    "G=zeros(1,1)\n",
    "G[1,1]=1.0\n",
    "MMEModule.setAsRandom(mme,\"Animal\",ped,G)\n",
    "MMEModule.setAsRandom(mme,\"Age\",2.0,4.1)\n",
    "MMEModule.outputSamplesFor(mme,\"Age\")\n",
    "resG = MMEModule.getSolG(mme,df);"
   ]
  },
  {
   "cell_type": "code",
   "execution_count": 9,
   "metadata": {
    "collapsed": false
   },
   "outputs": [
    {
     "data": {
      "text/plain": [
       "9x2 Array{Any,2}:\n",
       " \"intercept: intercept\"   0.316056  \n",
       " \"Age: 1\"                -0.522443  \n",
       " \"Age: 2\"                 0.183053  \n",
       " \"Age: 3\"                 0.339389  \n",
       " \"Animal: S1\"             0.845164  \n",
       " \"Animal: D1\"            -0.848327  \n",
       " \"Animal: O1\"             0.045763  \n",
       " \"Animal: O3\"             0.00989293\n",
       " \"Animal: O2\"            -0.00158167"
      ]
     },
     "execution_count": 9,
     "metadata": {},
     "output_type": "execute_result"
    },
    {
     "name": "stdout",
     "output_type": "stream",
     "text": [
      "0.00022759765508395289\n",
      "20 2.612774378942317e-5\n",
      "30 2.9994110132063047e-6\n"
     ]
    }
   ],
   "source": [
    "resG"
   ]
  },
  {
   "cell_type": "code",
   "execution_count": 10,
   "metadata": {
    "collapsed": false
   },
   "outputs": [],
   "source": [
    "out=MMEModule.sampleMCMC(50,mme,df;outFreq=100);"
   ]
  },
  {
   "cell_type": "code",
   "execution_count": 11,
   "metadata": {
    "collapsed": false
   },
   "outputs": [
    {
     "data": {
      "text/plain": [
       "Base.KeyIterator for a Dict{Any,Any} with 4 entries. Keys:\n",
       "  \"posteriorMeanLocationParms\"\n",
       "  \"MCMCSamples for variance of :Age\"\n",
       "  \"MCMCSamples: Age\"\n",
       "  \"MCMCSamples for genetic var-cov parameters\""
      ]
     },
     "execution_count": 11,
     "metadata": {},
     "output_type": "execute_result"
    }
   ],
   "source": [
    "keys(out)"
   ]
  },
  {
   "cell_type": "code",
   "execution_count": 12,
   "metadata": {
    "collapsed": false
   },
   "outputs": [
    {
     "data": {
      "text/plain": [
       "9x2 Array{Any,2}:\n",
       " \"intercept: intercept\"  -0.32142   \n",
       " \"Age: 1\"                -0.00693073\n",
       " \"Age: 2\"                 0.42926   \n",
       " \"Age: 3\"                 0.5045    \n",
       " \"Animal: S1\"             0.855214  \n",
       " \"Animal: D1\"            -0.376874  \n",
       " \"Animal: O1\"             0.28118   \n",
       " \"Animal: O3\"             0.365548  \n",
       " \"Animal: O2\"             0.254636  "
      ]
     },
     "execution_count": 12,
     "metadata": {},
     "output_type": "execute_result"
    }
   ],
   "source": [
    "out[\"posteriorMeanLocationParms\"]"
   ]
  },
  {
   "cell_type": "code",
   "execution_count": 13,
   "metadata": {
    "collapsed": false,
    "scrolled": false
   },
   "outputs": [
    {
     "data": {
      "text/plain": [
       "50-element Array{Float64,1}:\n",
       " 1.69211 \n",
       " 1.58564 \n",
       " 1.17715 \n",
       " 1.52225 \n",
       " 0.990845\n",
       " 0.867565\n",
       " 0.542409\n",
       " 0.781254\n",
       " 1.50138 \n",
       " 0.473106\n",
       " 1.17908 \n",
       " 0.679083\n",
       " 0.349849\n",
       " ⋮       \n",
       " 0.890362\n",
       " 0.442917\n",
       " 0.786767\n",
       " 1.08898 \n",
       " 0.721945\n",
       " 1.64808 \n",
       " 1.46186 \n",
       " 1.01488 \n",
       " 1.10176 \n",
       " 0.692502\n",
       " 0.819258\n",
       " 0.487846"
      ]
     },
     "execution_count": 13,
     "metadata": {},
     "output_type": "execute_result"
    }
   ],
   "source": [
    "out[\"MCMCSamples for variance of :Age\"]"
   ]
  },
  {
   "cell_type": "code",
   "execution_count": 14,
   "metadata": {
    "collapsed": false,
    "scrolled": false
   },
   "outputs": [
    {
     "data": {
      "text/plain": [
       "50x3 Array{Float64,2}:\n",
       "  0.781496    0.998583    0.9323  \n",
       "  0.113974    0.927355    1.55404 \n",
       "  0.599995    0.868345    1.20713 \n",
       "  0.398541    1.4018      0.759203\n",
       "  0.44067     0.952633    0.969736\n",
       " -0.0557018   0.536446    0.374875\n",
       " -0.320568    0.0888294   0.141902\n",
       " -0.0243353   0.222029    0.995705\n",
       " -0.239482    0.765594    0.711003\n",
       " -0.618998   -0.393653    0.537206\n",
       " -0.940014   -0.24008     0.247164\n",
       " -0.934787    0.0693121   0.100529\n",
       " -0.458313   -0.540208   -0.479901\n",
       "  ⋮                               \n",
       "  0.146485    0.192639    0.674919\n",
       " -0.457056    0.488998    0.269603\n",
       "  0.558152    0.967913    0.899642\n",
       " -0.0456436   0.613869    0.871327\n",
       "  0.234329    1.3331      0.970845\n",
       " -0.130511    1.06805     0.95974 \n",
       "  0.938376    1.14589     0.672969\n",
       "  0.721991    0.845608    0.672746\n",
       "  0.243247    0.641756    0.618538\n",
       "  0.108024    0.149395    1.20669 \n",
       " -0.325079    0.54234     0.884682\n",
       "  0.392274    0.124521    0.202051"
      ]
     },
     "execution_count": 14,
     "metadata": {},
     "output_type": "execute_result"
    }
   ],
   "source": [
    "out[\"MCMCSamples: Age\"]"
   ]
  },
  {
   "cell_type": "code",
   "execution_count": 16,
   "metadata": {
    "collapsed": false,
    "scrolled": false
   },
   "outputs": [
    {
     "data": {
      "text/plain": [
       "50x1 Array{Float64,2}:\n",
       " 1.07852 \n",
       " 0.922029\n",
       " 0.529907\n",
       " 0.956813\n",
       " 0.371747\n",
       " 0.45943 \n",
       " 0.336634\n",
       " 0.539329\n",
       " 0.484804\n",
       " 0.729904\n",
       " 0.774995\n",
       " 0.430226\n",
       " 0.445962\n",
       " ⋮       \n",
       " 0.649048\n",
       " 0.56305 \n",
       " 1.77118 \n",
       " 1.29603 \n",
       " 0.825866\n",
       " 0.720751\n",
       " 0.776733\n",
       " 0.785042\n",
       " 0.545684\n",
       " 1.11452 \n",
       " 1.47797 \n",
       " 0.593643"
      ]
     },
     "execution_count": 16,
     "metadata": {},
     "output_type": "execute_result"
    }
   ],
   "source": [
    "out[\"MCMCSamples for genetic var-cov parameters\"]"
   ]
  }
 ],
 "metadata": {
  "kernelspec": {
   "display_name": "Julia 0.4.3",
   "language": "julia",
   "name": "julia-0.4"
  },
  "language_info": {
   "file_extension": ".jl",
   "mimetype": "application/julia",
   "name": "julia",
   "version": "0.4.3"
  }
 },
 "nbformat": 4,
 "nbformat_minor": 0
}

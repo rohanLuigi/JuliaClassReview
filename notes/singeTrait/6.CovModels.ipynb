{
 "cells": [
  {
   "cell_type": "markdown",
   "metadata": {},
   "source": [
    "## Continuation of Tools for building Henderson's Mixed Model Equations\n",
    "\n",
    "Here we will see how the mixed model equations (HMME) can be built given a data set and a model string. \n",
    "\n",
    "We will start by building the \"OLS\" part of the equations. "
   ]
  },
  {
   "cell_type": "markdown",
   "metadata": {},
   "source": [
    "### Adding code for covariance models."
   ]
  },
  {
   "cell_type": "code",
   "execution_count": 22,
   "metadata": {
    "collapsed": true
   },
   "outputs": [],
   "source": [
    "using DataFrames"
   ]
  },
  {
   "cell_type": "markdown",
   "metadata": {},
   "source": [
    "### A small data set to test the tools"
   ]
  },
  {
   "cell_type": "code",
   "execution_count": 23,
   "metadata": {
    "collapsed": false
   },
   "outputs": [],
   "source": [
    "sex   = [\"s\",\"s\",\"s\",\"d\",\"d\",\"d\"]\n",
    "breed = [\"Angus\",\"Angus\",\"Hereford\",\"Hereford\",\"Angus\",\"Angus\"]\n",
    "age   = [40,38,38,38,40,40]\n",
    "weight= [110,103,142,100,112,101];"
   ]
  },
  {
   "cell_type": "code",
   "execution_count": 24,
   "metadata": {
    "collapsed": false
   },
   "outputs": [
    {
     "data": {
      "text/html": [
       "<table class=\"data-frame\"><tr><th></th><th>sex</th><th>breed</th><th>age</th><th>weight</th><th>y</th></tr><tr><th>1</th><td>s</td><td>Angus</td><td>40</td><td>110</td><td>-0.649</td></tr><tr><th>2</th><td>s</td><td>Angus</td><td>38</td><td>103</td><td>1.447</td></tr><tr><th>3</th><td>s</td><td>Hereford</td><td>38</td><td>142</td><td>0.41</td></tr><tr><th>4</th><td>d</td><td>Hereford</td><td>38</td><td>100</td><td>-1.289</td></tr><tr><th>5</th><td>d</td><td>Angus</td><td>40</td><td>112</td><td>-0.206</td></tr><tr><th>6</th><td>d</td><td>Angus</td><td>40</td><td>101</td><td>-1.655</td></tr></table>"
      ],
      "text/plain": [
       "6x5 DataFrames.DataFrame\n",
       "| Row | sex | breed      | age | weight | y      |\n",
       "|-----|-----|------------|-----|--------|--------|\n",
       "| 1   | \"s\" | \"Angus\"    | 40  | 110    | -0.649 |\n",
       "| 2   | \"s\" | \"Angus\"    | 38  | 103    | 1.447  |\n",
       "| 3   | \"s\" | \"Hereford\" | 38  | 142    | 0.41   |\n",
       "| 4   | \"d\" | \"Hereford\" | 38  | 100    | -1.289 |\n",
       "| 5   | \"d\" | \"Angus\"    | 40  | 112    | -0.206 |\n",
       "| 6   | \"d\" | \"Angus\"    | 40  | 101    | -1.655 |"
      ]
     },
     "execution_count": 24,
     "metadata": {},
     "output_type": "execute_result"
    }
   ],
   "source": [
    "df1 = DataFrame(sex=sex,breed=breed,age=age,weight=weight,y=round(randn(6),3))"
   ]
  },
  {
   "cell_type": "markdown",
   "metadata": {},
   "source": [
    "### <font color=\"red\"> types and functions below are same as before.</font>"
   ]
  },
  {
   "cell_type": "code",
   "execution_count": 25,
   "metadata": {
    "collapsed": false
   },
   "outputs": [
    {
     "data": {
      "text/plain": [
       "getNames (generic function with 1 method)"
      ]
     },
     "execution_count": 25,
     "metadata": {},
     "output_type": "execute_result"
    }
   ],
   "source": [
    "function mkDict(a)\n",
    "    aUnique = unique(a)\n",
    "    d = Dict()\n",
    "    names = Array(Any,size(aUnique,1))\n",
    "    for (i,s) in enumerate(aUnique)\n",
    "        names[i] = s\n",
    "        d[s] = i\n",
    "    end\n",
    "    return d,names\n",
    "end\n",
    "\n",
    "function getNames(mme)\n",
    "    names = Array(AbstractString,0)\n",
    "    for trm in mme.modelTerms\n",
    "        for name in trm.names\n",
    "            push!(names,trm.trmStr*\": \"*name)\n",
    "        end\n",
    "    end\n",
    "    return names\n",
    "end  "
   ]
  },
  {
   "cell_type": "code",
   "execution_count": 1,
   "metadata": {
    "collapsed": false
   },
   "outputs": [],
   "source": [
    "include(\"../../Module/solver.jl\");"
   ]
  },
  {
   "cell_type": "markdown",
   "metadata": {},
   "source": [
    "### <font color=\"red\"> types and functions below are modifeid to  work with covariates.</font>"
   ]
  },
  {
   "cell_type": "code",
   "execution_count": 27,
   "metadata": {
    "collapsed": true
   },
   "outputs": [],
   "source": [
    "type ModelTerm \n",
    "    trmStr::AbstractString\n",
    "    nFactors::Int64\n",
    "    factors::Array{Symbol,1}\n",
    "    str::Array{AbstractString,1} #new #levels\n",
    "    val::Array{Float64,1}        #new\n",
    "    X::SparseMatrixCSC{Float64,Int64}\n",
    "    names::Array{Any,1}\n",
    "end\n",
    "\n",
    "type MME\n",
    "    modelEquation::AbstractString\n",
    "    modelTerms::Array{ModelTerm,1}\n",
    "    lhs::Symbol\n",
    "    covVec::Array{Symbol,1}    #new\n",
    "    mmeLhs\n",
    "    mmeRhs\n",
    "    X\n",
    "end"
   ]
  },
  {
   "cell_type": "code",
   "execution_count": 28,
   "metadata": {
    "collapsed": false
   },
   "outputs": [
    {
     "data": {
      "text/plain": [
       "initMME (generic function with 1 method)"
      ]
     },
     "execution_count": 28,
     "metadata": {},
     "output_type": "execute_result"
    }
   ],
   "source": [
    "function getTerm(trmStr)\n",
    "    trm = ModelTerm(trmStr,0,[],[],[],spzeros(0,0),[])\n",
    "    if length(trmStr)==1\n",
    "        trm.nFactors = 1\n",
    "        trm.factors  = [symbol(strip(trmStr))]\n",
    "    else\n",
    "        factorVec = split(trmStr,\"*\")\n",
    "        trm.nFactors = length(factorVec)\n",
    "        trm.factors = [symbol(strip(f)) for f in factorVec]\n",
    "    end\n",
    "    return trm\n",
    "end\n",
    "\n",
    "function initMME(modelEquation::AbstractString)\n",
    "    if modelEquation==\"\"\n",
    "        error(\"modelEquation is empty\\n\")\n",
    "    end\n",
    "    lhsRhs = split(modelEquation,\"=\")\n",
    "    lhs = symbol(strip(lhsRhs[1]))\n",
    "    rhs = strip(lhsRhs[2])\n",
    "    rhsVec = split(rhs,\"+\")    \n",
    "    modelTerms = [getTerm(strip(trmStr)) for trmStr in rhsVec]\n",
    "    return MME(modelEquation,modelTerms,lhs,[],0,0,0)\n",
    "end "
   ]
  },
  {
   "cell_type": "code",
   "execution_count": 29,
   "metadata": {
    "collapsed": false
   },
   "outputs": [
    {
     "data": {
      "text/plain": [
       "covList (generic function with 1 method)"
      ]
     },
     "execution_count": 29,
     "metadata": {},
     "output_type": "execute_result"
    }
   ],
   "source": [
    "function covList(mme::MME, covStr::AbstractString)\n",
    "    covVec = split(covStr,\" \",keep=false) \n",
    "    mme.covVec = [symbol(i) for i in covVec]\n",
    "    nothing\n",
    "end"
   ]
  },
  {
   "cell_type": "code",
   "execution_count": 30,
   "metadata": {
    "collapsed": false
   },
   "outputs": [
    {
     "data": {
      "text/plain": [
       "getData (generic function with 1 method)"
      ]
     },
     "execution_count": 30,
     "metadata": {},
     "output_type": "execute_result"
    }
   ],
   "source": [
    "function getData(trm::ModelTerm,df::DataFrame,mme::MME) #A*B \n",
    "    nObs = size(df,1)                                   # A:factor,B: covariate\n",
    "    trm.str = Array(AbstractString,nObs)\n",
    "    trm.val = Array(Float64,nObs)\n",
    "    \n",
    "    if trm.factors[1] == :intercept ##modified from Melanie's HW ##new\n",
    "        str = fill(string(trm.factors[1]),nObs) \n",
    "        val = fill(1.0,nObs)\n",
    "        trm.str = str\n",
    "        trm.val = val\n",
    "        return\n",
    "    end\n",
    "    \n",
    "    myDf = df[trm.factors]   \n",
    "        \n",
    "    if trm.factors[1] in mme.covVec #factors= [\"A\",\"B\"]; covVec=[\"B\"]\n",
    "        str = fill(string(trm.factors[1]),nObs)\n",
    "        val = df[trm.factors[1]]\n",
    "    else\n",
    "        str = [string(i) for i in df[trm.factors[1]]] #[\"A1\",\"A1\",\"A2\"...]\n",
    "        val = fill(1.0,nObs) # [1,1,1...]\n",
    "    end\n",
    "    for i=2:trm.nFactors\n",
    "        if trm.factors[i] in mme.covVec\n",
    "            str = str .* fill(\" x \"*string(trm.factors[i]),nObs) \n",
    "            #[\"A1 X B\",\"A1 X B\",\"A2 X B\"...]\n",
    "            val = val .* df[trm.factors[i]]\n",
    "            #[1*3.2,1*2.5,1*2.1....]\n",
    "        else\n",
    "            str = str .* fill(\" x \",nObs) .* [string(j) for j in df[trm.factors[i]]]\n",
    "            val = val .* fill(1.0,nObs)\n",
    "        end\n",
    "    end\n",
    "    trm.str = str\n",
    "    trm.val = val\n",
    "end"
   ]
  },
  {
   "cell_type": "code",
   "execution_count": 31,
   "metadata": {
    "collapsed": false
   },
   "outputs": [
    {
     "data": {
      "text/plain": [
       "getX (generic function with 1 method)"
      ]
     },
     "execution_count": 31,
     "metadata": {},
     "output_type": "execute_result"
    }
   ],
   "source": [
    "function getX(trm)\n",
    "    dict,trm.names  = mkDict(trm.str)\n",
    "    xj    = round(Int64,[dict[i] for i in trm.str])\n",
    "    xi    = 1:size(trm.str,1)\n",
    "    trm.X = sparse(xi,xj,trm.val)  \n",
    "end"
   ]
  },
  {
   "cell_type": "code",
   "execution_count": 32,
   "metadata": {
    "collapsed": false
   },
   "outputs": [
    {
     "data": {
      "text/plain": [
       "getMME (generic function with 1 method)"
      ]
     },
     "execution_count": 32,
     "metadata": {},
     "output_type": "execute_result"
    }
   ],
   "source": [
    "function getMME(mme::MME, df::DataFrame)\n",
    "    for trm in mme.modelTerms\n",
    "        getData(trm,df,mme)\n",
    "        getX(trm)\n",
    "    end\n",
    "    n   = size(mme.modelTerms,1)\n",
    "    trm = mme.modelTerms[1]\n",
    "    X   = trm.X\n",
    "    for i=2:n\n",
    "        trm = mme.modelTerms[i]\n",
    "        X = [X trm.X]\n",
    "    end\n",
    "    y      = convert(Array,df[mme.lhs])#\n",
    "    mme.mmeLhs = X'X\n",
    "    mme.mmeRhs = X'y\n",
    "    mme.X = X\n",
    "    nothing\n",
    "end"
   ]
  },
  {
   "cell_type": "code",
   "execution_count": 33,
   "metadata": {
    "collapsed": false
   },
   "outputs": [
    {
     "data": {
      "text/plain": [
       "getSolJ (generic function with 1 method)"
      ]
     },
     "execution_count": 33,
     "metadata": {},
     "output_type": "execute_result"
    }
   ],
   "source": [
    "function getSolJ(mme::MME, df::DataFrame)\n",
    "    if size(mme.mmeRhs)==() \n",
    "        getMME(mme,df)\n",
    "    end\n",
    "    p = size(mme.mmeRhs,1)\n",
    "    return [getNames(mme) Jacobi(mme.mmeLhs,fill(0.0,p),mme.mmeRhs,0.3,tol=0.000001)]\n",
    "end"
   ]
  },
  {
   "cell_type": "code",
   "execution_count": 34,
   "metadata": {
    "collapsed": false
   },
   "outputs": [
    {
     "data": {
      "text/plain": [
       "getSolG (generic function with 1 method)"
      ]
     },
     "execution_count": 34,
     "metadata": {},
     "output_type": "execute_result"
    }
   ],
   "source": [
    "function getSolG(mme::MME, df::DataFrame;output=10)\n",
    "    if size(mme.mmeRhs)==() \n",
    "        getMME(mme,df)\n",
    "    end\n",
    "    p = size(mme.mmeRhs,1)\n",
    "    return [getNames(mme) GaussSeidel(mme.mmeLhs,fill(0.0,p),mme.mmeRhs,tol=0.000001,output=output)]\n",
    "end"
   ]
  },
  {
   "cell_type": "markdown",
   "metadata": {},
   "source": [
    "### run it !!"
   ]
  },
  {
   "cell_type": "code",
   "execution_count": 35,
   "metadata": {
    "collapsed": false
   },
   "outputs": [],
   "source": [
    "mme = initMME(\"y = sex + breed + breed*weight + weight + sex*weight*age\");"
   ]
  },
  {
   "cell_type": "code",
   "execution_count": 36,
   "metadata": {
    "collapsed": true
   },
   "outputs": [],
   "source": [
    "covList(mme,\"weight age\")"
   ]
  },
  {
   "cell_type": "code",
   "execution_count": 37,
   "metadata": {
    "collapsed": false,
    "scrolled": true
   },
   "outputs": [
    {
     "name": "stdout",
     "output_type": "stream",
     "text": [
      "200 2.5166975440012465\n",
      "400 1.2388866743607556\n",
      "600 0.6098573376040108\n",
      "800 0.30015505199895753\n",
      "1000 0.1477029878071148\n"
     ]
    }
   ],
   "source": [
    "resG = getSolG(mme,df1,output=200);"
   ]
  },
  {
   "cell_type": "code",
   "execution_count": 30,
   "metadata": {
    "collapsed": false
   },
   "outputs": [
    {
     "data": {
      "text/plain": [
       "6x9 Array{Float64,2}:\n",
       " 1.0  0.0  1.0  0.0  110.0    0.0  110.0  4400.0     0.0\n",
       " 1.0  0.0  1.0  0.0  103.0    0.0  103.0  3914.0     0.0\n",
       " 1.0  0.0  0.0  1.0    0.0  142.0  142.0  5396.0     0.0\n",
       " 0.0  1.0  0.0  1.0    0.0  100.0  100.0     0.0  3800.0\n",
       " 0.0  1.0  1.0  0.0  112.0    0.0  112.0     0.0  4480.0\n",
       " 0.0  1.0  1.0  0.0  101.0    0.0  101.0     0.0  4040.0"
      ]
     },
     "execution_count": 30,
     "metadata": {},
     "output_type": "execute_result"
    }
   ],
   "source": [
    "full(mme.X)"
   ]
  }
 ],
 "metadata": {
  "kernelspec": {
   "display_name": "Julia 0.4.3",
   "language": "julia",
   "name": "julia-0.4"
  },
  "language_info": {
   "file_extension": ".jl",
   "mimetype": "application/julia",
   "name": "julia",
   "version": "0.4.3"
  }
 },
 "nbformat": 4,
 "nbformat_minor": 0
}

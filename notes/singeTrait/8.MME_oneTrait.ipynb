{
 "cells": [
  {
   "cell_type": "markdown",
   "metadata": {},
   "source": [
    "## Tools for building Henderson's Mixed Model Equations\n",
    "\n",
    "Here we will see how the mixed model equations (HMME) can be built given a data set and a model string. \n"
   ]
  },
  {
   "cell_type": "code",
   "execution_count": 1,
   "metadata": {
    "collapsed": false
   },
   "outputs": [],
   "source": [
    "using PedModule"
   ]
  },
  {
   "cell_type": "code",
   "execution_count": 2,
   "metadata": {
    "collapsed": false
   },
   "outputs": [],
   "source": [
    "FILE = \"../../data/small.ped\";"
   ]
  },
  {
   "cell_type": "code",
   "execution_count": 3,
   "metadata": {
    "collapsed": false
   },
   "outputs": [
    {
     "name": "stdout",
     "output_type": "stream",
     "text": [
      "S1 0 0\n",
      "D1 0 0\n",
      "O1 S1 D1\n",
      "O2 S1 D1\n",
      "O3 S1 D1\n"
     ]
    }
   ],
   "source": [
    ";cat $FILE"
   ]
  },
  {
   "cell_type": "code",
   "execution_count": 4,
   "metadata": {
    "collapsed": false
   },
   "outputs": [],
   "source": [
    "ped = PedModule.mkPed(FILE);"
   ]
  },
  {
   "cell_type": "code",
   "execution_count": 5,
   "metadata": {
    "collapsed": false
   },
   "outputs": [
    {
     "data": {
      "text/plain": [
       "Dict{Any,Any} with 5 entries:\n",
       "  \"O1\" => PedModule.PedNode(3,\"S1\",\"D1\",0.0)\n",
       "  \"S1\" => PedModule.PedNode(1,\"0\",\"0\",0.0)\n",
       "  \"O3\" => PedModule.PedNode(4,\"S1\",\"D1\",0.0)\n",
       "  \"D1\" => PedModule.PedNode(2,\"0\",\"0\",0.0)\n",
       "  \"O2\" => PedModule.PedNode(5,\"S1\",\"D1\",0.0)"
      ]
     },
     "execution_count": 5,
     "metadata": {},
     "output_type": "execute_result"
    }
   ],
   "source": [
    "ped.idMap"
   ]
  },
  {
   "cell_type": "code",
   "execution_count": 6,
   "metadata": {
    "collapsed": false
   },
   "outputs": [],
   "source": [
    "ii,jj,vv = PedModule.HAi(ped);"
   ]
  },
  {
   "cell_type": "markdown",
   "metadata": {},
   "source": [
    "### A small data set to test the tools"
   ]
  },
  {
   "cell_type": "code",
   "execution_count": 7,
   "metadata": {
    "collapsed": false
   },
   "outputs": [],
   "source": [
    "A = [1,1,1,1]\n",
    "B = [\"S1\",\"D1\",\"O1\",\"O3\"]\n",
    "y = [100.0, 50.0, 150.0, 40.0];"
   ]
  },
  {
   "cell_type": "code",
   "execution_count": 8,
   "metadata": {
    "collapsed": true
   },
   "outputs": [],
   "source": [
    "using DataFrames"
   ]
  },
  {
   "cell_type": "code",
   "execution_count": 9,
   "metadata": {
    "collapsed": false,
    "scrolled": true
   },
   "outputs": [
    {
     "data": {
      "text/html": [
       "<table class=\"data-frame\"><tr><th></th><th>intercept</th><th>Animal</th><th>y</th></tr><tr><th>1</th><td>1</td><td>S1</td><td>100.0</td></tr><tr><th>2</th><td>1</td><td>D1</td><td>50.0</td></tr><tr><th>3</th><td>1</td><td>O1</td><td>150.0</td></tr><tr><th>4</th><td>1</td><td>O3</td><td>40.0</td></tr></table>"
      ],
      "text/plain": [
       "4x3 DataFrames.DataFrame\n",
       "| Row | intercept | Animal | y     |\n",
       "|-----|-----------|--------|-------|\n",
       "| 1   | 1         | \"S1\"   | 100.0 |\n",
       "| 2   | 1         | \"D1\"   | 50.0  |\n",
       "| 3   | 1         | \"O1\"   | 150.0 |\n",
       "| 4   | 1         | \"O3\"   | 40.0  |"
      ]
     },
     "execution_count": 9,
     "metadata": {},
     "output_type": "execute_result"
    }
   ],
   "source": [
    "df1 = DataFrame(intercept=A,Animal=B,y=y)"
   ]
  },
  {
   "cell_type": "markdown",
   "metadata": {},
   "source": [
    "### Data with repeated measures"
   ]
  },
  {
   "cell_type": "code",
   "execution_count": 10,
   "metadata": {
    "collapsed": false
   },
   "outputs": [
    {
     "data": {
      "text/html": [
       "<table class=\"data-frame\"><tr><th></th><th>Animal</th><th>Age</th><th>y</th></tr><tr><th>1</th><td>S1</td><td>1</td><td>0.2647053315154632</td></tr><tr><th>2</th><td>S1</td><td>2</td><td>-0.0731311110739266</td></tr><tr><th>3</th><td>S1</td><td>3</td><td>0.0425940328250158</td></tr><tr><th>4</th><td>D1</td><td>1</td><td>1.5332740260431432</td></tr><tr><th>5</th><td>D1</td><td>2</td><td>1.4164743253084766</td></tr><tr><th>6</th><td>D1</td><td>3</td><td>-0.7860008547136742</td></tr><tr><th>7</th><td>O1</td><td>1</td><td>-0.2858582188035473</td></tr><tr><th>8</th><td>O1</td><td>2</td><td>-0.20468833119277516</td></tr><tr><th>9</th><td>O1</td><td>3</td><td>0.8209338615854505</td></tr><tr><th>10</th><td>O3</td><td>1</td><td>-0.8070041989165463</td></tr><tr><th>11</th><td>O3</td><td>2</td><td>1.3586376102973416</td></tr><tr><th>12</th><td>O3</td><td>3</td><td>-1.8142374639637324</td></tr></table>"
      ],
      "text/plain": [
       "12x3 DataFrames.DataFrame\n",
       "| Row | Animal | Age | y          |\n",
       "|-----|--------|-----|------------|\n",
       "| 1   | \"S1\"   | 1   | 0.264705   |\n",
       "| 2   | \"S1\"   | 2   | -0.0731311 |\n",
       "| 3   | \"S1\"   | 3   | 0.042594   |\n",
       "| 4   | \"D1\"   | 1   | 1.53327    |\n",
       "| 5   | \"D1\"   | 2   | 1.41647    |\n",
       "| 6   | \"D1\"   | 3   | -0.786001  |\n",
       "| 7   | \"O1\"   | 1   | -0.285858  |\n",
       "| 8   | \"O1\"   | 2   | -0.204688  |\n",
       "| 9   | \"O1\"   | 3   | 0.820934   |\n",
       "| 10  | \"O3\"   | 1   | -0.807004  |\n",
       "| 11  | \"O3\"   | 2   | 1.35864    |\n",
       "| 12  | \"O3\"   | 3   | -1.81424   |"
      ]
     },
     "execution_count": 10,
     "metadata": {},
     "output_type": "execute_result"
    }
   ],
   "source": [
    "Animal = repeat(B,inner=[3])\n",
    "Age = repmat([1,2,3],4)\n",
    "intercept = ones(12,1)\n",
    "df2 = DataFrame(Animal=Animal,Age=Age,y=randn(12))"
   ]
  },
  {
   "cell_type": "markdown",
   "metadata": {},
   "source": [
    "### Data with maternal effect"
   ]
  },
  {
   "cell_type": "code",
   "execution_count": 11,
   "metadata": {
    "collapsed": false
   },
   "outputs": [
    {
     "data": {
      "text/html": [
       "<table class=\"data-frame\"><tr><th></th><th>intercept</th><th>Animal</th><th>y</th><th>mat</th></tr><tr><th>1</th><td>1</td><td>O1</td><td>150.0</td><td>D1</td></tr><tr><th>2</th><td>1</td><td>O3</td><td>40.0</td><td>D1</td></tr></table>"
      ],
      "text/plain": [
       "2x4 DataFrames.DataFrame\n",
       "| Row | intercept | Animal | y     | mat  |\n",
       "|-----|-----------|--------|-------|------|\n",
       "| 1   | 1         | \"O1\"   | 150.0 | \"D1\" |\n",
       "| 2   | 1         | \"O3\"   | 40.0  | \"D1\" |"
      ]
     },
     "execution_count": 11,
     "metadata": {},
     "output_type": "execute_result"
    }
   ],
   "source": [
    "df3 = [df1[3:4,:]  DataFrame(mat = [\"D1\",\"D1\"])]"
   ]
  },
  {
   "cell_type": "code",
   "execution_count": 1,
   "metadata": {
    "collapsed": false
   },
   "outputs": [],
   "source": [
    "include(\"../../Module/solver.jl\");"
   ]
  },
  {
   "cell_type": "markdown",
   "metadata": {},
   "source": [
    "### <font color=\"red\"> types and functions below are same (or very similar) as before.</font>"
   ]
  },
  {
   "cell_type": "code",
   "execution_count": 27,
   "metadata": {
    "collapsed": false
   },
   "outputs": [
    {
     "data": {
      "text/plain": [
       "getSolG (generic function with 1 method)"
      ]
     },
     "execution_count": 27,
     "metadata": {},
     "output_type": "execute_result"
    }
   ],
   "source": [
    "function mkDict(a)\n",
    "    aUnique = unique(a)\n",
    "    d = Dict()\n",
    "    names = Array(Any,size(aUnique,1))\n",
    "    for (i,s) in enumerate(aUnique)\n",
    "        names[i] = s\n",
    "        d[s] = i\n",
    "    end\n",
    "    return d,names\n",
    "end\n",
    "\n",
    "function getNames(mme)\n",
    "    names = Array(AbstractString,0)\n",
    "    for trm in mme.modelTerms\n",
    "        for name in trm.names\n",
    "            push!(names,trm.trmStr*\": \"*name)\n",
    "        end\n",
    "    end\n",
    "    return names\n",
    "end  \n",
    "\n",
    "function getTerm(trmStr) #only declaration of trm is changed\n",
    "    trm = ModelTerm(trmStr,0,[],[],[],0,0,spzeros(0,0),[])\n",
    "    factorVec = split(trmStr,\"*\")\n",
    "    trm.nFactors = length(factorVec)\n",
    "    trm.factors = [symbol(strip(f)) for f in factorVec]\n",
    "    return trm\n",
    "end\n",
    "\n",
    "function initMME(modelEquation::AbstractString) #Difference: made modelTerms into a dictionary\n",
    "    if modelEquation==\"\"\n",
    "        error(\"modelEquation is empty\\n\")\n",
    "    end\n",
    "    lhsRhs = split(modelEquation,\"=\")\n",
    "    lhs = symbol(strip(lhsRhs[1]))\n",
    "    rhs = strip(lhsRhs[2])\n",
    "    rhsVec = split(rhs,\"+\")    \n",
    "    dict = Dict{AbstractString,ModelTerm}()\n",
    "    modelTerms = [getTerm(strip(trmStr)) for trmStr in rhsVec]\n",
    "    for (i,trm) = enumerate(modelTerms)\n",
    "        dict[trm.trmStr] = modelTerms[i]\n",
    "    end    \n",
    "    return MME(modelEquation,modelTerms,dict,lhs,[],[],0,0,0,Array(Float64,1,1),0,1)\n",
    "end \n",
    "\n",
    "function getData(trm,df::DataFrame,mme::MME)\n",
    "    nObs = size(df,1)\n",
    "    trm.str = Array(AbstractString,nObs)\n",
    "    trm.val = Array(Float64,nObs)\n",
    "    \n",
    "    if trm.factors[1] == :intercept ##modified from Melanie's HW ##new\n",
    "        str = fill(string(trm.factors[1]),nObs) \n",
    "        val = fill(1.0,nObs)\n",
    "        trm.str = str\n",
    "        trm.val = val\n",
    "        return\n",
    "    end\n",
    "    \n",
    "    myDf = df[trm.factors]   \n",
    "        \n",
    "    if trm.factors[1] in mme.covVec\n",
    "        str = fill(string(trm.factors[1]),nObs)\n",
    "        val = df[trm.factors[1]]\n",
    "    else\n",
    "        str = [string(i) for i in df[trm.factors[1]]]\n",
    "        val = fill(1.0,nObs)\n",
    "    end\n",
    "    for i=2:trm.nFactors\n",
    "        if trm.factors[i] in mme.covVec\n",
    "            str = str .* fill(\" x \"*string(trm.factors[i]),nObs)\n",
    "            val = val .* df[trm.factors[i]]\n",
    "        else\n",
    "            str = str .* fill(\" x \",nObs) .* [string(j) for j in df[trm.factors[i]]]\n",
    "            val = val .* fill(1.0,nObs)\n",
    "        end\n",
    "    end\n",
    "    trm.str = str\n",
    "    trm.val = val\n",
    "end\n",
    "\n",
    "function covList(mme::MME, covStr::AbstractString)\n",
    "    covVec = split(covStr,\" \",keep=false) \n",
    "    mme.covVec = [symbol(i) for i in covVec]\n",
    "    nothing\n",
    "end\n",
    "\n",
    "function getSolJ(mme::MME, df::DataFrame)\n",
    "    if size(mme.mmeRhs)==() \n",
    "        getMME(mme,df)\n",
    "    end\n",
    "    p = size(mme.mmeRhs,1)\n",
    "    return [getNames(mme) Jacobi(mme.mmeLhs,fill(0.0,p),mme.mmeRhs,0.3,tol=0.000001)]\n",
    "end\n",
    "\n",
    "function getSolG(mme::MME, df::DataFrame)\n",
    "    if size(mme.mmeRhs)==() \n",
    "        getMME(mme,df)\n",
    "    end\n",
    "    p = size(mme.mmeRhs,1)\n",
    "    return [getNames(mme) GaussSeidel(mme.mmeLhs,fill(0.0,p),mme.mmeRhs,tol=0.000001)]\n",
    "end"
   ]
  },
  {
   "cell_type": "markdown",
   "metadata": {},
   "source": [
    "### Types"
   ]
  },
  {
   "cell_type": "code",
   "execution_count": 26,
   "metadata": {
    "collapsed": true
   },
   "outputs": [],
   "source": [
    "#type TermStrVal\n",
    "#    str::AbstractString\n",
    "#    value::Float64\n",
    "#end\n",
    "\n",
    "#type TermLvlVal\n",
    "#    level::AbstractString\n",
    "#    value::Float64\n",
    "#end\n",
    "\n",
    "type ModelTerm \n",
    "    trmStr::AbstractString\n",
    "    nFactors::Int64\n",
    "    factors::Array{Symbol,1}\n",
    "    str::Array{AbstractString,1}            # used to store the data for this term as strings\n",
    "    val::Array{Float64,1}\n",
    "    startPos::Int64                         # start pos in HMME\n",
    "    nLevels::Int64                           \n",
    "    X::SparseMatrixCSC{Float64,Int64}\n",
    "    names::Array{Any,1}\n",
    "end\n",
    "\n",
    "type MME\n",
    "    modelEquation::AbstractString\n",
    "    modelTerms::Array{ModelTerm,1}\n",
    "    modelTermDict::Dict{AbstractString,ModelTerm}\n",
    "    lhs::Symbol\n",
    "    covVec::Array{Symbol,1}\n",
    "    pedTrmVec::Array{AbstractString,1}\n",
    "    mmeLhs\n",
    "    mmeRhs\n",
    "    ped\n",
    "    Gi::Array{Float64,2}\n",
    "    Ai\n",
    "    mmePos::Int64\n",
    "end"
   ]
  },
  {
   "cell_type": "markdown",
   "metadata": {},
   "source": [
    "### Functions"
   ]
  },
  {
   "cell_type": "code",
   "execution_count": 15,
   "metadata": {
    "collapsed": true
   },
   "outputs": [],
   "source": [
    "type ModelTerm \n",
    "    trmStr::AbstractString\n",
    "    nFactors::Int64\n",
    "    factors::Array{Symbol,1}\n",
    "    str::Array{AbstractString,1}            # used to store the data for this term as strings\n",
    "    val::Array{Float64,1}\n",
    "    startPos::Int64                         # start pos in HMME\n",
    "    nLevels::Int64                           \n",
    "    X::SparseMatrixCSC{Float64,Int64}\n",
    "    names::Array{Any,1}\n",
    "end"
   ]
  },
  {
   "cell_type": "code",
   "execution_count": 16,
   "metadata": {
    "collapsed": false
   },
   "outputs": [
    {
     "data": {
      "text/plain": [
       "getX (generic function with 1 method)"
      ]
     },
     "execution_count": 16,
     "metadata": {},
     "output_type": "execute_result"
    }
   ],
   "source": [
    "getFactor1(str) = [strip(i) for i in split(str,\"x\")][1] #using in may be better. maybe age*animal\n",
    "\n",
    "function getX(trm::ModelTerm,mme::MME)\n",
    "    pedSize = 0\n",
    "    nObs  = size(trm.str,1)\n",
    "    if trm.trmStr in mme.pedTrmVec #\"Animal\"\n",
    "        trm.names   = PedModule.getIDs(mme.ped)\n",
    "        trm.nLevels = length(mme.ped.idMap)\n",
    "        xj = round(Int64,[mme.ped.idMap[getFactor1(i)].seqID for i in trm.str]) #column index\n",
    "    else\n",
    "        dict,trm.names  = mkDict(trm.str)\n",
    "        trm.nLevels     = length(dict)\n",
    "        xj    =  round(Int64,[dict[i] for i in trm.str])\n",
    "    end\n",
    "    xi    = 1:nObs  #row index \n",
    "    xv    = trm.val #value\n",
    "    if mme.ped!=0 #Because some animals in pedigree may not in the data\n",
    "        pedSize = length(mme.ped.idMap)\n",
    "        if trm.trmStr in mme.pedTrmVec\n",
    "            # This is to ensure the X matrix for \n",
    "            # additive effect has the correct number of columns\n",
    "            ii = 1         # adding a zero to\n",
    "            jj = pedSize   # the last column in row 1\n",
    "            vv = [0.0]\n",
    "            xi = [xi;ii]\n",
    "            xj = [xj;jj]\n",
    "            xv = [xv;vv]\n",
    "        end\n",
    "    end  \n",
    "    trm.X = sparse(xi,xj,xv)\n",
    "    trm.startPos = mme.mmePos\n",
    "    mme.mmePos  += trm.nLevels\n",
    "end"
   ]
  },
  {
   "cell_type": "code",
   "execution_count": 17,
   "metadata": {
    "collapsed": false
   },
   "outputs": [
    {
     "data": {
      "text/plain": [
       "getMME (generic function with 1 method)"
      ]
     },
     "execution_count": 17,
     "metadata": {},
     "output_type": "execute_result"
    }
   ],
   "source": [
    "function getMME(mme::MME, df::DataFrame)\n",
    "    for trm in mme.modelTerms\n",
    "        getData(trm,df,mme)\n",
    "        getX(trm,mme)\n",
    "    end\n",
    "    n   = size(mme.modelTerms,1)\n",
    "    trm = mme.modelTerms[1]\n",
    "    X   = trm.X\n",
    "    for i=2:n\n",
    "        trm = mme.modelTerms[i]\n",
    "        X = [X trm.X]\n",
    "    end\n",
    "    y    = df[mme.lhs]\n",
    "    nObs = size(y,1)\n",
    "    ii = 1:nObs\n",
    "    jj = fill(1,nObs)\n",
    "    vv = y\n",
    "    nRowsX = size(X,1)\n",
    "    if nRowsX > nObs  ###??????\n",
    "        ii = [ii,nRowsX]\n",
    "        jj = [jj,1]\n",
    "        vv = [vv,0.0]\n",
    "    end\n",
    "    ySparse = sparse(ii,jj,vv)\n",
    "    mme.mmeLhs = X'X\n",
    "    mme.mmeRhs = X'ySparse\n",
    "    if mme.ped != 0\n",
    "        ii,jj,vv = PedModule.HAi(mme.ped)#cholesky??\n",
    "        HAi = sparse(ii,jj,vv)\n",
    "        mme.Ai = HAi'HAi\n",
    "        addA(mme::MME)\n",
    "    end\n",
    "end"
   ]
  },
  {
   "cell_type": "code",
   "execution_count": 18,
   "metadata": {
    "collapsed": false
   },
   "outputs": [
    {
     "data": {
      "text/plain": [
       "setAsRandom (generic function with 1 method)"
      ]
     },
     "execution_count": 18,
     "metadata": {},
     "output_type": "execute_result"
    }
   ],
   "source": [
    "function setAsRandom(mme::MME,randomStr::AbstractString,ped::PedModule.Pedigree, G::Array{Float64,2})\n",
    "    mme.pedTrmVec = split(randomStr,\" \",keep=false)\n",
    "    mme.ped = ped\n",
    "    mme.Gi = inv(G)\n",
    "    nothing\n",
    "end"
   ]
  },
  {
   "cell_type": "code",
   "execution_count": 28,
   "metadata": {
    "collapsed": false
   },
   "outputs": [
    {
     "data": {
      "text/plain": [
       "addA (generic function with 1 method)"
      ]
     },
     "execution_count": 28,
     "metadata": {},
     "output_type": "execute_result"
    }
   ],
   "source": [
    "function addA(mme::MME)\n",
    "    pedTrmVec = mme.pedTrmVec\n",
    "    #pedTrm = mme.modelTermDict[mme.pedTrmVec[1]]\n",
    "    for (i,trmi) = enumerate(pedTrmVec)\n",
    "        pedTrmi  = mme.modelTermDict[trmi]\n",
    "        startPosi  = pedTrmi.startPos\n",
    "        endPosi    = startPosi + pedTrmi.nLevels - 1\n",
    "        for (j,trmj) = enumerate(pedTrmVec)\n",
    "            pedTrmj  = mme.modelTermDict[trmj]\n",
    "            startPosj  = pedTrmj.startPos\n",
    "            endPosj    = startPosj + pedTrmj.nLevels - 1       \n",
    "            mme.mmeLhs[startPosi:endPosi,startPosj:endPosj] = \n",
    "            mme.mmeLhs[startPosi:endPosi,startPosj:endPosj] + mme.Ai*mme.Gi[i,j] \n",
    "        end\n",
    "    end\n",
    "end"
   ]
  },
  {
   "cell_type": "code",
   "execution_count": 29,
   "metadata": {
    "collapsed": false
   },
   "outputs": [],
   "source": [
    "mme = initMME(\"y = intercept + Age + Animal + Animal*Age\")\n",
    "covList(mme,\"Age\")\n",
    "nothing"
   ]
  },
  {
   "cell_type": "code",
   "execution_count": 30,
   "metadata": {
    "collapsed": false
   },
   "outputs": [],
   "source": [
    "setAsRandom(mme,\"Animal\",ped,reshape([1.0],1,1))"
   ]
  },
  {
   "cell_type": "code",
   "execution_count": 31,
   "metadata": {
    "collapsed": false,
    "scrolled": false
   },
   "outputs": [
    {
     "name": "stdout",
     "output_type": "stream",
     "text": [
      "10 "
     ]
    }
   ],
   "source": [
    "resG = getSolG(mme,df2);"
   ]
  },
  {
   "cell_type": "code",
   "execution_count": 32,
   "metadata": {
    "collapsed": false,
    "scrolled": true
   },
   "outputs": [
    {
     "name": "stdout",
     "output_type": "stream",
     "text": [
      "0.004596883334625979\n",
      "20 0.0014040115488734484\n",
      "30 0.0004776419930430202\n",
      "40 0.00016327131964199662\n",
      "50 5.5822785736460476e-5\n",
      "60 1.9086077557632178e-5\n",
      "70 6.525622408268345e-6\n",
      "80 2.2311419048512457e-6\n",
      "10 "
     ]
    }
   ],
   "source": [
    "mme = initMME(\"y = intercept + Age + Animal + Animal*Age\")\n",
    "covList(mme,\"Age\")\n",
    "G = [1 0.1; 0.1 1.0]\n",
    "setAsRandom(mme,\"Animal Animal*Age\",ped,G)\n",
    "resG = getSolG(mme,df2);"
   ]
  },
  {
   "cell_type": "code",
   "execution_count": 33,
   "metadata": {
    "collapsed": false
   },
   "outputs": [
    {
     "name": "stdout",
     "output_type": "stream",
     "text": [
      "0.004787113947862691\n",
      "20 0.0018128013119535448\n",
      "30 0.0009656596691756127\n",
      "40 0.0006126023610504133\n",
      "50 0.00040426931598860726\n",
      "60 0.0002588318063222115\n",
      "70 0.00015731883389153348\n",
      "80 9.05082202408139e-5\n",
      "90 4.940725467547827e-5\n",
      "100 2.5670866153581953e-5\n",
      "110 1.2725249477744462e-5\n",
      "120 6.025643921210171e-6\n",
      "130 2.7255643056254705e-6\n",
      "140 1.1762468905424163e-6\n",
      "10 "
     ]
    }
   ],
   "source": [
    "mme3 = initMME(\"y = intercept + Age + Animal + Animal*Age\")\n",
    "#covList(mme3,\"Age\")\n",
    "G = [1 0.1; 0.1 1.0]\n",
    "setAsRandom(mme3,\"Animal\",ped,reshape([1.0],1,1))\n",
    "resG = getSolG(mme3,df2);\n",
    "round(full(mme3.mmeLhs),1);"
   ]
  },
  {
   "cell_type": "code",
   "execution_count": 34,
   "metadata": {
    "collapsed": false,
    "scrolled": true
   },
   "outputs": [
    {
     "data": {
      "text/plain": [
       "11x2 Array{Any,2}:\n",
       " \"intercept: intercept\"   95.0        \n",
       " \"Animal: S1\"              0.0        \n",
       " \"Animal: D1\"              0.0        \n",
       " \"Animal: O1\"             18.3333     \n",
       " \"Animal: O3\"            -18.3333     \n",
       " \"Animal: O2\"              0.0        \n",
       " \"mat: S1\"                 1.75859e-16\n",
       " \"mat: D1\"                 0.0        \n",
       " \"mat: O1\"                 1.83333    \n",
       " \"mat: O3\"                -1.83333    \n",
       " \"mat: O2\"                 8.79297e-17"
      ]
     },
     "execution_count": 34,
     "metadata": {},
     "output_type": "execute_result"
    },
    {
     "name": "stdout",
     "output_type": "stream",
     "text": [
      "4.5966603254437086e-5\n",
      "20 1.1878899122117194e-6\n"
     ]
    }
   ],
   "source": [
    "mme = initMME(\"y = intercept + Animal + mat\")\n",
    "G = [1 0.1; 0.1 1.0]\n",
    "setAsRandom(mme,\"Animal mat\",ped,G)\n",
    "resG = getSolG(mme,df3)"
   ]
  }
 ],
 "metadata": {
  "kernelspec": {
   "display_name": "Julia 0.4.3",
   "language": "julia",
   "name": "julia-0.4"
  },
  "language_info": {
   "file_extension": ".jl",
   "mimetype": "application/julia",
   "name": "julia",
   "version": "0.4.3"
  }
 },
 "nbformat": 4,
 "nbformat_minor": 0
}

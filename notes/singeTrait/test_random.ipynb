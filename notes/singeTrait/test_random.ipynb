{
 "cells": [
  {
   "cell_type": "markdown",
   "metadata": {},
   "source": [
    "## Module for building Henderson's Mixed Model Equations for single trait\n",
    "\n"
   ]
  },
  {
   "cell_type": "markdown",
   "metadata": {},
   "source": [
    "### Data set to test the module"
   ]
  },
  {
   "cell_type": "code",
   "execution_count": 1,
   "metadata": {
    "collapsed": true
   },
   "outputs": [],
   "source": [
    "using DataFrames"
   ]
  },
  {
   "cell_type": "code",
   "execution_count": 2,
   "metadata": {
    "collapsed": false
   },
   "outputs": [],
   "source": [
    "FILE = \"../../data/small.ped\";"
   ]
  },
  {
   "cell_type": "code",
   "execution_count": 3,
   "metadata": {
    "collapsed": false
   },
   "outputs": [],
   "source": [
    "B = [\"S1\",\"D1\",\"O1\",\"O3\"]\n",
    "Animal = repeat(B,inner=[3])\n",
    "Age = repmat([1,2,3],4)\n",
    "intercept = ones(12,1)\n",
    "df = DataFrame(Animal=Animal,Age=Age,y=randn(12));"
   ]
  },
  {
   "cell_type": "code",
   "execution_count": 4,
   "metadata": {
    "collapsed": false
   },
   "outputs": [
    {
     "data": {
      "text/html": [
       "<table class=\"data-frame\"><tr><th></th><th>Animal</th><th>Age</th><th>y</th></tr><tr><th>1</th><td>S1</td><td>1</td><td>-0.8551732133727027</td></tr><tr><th>2</th><td>S1</td><td>2</td><td>-0.16333729466566205</td></tr><tr><th>3</th><td>S1</td><td>3</td><td>0.42672415262423496</td></tr><tr><th>4</th><td>D1</td><td>1</td><td>2.021073263425737</td></tr><tr><th>5</th><td>D1</td><td>2</td><td>0.7637897389746289</td></tr><tr><th>6</th><td>D1</td><td>3</td><td>-0.362566785446981</td></tr><tr><th>7</th><td>O1</td><td>1</td><td>-0.735332443942303</td></tr><tr><th>8</th><td>O1</td><td>2</td><td>0.22823228654790662</td></tr><tr><th>9</th><td>O1</td><td>3</td><td>-0.43391988013146</td></tr><tr><th>10</th><td>O3</td><td>1</td><td>-0.2661065436015354</td></tr><tr><th>11</th><td>O3</td><td>2</td><td>-1.762600109792641</td></tr><tr><th>12</th><td>O3</td><td>3</td><td>-0.9063038448145063</td></tr></table>"
      ],
      "text/plain": [
       "12x3 DataFrames.DataFrame\n",
       "| Row | Animal | Age | y         |\n",
       "|-----|--------|-----|-----------|\n",
       "| 1   | \"S1\"   | 1   | -0.855173 |\n",
       "| 2   | \"S1\"   | 2   | -0.163337 |\n",
       "| 3   | \"S1\"   | 3   | 0.426724  |\n",
       "| 4   | \"D1\"   | 1   | 2.02107   |\n",
       "| 5   | \"D1\"   | 2   | 0.76379   |\n",
       "| 6   | \"D1\"   | 3   | -0.362567 |\n",
       "| 7   | \"O1\"   | 1   | -0.735332 |\n",
       "| 8   | \"O1\"   | 2   | 0.228232  |\n",
       "| 9   | \"O1\"   | 3   | -0.43392  |\n",
       "| 10  | \"O3\"   | 1   | -0.266107 |\n",
       "| 11  | \"O3\"   | 2   | -1.7626   |\n",
       "| 12  | \"O3\"   | 3   | -0.906304 |"
      ]
     },
     "execution_count": 4,
     "metadata": {},
     "output_type": "execute_result"
    }
   ],
   "source": [
    "df"
   ]
  },
  {
   "cell_type": "markdown",
   "metadata": {},
   "source": [
    "### <font color=\"red\"> Run module</font>"
   ]
  },
  {
   "cell_type": "code",
   "execution_count": 5,
   "metadata": {
    "collapsed": false
   },
   "outputs": [],
   "source": [
    "MODULE_PATH=\"/Users/rohan/Box Sync/GitHub/JuliaClassReview/Module/MME.jl\";"
   ]
  },
  {
   "cell_type": "code",
   "execution_count": 6,
   "metadata": {
    "collapsed": false
   },
   "outputs": [
    {
     "data": {
      "text/plain": [
       "MMEModule"
      ]
     },
     "execution_count": 6,
     "metadata": {},
     "output_type": "execute_result"
    }
   ],
   "source": [
    "include(MODULE_PATH)"
   ]
  },
  {
   "cell_type": "code",
   "execution_count": 7,
   "metadata": {
    "collapsed": false
   },
   "outputs": [],
   "source": [
    "ped = PedModule.mkPed(FILE);"
   ]
  },
  {
   "cell_type": "code",
   "execution_count": 8,
   "metadata": {
    "collapsed": false,
    "scrolled": true
   },
   "outputs": [],
   "source": [
    "varRes=1.0\n",
    "mme = MMEModule.initMME(\"y = intercept + Age + Animal\",varRes)\n",
    "#MMEModule.covList(mme,\"Age\")\n",
    "G=zeros(1,1)\n",
    "G[1,1]=1.0\n",
    "#MMEModule.setAsRandom(mme,\"Animal\",ped,G)\n",
    "MMEModule.setAsRandom(mme,\"Age\",2.0,4.1)\n",
    "MMEModule.outputSamplesFor(mme,\"Age\")\n",
    "resG = MMEModule.getSolG(mme,df);"
   ]
  },
  {
   "cell_type": "code",
   "execution_count": 9,
   "metadata": {
    "collapsed": false
   },
   "outputs": [
    {
     "data": {
      "text/plain": [
       "8x2 Array{Any,2}:\n",
       " \"intercept: intercept\"  -0.17046  \n",
       " \"Age: 1\"                 0.188067 \n",
       " \"Age: 2\"                -0.0560167\n",
       " \"Age: 3\"                -0.13205  \n",
       " \"Animal: S1\"            -0.0268021\n",
       " \"Animal: D1\"             0.977892 \n",
       " \"Animal: O1\"            -0.143213 \n",
       " \"Animal: O3\"            -0.807877 "
      ]
     },
     "execution_count": 9,
     "metadata": {},
     "output_type": "execute_result"
    }
   ],
   "source": [
    "resG"
   ]
  },
  {
   "cell_type": "code",
   "execution_count": 10,
   "metadata": {
    "collapsed": false
   },
   "outputs": [
    {
     "data": {
      "text/plain": [
       "8-element Array{Float64,1}:\n",
       " -0.17046  \n",
       "  0.188067 \n",
       " -0.0560167\n",
       " -0.13205  \n",
       " -0.0268021\n",
       "  0.977892 \n",
       " -0.143213 \n",
       " -0.807877 "
      ]
     },
     "execution_count": 10,
     "metadata": {},
     "output_type": "execute_result"
    }
   ],
   "source": [
    "map(Float64,resG[:,2])"
   ]
  },
  {
   "cell_type": "code",
   "execution_count": 11,
   "metadata": {
    "collapsed": false
   },
   "outputs": [
    {
     "name": "stdout",
     "output_type": "stream",
     "text": [
      "at sample: 10"
     ]
    }
   ],
   "source": [
    "out=MMEModule.sampleMCMC(50,mme,df;sol=map(Float64,resG[:,2]),outFreq=10);"
   ]
  },
  {
   "cell_type": "code",
   "execution_count": 12,
   "metadata": {
    "collapsed": false
   },
   "outputs": [],
   "source": [
    "out=MMEModule.sampleMCMC(50,mme,df;outFreq=10);"
   ]
  },
  {
   "cell_type": "code",
   "execution_count": 13,
   "metadata": {
    "collapsed": false
   },
   "outputs": [
    {
     "data": {
      "text/plain": [
       "Base.KeyIterator for a Dict{Any,Any} with 4 entries. Keys:\n",
       "  \"posteriorMeanLocationParms\"\n",
       "  \"MCMCSamples for variance of :Age\"\n",
       "  \"MCMCSamples: Age\"\n",
       "  \"MCMCSamples for residual variance\""
      ]
     },
     "execution_count": 13,
     "metadata": {},
     "output_type": "execute_result"
    },
    {
     "name": "stdout",
     "output_type": "stream",
     "text": [
      "\n",
      "at sample: 20\n",
      "at sample: 30\n",
      "at sample: 40\n",
      "at sample: 50\n",
      "at sample: 10\n",
      "at sample: 20\n",
      "at sample: 30\n",
      "at sample: 40\n",
      "at sample: 50\n"
     ]
    }
   ],
   "source": [
    "keys(out)"
   ]
  },
  {
   "cell_type": "code",
   "execution_count": 14,
   "metadata": {
    "collapsed": false
   },
   "outputs": [
    {
     "data": {
      "text/plain": [
       "8x2 Array{Any,2}:\n",
       " \"intercept: intercept\"   1.83659  \n",
       " \"Age: 1\"                -0.0858167\n",
       " \"Age: 2\"                -0.26129  \n",
       " \"Age: 3\"                -0.350971 \n",
       " \"Animal: S1\"            -1.80265  \n",
       " \"Animal: D1\"            -0.841662 \n",
       " \"Animal: O1\"            -2.00819  \n",
       " \"Animal: O3\"            -2.62895  "
      ]
     },
     "execution_count": 14,
     "metadata": {},
     "output_type": "execute_result"
    }
   ],
   "source": [
    "out[\"posteriorMeanLocationParms\"]"
   ]
  },
  {
   "cell_type": "code",
   "execution_count": 15,
   "metadata": {
    "collapsed": false,
    "scrolled": false
   },
   "outputs": [
    {
     "data": {
      "text/plain": [
       "50-element Array{Float64,1}:\n",
       " 1.15749 \n",
       " 0.900257\n",
       " 0.484604\n",
       " 0.2966  \n",
       " 1.49342 \n",
       " 0.365354\n",
       " 1.72581 \n",
       " 0.434278\n",
       " 1.09184 \n",
       " 1.16339 \n",
       " 0.459322\n",
       " 1.18546 \n",
       " 0.98179 \n",
       " ⋮       \n",
       " 0.870902\n",
       " 0.478204\n",
       " 0.966719\n",
       " 0.65049 \n",
       " 0.716197\n",
       " 0.749995\n",
       " 1.08636 \n",
       " 0.548541\n",
       " 0.947735\n",
       " 1.07847 \n",
       " 0.475687\n",
       " 0.572814"
      ]
     },
     "execution_count": 15,
     "metadata": {},
     "output_type": "execute_result"
    }
   ],
   "source": [
    "out[\"MCMCSamples for variance of :Age\"]"
   ]
  },
  {
   "cell_type": "code",
   "execution_count": 16,
   "metadata": {
    "collapsed": false,
    "scrolled": false
   },
   "outputs": [
    {
     "data": {
      "text/plain": [
       "50x3 Array{Float64,2}:\n",
       "  0.65562     0.276866    0.396184 \n",
       "  0.61604     0.0316518  -0.648451 \n",
       "  0.558011    0.0940989  -0.153667 \n",
       "  0.351658   -0.202818   -0.0377727\n",
       " -0.165797   -0.746234   -0.209785 \n",
       "  0.512071   -0.0572499  -0.645098 \n",
       " -0.597531   -0.281893   -0.193454 \n",
       " -0.833136   -0.502713   -0.981447 \n",
       " -0.885709   -0.646847   -0.538482 \n",
       " -0.404267   -0.915583   -0.943707 \n",
       " -0.984735   -0.0432628  -0.152714 \n",
       " -0.435422    0.464573    0.10425  \n",
       "  0.444343   -0.464618    0.460967 \n",
       "  ⋮                                \n",
       " -0.140946   -0.927591   -0.357467 \n",
       "  0.283278    0.748543    0.180069 \n",
       "  0.0677969   0.459881   -0.0889523\n",
       "  0.35098     0.96397     0.104478 \n",
       " -0.211242   -0.279926   -0.247192 \n",
       " -0.282649   -0.462912   -0.772977 \n",
       "  0.114476   -0.451515   -0.680299 \n",
       " -0.233252   -0.8426     -0.564217 \n",
       " -0.856115   -0.310405   -0.241892 \n",
       " -0.506417   -0.753806   -0.58576  \n",
       " -0.668068   -1.123      -0.80177  \n",
       " -1.00496    -0.671062   -0.235843 "
      ]
     },
     "execution_count": 16,
     "metadata": {},
     "output_type": "execute_result"
    }
   ],
   "source": [
    "out[\"MCMCSamples: Age\"]"
   ]
  },
  {
   "cell_type": "code",
   "execution_count": 17,
   "metadata": {
    "collapsed": false
   },
   "outputs": [
    {
     "data": {
      "text/plain": [
       "50-element Array{Float64,1}:\n",
       " 0.601765\n",
       " 0.997421\n",
       " 0.993911\n",
       " 0.309113\n",
       " 0.273613\n",
       " 1.55131 \n",
       " 0.558691\n",
       " 1.00562 \n",
       " 0.539487\n",
       " 0.628775\n",
       " 0.734407\n",
       " 1.82099 \n",
       " 1.17205 \n",
       " ⋮       \n",
       " 0.825574\n",
       " 0.462908\n",
       " 0.44913 \n",
       " 0.683276\n",
       " 1.15244 \n",
       " 0.557909\n",
       " 0.916812\n",
       " 0.492773\n",
       " 0.687222\n",
       " 0.919362\n",
       " 1.25495 \n",
       " 1.26706 "
      ]
     },
     "execution_count": 17,
     "metadata": {},
     "output_type": "execute_result"
    }
   ],
   "source": [
    "out[\"MCMCSamples for residual variance\"]"
   ]
  }
 ],
 "metadata": {
  "kernelspec": {
   "display_name": "Julia 0.4.3",
   "language": "julia",
   "name": "julia-0.4"
  },
  "language_info": {
   "file_extension": ".jl",
   "mimetype": "application/julia",
   "name": "julia",
   "version": "0.4.3"
  }
 },
 "nbformat": 4,
 "nbformat_minor": 0
}

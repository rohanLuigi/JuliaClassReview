{
 "cells": [
  {
   "cell_type": "markdown",
   "metadata": {},
   "source": [
    "## Module for building Henderson's Mixed Model Equations for single trait\n",
    "\n"
   ]
  },
  {
   "cell_type": "markdown",
   "metadata": {},
   "source": [
    "### Data set to test the module"
   ]
  },
  {
   "cell_type": "code",
   "execution_count": 1,
   "metadata": {
    "collapsed": true
   },
   "outputs": [],
   "source": [
    "using DataFrames"
   ]
  },
  {
   "cell_type": "code",
   "execution_count": 2,
   "metadata": {
    "collapsed": false
   },
   "outputs": [],
   "source": [
    "FILE = \"../../data/small.ped\";"
   ]
  },
  {
   "cell_type": "code",
   "execution_count": 3,
   "metadata": {
    "collapsed": false
   },
   "outputs": [],
   "source": [
    "B = [\"S1\",\"D1\",\"O1\",\"O3\"]\n",
    "Animal = repeat(B,inner=[3])\n",
    "Age = repmat([1,2,3],4)\n",
    "intercept = ones(12,1)\n",
    "df = DataFrame(Animal=Animal,Age=Age,y=randn(12));"
   ]
  },
  {
   "cell_type": "code",
   "execution_count": 4,
   "metadata": {
    "collapsed": false
   },
   "outputs": [
    {
     "data": {
      "text/html": [
       "<table class=\"data-frame\"><tr><th></th><th>Animal</th><th>Age</th><th>y</th></tr><tr><th>1</th><td>S1</td><td>1</td><td>-1.113927640497604</td></tr><tr><th>2</th><td>S1</td><td>2</td><td>0.8920332762404003</td></tr><tr><th>3</th><td>S1</td><td>3</td><td>0.47451379547910366</td></tr><tr><th>4</th><td>D1</td><td>1</td><td>-0.8632872774012279</td></tr><tr><th>5</th><td>D1</td><td>2</td><td>0.9578234527080798</td></tr><tr><th>6</th><td>D1</td><td>3</td><td>1.61524124614678</td></tr><tr><th>7</th><td>O1</td><td>1</td><td>-1.4119972218880266</td></tr><tr><th>8</th><td>O1</td><td>2</td><td>0.019933861441682667</td></tr><tr><th>9</th><td>O1</td><td>3</td><td>1.3528075028466655</td></tr><tr><th>10</th><td>O3</td><td>1</td><td>1.4804042729666371</td></tr><tr><th>11</th><td>O3</td><td>2</td><td>-1.5912449521488554</td></tr><tr><th>12</th><td>O3</td><td>3</td><td>1.0833388759596063</td></tr></table>"
      ],
      "text/plain": [
       "12x3 DataFrames.DataFrame\n",
       "| Row | Animal | Age | y         |\n",
       "|-----|--------|-----|-----------|\n",
       "| 1   | \"S1\"   | 1   | -1.11393  |\n",
       "| 2   | \"S1\"   | 2   | 0.892033  |\n",
       "| 3   | \"S1\"   | 3   | 0.474514  |\n",
       "| 4   | \"D1\"   | 1   | -0.863287 |\n",
       "| 5   | \"D1\"   | 2   | 0.957823  |\n",
       "| 6   | \"D1\"   | 3   | 1.61524   |\n",
       "| 7   | \"O1\"   | 1   | -1.412    |\n",
       "| 8   | \"O1\"   | 2   | 0.0199339 |\n",
       "| 9   | \"O1\"   | 3   | 1.35281   |\n",
       "| 10  | \"O3\"   | 1   | 1.4804    |\n",
       "| 11  | \"O3\"   | 2   | -1.59124  |\n",
       "| 12  | \"O3\"   | 3   | 1.08334   |"
      ]
     },
     "execution_count": 4,
     "metadata": {},
     "output_type": "execute_result"
    }
   ],
   "source": [
    "df"
   ]
  },
  {
   "cell_type": "markdown",
   "metadata": {},
   "source": [
    "### <font color=\"red\"> Run module</font>"
   ]
  },
  {
   "cell_type": "code",
   "execution_count": 5,
   "metadata": {
    "collapsed": false
   },
   "outputs": [],
   "source": [
    "MODULE_PATH=\"/Users/rohan/Box Sync/GitHub/JuliaClassReview/Module/MME.jl\";"
   ]
  },
  {
   "cell_type": "code",
   "execution_count": 6,
   "metadata": {
    "collapsed": false
   },
   "outputs": [
    {
     "data": {
      "text/plain": [
       "MMEModule"
      ]
     },
     "execution_count": 6,
     "metadata": {},
     "output_type": "execute_result"
    }
   ],
   "source": [
    "include(MODULE_PATH)"
   ]
  },
  {
   "cell_type": "code",
   "execution_count": 7,
   "metadata": {
    "collapsed": false
   },
   "outputs": [],
   "source": [
    "ped = PedModule.mkPed(FILE);"
   ]
  },
  {
   "cell_type": "code",
   "execution_count": 8,
   "metadata": {
    "collapsed": false,
    "scrolled": true
   },
   "outputs": [],
   "source": [
    "varRes=1.0\n",
    "mme = MMEModule.initMME(\"y = intercept + Age + Animal\",varRes)\n",
    "#MMEModule.covList(mme,\"Age\")\n",
    "G=zeros(1,1)\n",
    "G[1,1]=1.0\n",
    "#MMEModule.setAsRandom(mme,\"Animal\",ped,G)\n",
    "MMEModule.setAsRandom(mme,\"Age\",2.0,4.1)\n",
    "MMEModule.outputSamplesFor(mme,\"Age\")\n",
    "resG = MMEModule.getSolG(mme,df);"
   ]
  },
  {
   "cell_type": "code",
   "execution_count": 9,
   "metadata": {
    "collapsed": false
   },
   "outputs": [
    {
     "data": {
      "text/plain": [
       "8x2 Array{Any,2}:\n",
       " \"intercept: intercept\"   0.241303 \n",
       " \"Age: 1\"                -0.638671 \n",
       " \"Age: 2\"                -0.152593 \n",
       " \"Age: 3\"                 0.791264 \n",
       " \"Animal: S1\"            -0.157097 \n",
       " \"Animal: D1\"             0.328623 \n",
       " \"Animal: O1\"            -0.254389 \n",
       " \"Animal: O3\"             0.0828628"
      ]
     },
     "execution_count": 9,
     "metadata": {},
     "output_type": "execute_result"
    }
   ],
   "source": [
    "resG"
   ]
  },
  {
   "cell_type": "code",
   "execution_count": 10,
   "metadata": {
    "collapsed": false
   },
   "outputs": [],
   "source": [
    "out=MMEModule.sampleMCMC(50,mme,df;outFreq=100);"
   ]
  },
  {
   "cell_type": "code",
   "execution_count": 11,
   "metadata": {
    "collapsed": false
   },
   "outputs": [
    {
     "data": {
      "text/plain": [
       "Base.KeyIterator for a Dict{Any,Any} with 3 entries. Keys:\n",
       "  \"posteriorMeanLocationParms\"\n",
       "  \"MCMCSamples for variance of :Age\"\n",
       "  \"MCMCSamples: Age\""
      ]
     },
     "execution_count": 11,
     "metadata": {},
     "output_type": "execute_result"
    }
   ],
   "source": [
    "keys(out)"
   ]
  },
  {
   "cell_type": "code",
   "execution_count": 12,
   "metadata": {
    "collapsed": false
   },
   "outputs": [
    {
     "data": {
      "text/plain": [
       "8x2 Array{Any,2}:\n",
       " \"intercept: intercept\"   1.74906 \n",
       " \"Age: 1\"                -0.616912\n",
       " \"Age: 2\"                -0.276071\n",
       " \"Age: 3\"                 0.400068\n",
       " \"Animal: S1\"            -1.48778 \n",
       " \"Animal: D1\"            -0.969426\n",
       " \"Animal: O1\"            -1.75657 \n",
       " \"Animal: O3\"            -1.36537 "
      ]
     },
     "execution_count": 12,
     "metadata": {},
     "output_type": "execute_result"
    }
   ],
   "source": [
    "out[\"posteriorMeanLocationParms\"]"
   ]
  },
  {
   "cell_type": "code",
   "execution_count": 13,
   "metadata": {
    "collapsed": false,
    "scrolled": false
   },
   "outputs": [
    {
     "data": {
      "text/plain": [
       "50-element Array{Float64,1}:\n",
       " 0.57635 \n",
       " 2.50191 \n",
       " 1.87681 \n",
       " 5.82442 \n",
       " 2.72949 \n",
       " 1.55806 \n",
       " 0.673352\n",
       " 0.519531\n",
       " 2.74868 \n",
       " 3.13455 \n",
       " 0.567265\n",
       " 0.368057\n",
       " 1.66176 \n",
       " ⋮       \n",
       " 0.828393\n",
       " 0.297028\n",
       " 0.657517\n",
       " 1.75573 \n",
       " 0.593864\n",
       " 0.603328\n",
       " 2.34293 \n",
       " 1.634   \n",
       " 2.87826 \n",
       " 1.34156 \n",
       " 0.408313\n",
       " 0.50757 "
      ]
     },
     "execution_count": 13,
     "metadata": {},
     "output_type": "execute_result"
    }
   ],
   "source": [
    "out[\"MCMCSamples for variance of :Age\"]"
   ]
  },
  {
   "cell_type": "code",
   "execution_count": 14,
   "metadata": {
    "collapsed": false,
    "scrolled": false
   },
   "outputs": [
    {
     "data": {
      "text/plain": [
       "50x3 Array{Float64,2}:\n",
       " -1.25882    -0.483841    0.326881\n",
       " -1.26864    -0.965017   -0.363589\n",
       " -1.08045    -1.54588     0.648129\n",
       " -1.18498    -1.41351     0.38695 \n",
       " -2.11691    -0.52798    -0.126097\n",
       " -1.56192    -0.650937    0.167915\n",
       " -1.31019     0.243411   -1.30151 \n",
       " -1.38007    -0.162984   -0.213353\n",
       "  0.127005   -0.590514   -0.104341\n",
       " -1.0308     -0.794462    0.654387\n",
       " -0.789366   -1.27971     0.256524\n",
       " -0.570009   -0.43605    -0.292536\n",
       "  0.0443453  -0.513847    0.115113\n",
       "  ⋮                               \n",
       " -0.0493915   0.0982248   1.00103 \n",
       "  0.178197    0.0994745   1.00511 \n",
       " -0.0311005   0.156316    0.46877 \n",
       " -0.275749    0.651183    0.653128\n",
       " -0.607804   -0.693453    0.408333\n",
       " -0.669066   -0.182866    0.159792\n",
       " -0.330929   -0.22934     0.698387\n",
       " -0.292638    0.444838    1.3967  \n",
       "  0.307164    0.300982    0.859142\n",
       " -0.819236    0.29074     0.980576\n",
       "  0.316579   -0.202487    0.667663\n",
       " -0.512586    0.0950273   0.531486"
      ]
     },
     "execution_count": 14,
     "metadata": {},
     "output_type": "execute_result"
    }
   ],
   "source": [
    "out[\"MCMCSamples: Age\"]"
   ]
  }
 ],
 "metadata": {
  "kernelspec": {
   "display_name": "Julia 0.4.3",
   "language": "julia",
   "name": "julia-0.4"
  },
  "language_info": {
   "file_extension": ".jl",
   "mimetype": "application/julia",
   "name": "julia",
   "version": "0.4.3"
  }
 },
 "nbformat": 4,
 "nbformat_minor": 0
}

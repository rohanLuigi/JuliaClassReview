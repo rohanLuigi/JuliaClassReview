{
 "cells": [
  {
   "cell_type": "markdown",
   "metadata": {},
   "source": [
    "## Module for building Henderson's Mixed Model Equations for single trait\n",
    "\n"
   ]
  },
  {
   "cell_type": "markdown",
   "metadata": {},
   "source": [
    "### Data set to test the module"
   ]
  },
  {
   "cell_type": "code",
   "execution_count": 1,
   "metadata": {
    "collapsed": true
   },
   "outputs": [],
   "source": [
    "using DataFrames"
   ]
  },
  {
   "cell_type": "code",
   "execution_count": 2,
   "metadata": {
    "collapsed": false
   },
   "outputs": [],
   "source": [
    "FILE = \"../../data/small.ped\";"
   ]
  },
  {
   "cell_type": "code",
   "execution_count": 3,
   "metadata": {
    "collapsed": false
   },
   "outputs": [],
   "source": [
    "B = [\"S1\",\"D1\",\"O1\",\"O3\"]\n",
    "Animal = repeat(B,inner=[3])\n",
    "Age = repmat([1,2,3],4)\n",
    "intercept = ones(12,1)\n",
    "df = DataFrame(Animal=Animal,Age=Age,y=randn(12));"
   ]
  },
  {
   "cell_type": "code",
   "execution_count": 4,
   "metadata": {
    "collapsed": false
   },
   "outputs": [
    {
     "data": {
      "text/html": [
       "<table class=\"data-frame\"><tr><th></th><th>Animal</th><th>Age</th><th>y</th></tr><tr><th>1</th><td>S1</td><td>1</td><td>1.178130668735486</td></tr><tr><th>2</th><td>S1</td><td>2</td><td>1.1950849715768497</td></tr><tr><th>3</th><td>S1</td><td>3</td><td>-0.31010403068906484</td></tr><tr><th>4</th><td>D1</td><td>1</td><td>-0.3341030302774869</td></tr><tr><th>5</th><td>D1</td><td>2</td><td>0.002199982389373648</td></tr><tr><th>6</th><td>D1</td><td>3</td><td>0.5136585866772289</td></tr><tr><th>7</th><td>O1</td><td>1</td><td>-0.7022550132797608</td></tr><tr><th>8</th><td>O1</td><td>2</td><td>0.42429608827330073</td></tr><tr><th>9</th><td>O1</td><td>3</td><td>-0.5964506709931089</td></tr><tr><th>10</th><td>O3</td><td>1</td><td>0.14251741994112319</td></tr><tr><th>11</th><td>O3</td><td>2</td><td>1.1938107693526823</td></tr><tr><th>12</th><td>O3</td><td>3</td><td>-0.892299626753875</td></tr></table>"
      ],
      "text/plain": [
       "12x3 DataFrames.DataFrame\n",
       "| Row | Animal | Age | y          |\n",
       "|-----|--------|-----|------------|\n",
       "| 1   | \"S1\"   | 1   | 1.17813    |\n",
       "| 2   | \"S1\"   | 2   | 1.19508    |\n",
       "| 3   | \"S1\"   | 3   | -0.310104  |\n",
       "| 4   | \"D1\"   | 1   | -0.334103  |\n",
       "| 5   | \"D1\"   | 2   | 0.00219998 |\n",
       "| 6   | \"D1\"   | 3   | 0.513659   |\n",
       "| 7   | \"O1\"   | 1   | -0.702255  |\n",
       "| 8   | \"O1\"   | 2   | 0.424296   |\n",
       "| 9   | \"O1\"   | 3   | -0.596451  |\n",
       "| 10  | \"O3\"   | 1   | 0.142517   |\n",
       "| 11  | \"O3\"   | 2   | 1.19381    |\n",
       "| 12  | \"O3\"   | 3   | -0.8923    |"
      ]
     },
     "execution_count": 4,
     "metadata": {},
     "output_type": "execute_result"
    }
   ],
   "source": [
    "df"
   ]
  },
  {
   "cell_type": "markdown",
   "metadata": {},
   "source": [
    "### <font color=\"red\"> Run module</font>"
   ]
  },
  {
   "cell_type": "code",
   "execution_count": 5,
   "metadata": {
    "collapsed": false
   },
   "outputs": [],
   "source": [
    "MODULE_PATH=\"/Users/rohan/Box Sync/GitHub/JuliaClassReview/Module/MME.jl\";"
   ]
  },
  {
   "cell_type": "code",
   "execution_count": 6,
   "metadata": {
    "collapsed": false
   },
   "outputs": [
    {
     "data": {
      "text/plain": [
       "MMEModule"
      ]
     },
     "execution_count": 6,
     "metadata": {},
     "output_type": "execute_result"
    }
   ],
   "source": [
    "include(MODULE_PATH)"
   ]
  },
  {
   "cell_type": "code",
   "execution_count": 7,
   "metadata": {
    "collapsed": false
   },
   "outputs": [],
   "source": [
    "ped = PedModule.mkPed(FILE);"
   ]
  },
  {
   "cell_type": "code",
   "execution_count": 8,
   "metadata": {
    "collapsed": false,
    "scrolled": true
   },
   "outputs": [],
   "source": [
    "varRes=1.0\n",
    "mme = MMEModule.initMME(\"y = intercept + Age + Animal\",varRes)\n",
    "#MMEModule.covList(mme,\"Age\")\n",
    "G=zeros(1,1)\n",
    "G[1,1]=1.0\n",
    "#MMEModule.setAsRandom(mme,\"Animal\",ped,G)\n",
    "MMEModule.setAsRandom(mme,\"Age\",2.0,4.1)\n",
    "MMEModule.outputSamplesFor(mme,\"Age\")\n",
    "resG = MMEModule.getSolG(mme,df);"
   ]
  },
  {
   "cell_type": "code",
   "execution_count": 9,
   "metadata": {
    "collapsed": false
   },
   "outputs": [
    {
     "data": {
      "text/plain": [
       "8x2 Array{Any,2}:\n",
       " \"intercept: intercept\"   0.151207  \n",
       " \"Age: 1\"                -0.0712308 \n",
       " \"Age: 2\"                 0.491236  \n",
       " \"Age: 3\"                -0.420005  \n",
       " \"Animal: S1\"             0.536497  \n",
       " \"Animal: D1\"            -0.090622  \n",
       " \"Animal: O1\"            -0.442677  \n",
       " \"Animal: O3\"            -0.00319766"
      ]
     },
     "execution_count": 9,
     "metadata": {},
     "output_type": "execute_result"
    }
   ],
   "source": [
    "resG"
   ]
  },
  {
   "cell_type": "code",
   "execution_count": 10,
   "metadata": {
    "collapsed": false
   },
   "outputs": [],
   "source": [
    "out=MMEModule.sampleMCMC(50,mme,df;outFreq=100);"
   ]
  },
  {
   "cell_type": "code",
   "execution_count": 11,
   "metadata": {
    "collapsed": false
   },
   "outputs": [
    {
     "data": {
      "text/plain": [
       "Base.KeyIterator for a Dict{Any,Any} with 4 entries. Keys:\n",
       "  \"posteriorMeanLocationParms\"\n",
       "  \"MCMCSamples for variance of :Age\"\n",
       "  \"MCMCSamples: Age\"\n",
       "  \"MCMCSamples for residual variance\""
      ]
     },
     "execution_count": 11,
     "metadata": {},
     "output_type": "execute_result"
    }
   ],
   "source": [
    "keys(out)"
   ]
  },
  {
   "cell_type": "code",
   "execution_count": 12,
   "metadata": {
    "collapsed": false
   },
   "outputs": [
    {
     "data": {
      "text/plain": [
       "8x2 Array{Any,2}:\n",
       " \"intercept: intercept\"   1.74099  \n",
       " \"Age: 1\"                -0.26469  \n",
       " \"Age: 2\"                 0.0508782\n",
       " \"Age: 3\"                -0.566664 \n",
       " \"Animal: S1\"            -0.787168 \n",
       " \"Animal: D1\"            -1.3912   \n",
       " \"Animal: O1\"            -1.75139  \n",
       " \"Animal: O3\"            -1.31252  "
      ]
     },
     "execution_count": 12,
     "metadata": {},
     "output_type": "execute_result"
    }
   ],
   "source": [
    "out[\"posteriorMeanLocationParms\"]"
   ]
  },
  {
   "cell_type": "code",
   "execution_count": 13,
   "metadata": {
    "collapsed": false,
    "scrolled": false
   },
   "outputs": [
    {
     "data": {
      "text/plain": [
       "50-element Array{Float64,1}:\n",
       " 0.623128\n",
       " 0.376259\n",
       " 1.0574  \n",
       " 0.665871\n",
       " 0.654919\n",
       " 1.28861 \n",
       " 0.858793\n",
       " 0.558104\n",
       " 1.23025 \n",
       " 0.647345\n",
       " 0.549915\n",
       " 1.17632 \n",
       " 0.682293\n",
       " ⋮       \n",
       " 2.06945 \n",
       " 0.960032\n",
       " 0.326787\n",
       " 1.10552 \n",
       " 0.696814\n",
       " 0.371309\n",
       " 1.1253  \n",
       " 1.61807 \n",
       " 0.67815 \n",
       " 0.585892\n",
       " 0.373279\n",
       " 0.98652 "
      ]
     },
     "execution_count": 13,
     "metadata": {},
     "output_type": "execute_result"
    }
   ],
   "source": [
    "out[\"MCMCSamples for variance of :Age\"]"
   ]
  },
  {
   "cell_type": "code",
   "execution_count": 14,
   "metadata": {
    "collapsed": false,
    "scrolled": false
   },
   "outputs": [
    {
     "data": {
      "text/plain": [
       "50x3 Array{Float64,2}:\n",
       "  0.415413    0.71527     -0.0426861 \n",
       "  0.179672    0.245994    -0.0577242 \n",
       " -0.449246    0.0873021   -0.480123  \n",
       "  0.53473    -0.407795    -0.83037   \n",
       "  0.197535    0.390428    -0.025096  \n",
       " -0.165464    0.508104    -0.00795473\n",
       "  0.716029    0.0843554   -0.0241138 \n",
       "  0.24117     0.979646    -0.835964  \n",
       " -0.39006    -0.129379    -0.223619  \n",
       " -0.170919    0.136355    -0.414237  \n",
       " -0.368277   -0.192264    -0.493364  \n",
       " -0.663812    0.417012    -1.03785   \n",
       " -0.873109   -0.376196    -0.316551  \n",
       "  ⋮                                  \n",
       " -0.0511412   0.535481    -0.716702  \n",
       " -0.511506    0.184296    -0.903347  \n",
       "  0.356382   -0.562302    -0.457199  \n",
       "  0.322294    0.30853     -0.267594  \n",
       " -0.472683    0.509093    -1.0954    \n",
       " -0.520398   -0.0284407    0.502039  \n",
       " -0.0664948   0.43771     -0.859275  \n",
       " -1.09736    -0.0707666   -0.351012  \n",
       " -0.0563275  -0.0567943   -1.03821   \n",
       " -1.32944     0.00808861  -0.6761    \n",
       " -0.182818    0.00697102  -0.394669  \n",
       " -0.253648    1.23918     -0.610533  "
      ]
     },
     "execution_count": 14,
     "metadata": {},
     "output_type": "execute_result"
    }
   ],
   "source": [
    "out[\"MCMCSamples: Age\"]"
   ]
  },
  {
   "cell_type": "code",
   "execution_count": 15,
   "metadata": {
    "collapsed": false
   },
   "outputs": [
    {
     "data": {
      "text/plain": [
       "50-element Array{Float64,1}:\n",
       " 0.541266\n",
       " 1.48623 \n",
       " 0.477371\n",
       " 0.996353\n",
       " 0.170927\n",
       " 0.936126\n",
       " 0.89152 \n",
       " 0.346409\n",
       " 0.621399\n",
       " 1.01875 \n",
       " 0.702791\n",
       " 0.468528\n",
       " 1.59631 \n",
       " ⋮       \n",
       " 0.466054\n",
       " 0.393418\n",
       " 0.365907\n",
       " 1.13746 \n",
       " 0.307938\n",
       " 1.55441 \n",
       " 0.281984\n",
       " 0.711187\n",
       " 1.67778 \n",
       " 0.293186\n",
       " 1.33099 \n",
       " 0.626062"
      ]
     },
     "execution_count": 15,
     "metadata": {},
     "output_type": "execute_result"
    }
   ],
   "source": [
    "out[\"MCMCSamples for residual variance\"]"
   ]
  }
 ],
 "metadata": {
  "kernelspec": {
   "display_name": "Julia 0.4.3",
   "language": "julia",
   "name": "julia-0.4"
  },
  "language_info": {
   "file_extension": ".jl",
   "mimetype": "application/julia",
   "name": "julia",
   "version": "0.4.3"
  }
 },
 "nbformat": 4,
 "nbformat_minor": 0
}

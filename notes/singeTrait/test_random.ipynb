{
 "cells": [
  {
   "cell_type": "markdown",
   "metadata": {},
   "source": [
    "## Module for building Henderson's Mixed Model Equations for single trait\n",
    "\n"
   ]
  },
  {
   "cell_type": "markdown",
   "metadata": {},
   "source": [
    "### Data set to test the module"
   ]
  },
  {
   "cell_type": "code",
   "execution_count": 1,
   "metadata": {
    "collapsed": true
   },
   "outputs": [],
   "source": [
    "using DataFrames"
   ]
  },
  {
   "cell_type": "code",
   "execution_count": 2,
   "metadata": {
    "collapsed": false
   },
   "outputs": [],
   "source": [
    "FILE = \"../../data/small.ped\";"
   ]
  },
  {
   "cell_type": "code",
   "execution_count": 3,
   "metadata": {
    "collapsed": false
   },
   "outputs": [],
   "source": [
    "B = [\"S1\",\"D1\",\"O1\",\"O3\"]\n",
    "Animal = repeat(B,inner=[3])\n",
    "Age = repmat([1,2,3],4)\n",
    "intercept = ones(12,1)\n",
    "df = DataFrame(Animal=Animal,Age=Age,y=randn(12));"
   ]
  },
  {
   "cell_type": "code",
   "execution_count": 4,
   "metadata": {
    "collapsed": false
   },
   "outputs": [
    {
     "data": {
      "text/html": [
       "<table class=\"data-frame\"><tr><th></th><th>Animal</th><th>Age</th><th>y</th></tr><tr><th>1</th><td>S1</td><td>1</td><td>0.08680657679474474</td></tr><tr><th>2</th><td>S1</td><td>2</td><td>0.37623923773942697</td></tr><tr><th>3</th><td>S1</td><td>3</td><td>0.023858593213699812</td></tr><tr><th>4</th><td>D1</td><td>1</td><td>-0.9848964042160698</td></tr><tr><th>5</th><td>D1</td><td>2</td><td>0.09702922939819446</td></tr><tr><th>6</th><td>D1</td><td>3</td><td>0.28470330782971065</td></tr><tr><th>7</th><td>O1</td><td>1</td><td>0.21909245400108793</td></tr><tr><th>8</th><td>O1</td><td>2</td><td>-0.335379441430496</td></tr><tr><th>9</th><td>O1</td><td>3</td><td>-0.7887493429872529</td></tr><tr><th>10</th><td>O3</td><td>1</td><td>-0.2793774836522451</td></tr><tr><th>11</th><td>O3</td><td>2</td><td>0.4553527555811043</td></tr><tr><th>12</th><td>O3</td><td>3</td><td>0.08647870294664477</td></tr></table>"
      ],
      "text/plain": [
       "12x3 DataFrames.DataFrame\n",
       "| Row | Animal | Age | y         |\n",
       "|-----|--------|-----|-----------|\n",
       "| 1   | \"S1\"   | 1   | 0.0868066 |\n",
       "| 2   | \"S1\"   | 2   | 0.376239  |\n",
       "| 3   | \"S1\"   | 3   | 0.0238586 |\n",
       "| 4   | \"D1\"   | 1   | -0.984896 |\n",
       "| 5   | \"D1\"   | 2   | 0.0970292 |\n",
       "| 6   | \"D1\"   | 3   | 0.284703  |\n",
       "| 7   | \"O1\"   | 1   | 0.219092  |\n",
       "| 8   | \"O1\"   | 2   | -0.335379 |\n",
       "| 9   | \"O1\"   | 3   | -0.788749 |\n",
       "| 10  | \"O3\"   | 1   | -0.279377 |\n",
       "| 11  | \"O3\"   | 2   | 0.455353  |\n",
       "| 12  | \"O3\"   | 3   | 0.0864787 |"
      ]
     },
     "execution_count": 4,
     "metadata": {},
     "output_type": "execute_result"
    }
   ],
   "source": [
    "df"
   ]
  },
  {
   "cell_type": "markdown",
   "metadata": {},
   "source": [
    "### <font color=\"red\"> Run module</font>"
   ]
  },
  {
   "cell_type": "code",
   "execution_count": 5,
   "metadata": {
    "collapsed": false
   },
   "outputs": [],
   "source": [
    "MODULE_PATH=\"/Users/rohan/Box Sync/GitHub/JuliaClassReview/Module/MME.jl\";"
   ]
  },
  {
   "cell_type": "code",
   "execution_count": 6,
   "metadata": {
    "collapsed": false
   },
   "outputs": [
    {
     "data": {
      "text/plain": [
       "MMEModule"
      ]
     },
     "execution_count": 6,
     "metadata": {},
     "output_type": "execute_result"
    }
   ],
   "source": [
    "include(MODULE_PATH)"
   ]
  },
  {
   "cell_type": "code",
   "execution_count": 7,
   "metadata": {
    "collapsed": false
   },
   "outputs": [],
   "source": [
    "ped = PedModule.mkPed(FILE);"
   ]
  },
  {
   "cell_type": "code",
   "execution_count": 8,
   "metadata": {
    "collapsed": false,
    "scrolled": true
   },
   "outputs": [
    {
     "name": "stdout",
     "output_type": "stream",
     "text": [
      "10 "
     ]
    }
   ],
   "source": [
    "varRes=1.0\n",
    "mme = MMEModule.initMME(\"y = intercept + Age + Animal\",varRes)\n",
    "#MMEModule.covList(mme,\"Age\")\n",
    "G=zeros(1,1)\n",
    "G[1,1]=1.0\n",
    "MMEModule.setAsRandom(mme,\"Animal\",ped,G)\n",
    "#MMEModule.setAsRandom(mme,\"Age\",2.0)\n",
    "MMEModule.outputSamplesFor(mme,\"Age\")\n",
    "resG = MMEModule.getSolG(mme,df);"
   ]
  },
  {
   "cell_type": "code",
   "execution_count": 9,
   "metadata": {
    "collapsed": false
   },
   "outputs": [
    {
     "data": {
      "text/plain": [
       "9x2 Array{Any,2}:\n",
       " \"intercept: intercept\"  -0.0463104 \n",
       " \"Age: 1\"                -0.176357  \n",
       " \"Age: 2\"                 0.211547  \n",
       " \"Age: 3\"                -0.0351904 \n",
       " \"Animal: S1\"             0.13782   \n",
       " \"Animal: D1\"            -0.134627  \n",
       " \"Animal: O1\"            -0.152582  \n",
       " \"Animal: O3\"             0.0809157 \n",
       " \"Animal: O2\"             0.00159669"
      ]
     },
     "execution_count": 9,
     "metadata": {},
     "output_type": "execute_result"
    },
    {
     "name": "stdout",
     "output_type": "stream",
     "text": [
      "3.0566606276994856e-6\n"
     ]
    }
   ],
   "source": [
    "resG"
   ]
  },
  {
   "cell_type": "code",
   "execution_count": 10,
   "metadata": {
    "collapsed": false
   },
   "outputs": [],
   "source": [
    "out=MMEModule.sampleMCMC(50,mme,df;outFreq=100);"
   ]
  },
  {
   "cell_type": "code",
   "execution_count": 11,
   "metadata": {
    "collapsed": false
   },
   "outputs": [
    {
     "data": {
      "text/plain": [
       "Base.KeyIterator for a Dict{Any,Any} with 2 entries. Keys:\n",
       "  \"posteriorMeanLocationParms\"\n",
       "  \"MCMCSamples:Age\""
      ]
     },
     "execution_count": 11,
     "metadata": {},
     "output_type": "execute_result"
    }
   ],
   "source": [
    "keys(out)"
   ]
  },
  {
   "cell_type": "code",
   "execution_count": 12,
   "metadata": {
    "collapsed": false
   },
   "outputs": [
    {
     "data": {
      "text/plain": [
       "9x2 Array{Any,2}:\n",
       " \"intercept: intercept\"  -3.97201  \n",
       " \"Age: 1\"                 4.14483  \n",
       " \"Age: 2\"                 4.36375  \n",
       " \"Age: 3\"                 4.20799  \n",
       " \"Animal: S1\"            -0.0878882\n",
       " \"Animal: D1\"            -0.410166 \n",
       " \"Animal: O1\"            -0.357201 \n",
       " \"Animal: O3\"            -0.210072 \n",
       " \"Animal: O2\"            -0.223836 "
      ]
     },
     "execution_count": 12,
     "metadata": {},
     "output_type": "execute_result"
    }
   ],
   "source": [
    "out[\"posteriorMeanLocationParms\"]"
   ]
  },
  {
   "cell_type": "code",
   "execution_count": 14,
   "metadata": {
    "collapsed": false
   },
   "outputs": [
    {
     "data": {
      "text/plain": [
       "50x3 Array{Float64,2}:\n",
       " 0.439251   0.791496  0.159025\n",
       " 0.0336728  0.58044   0.678969\n",
       " 0.196471   1.47693   0.406587\n",
       " 1.82902    1.69327   1.79758 \n",
       " 1.39313    1.4208    0.827657\n",
       " 1.7182     2.53868   2.49058 \n",
       " 2.817      2.69487   3.04941 \n",
       " 3.45379    3.36858   2.82498 \n",
       " 3.98659    2.88343   3.25669 \n",
       " 3.39892    4.16247   3.10305 \n",
       " 3.68015    4.00826   3.22992 \n",
       " 3.21445    3.39603   3.56488 \n",
       " 4.4701     3.91131   3.102   \n",
       " ⋮                            \n",
       " 5.304      6.37513   6.55381 \n",
       " 5.6544     5.74031   5.26745 \n",
       " 6.95065    5.52262   5.8012  \n",
       " 4.55517    6.44239   5.86558 \n",
       " 4.70624    5.68129   5.79154 \n",
       " 4.25926    5.278     6.38829 \n",
       " 3.40337    5.09261   5.71291 \n",
       " 4.54438    4.50552   5.64562 \n",
       " 4.68639    4.38129   4.22588 \n",
       " 4.80793    4.74678   4.23147 \n",
       " 4.96966    4.26141   4.313   \n",
       " 4.68444    5.15429   5.39207 "
      ]
     },
     "execution_count": 14,
     "metadata": {},
     "output_type": "execute_result"
    }
   ],
   "source": [
    "out[\"MCMCSamples:Age\"]"
   ]
  }
 ],
 "metadata": {
  "kernelspec": {
   "display_name": "Julia 0.4.3",
   "language": "julia",
   "name": "julia-0.4"
  },
  "language_info": {
   "file_extension": ".jl",
   "mimetype": "application/julia",
   "name": "julia",
   "version": "0.4.3"
  }
 },
 "nbformat": 4,
 "nbformat_minor": 0
}

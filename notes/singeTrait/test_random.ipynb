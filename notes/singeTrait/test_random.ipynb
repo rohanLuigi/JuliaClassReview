{
 "cells": [
  {
   "cell_type": "markdown",
   "metadata": {},
   "source": [
    "## Module for building Henderson's Mixed Model Equations for single trait\n",
    "\n"
   ]
  },
  {
   "cell_type": "markdown",
   "metadata": {},
   "source": [
    "### Data set to test the module"
   ]
  },
  {
   "cell_type": "code",
   "execution_count": 1,
   "metadata": {
    "collapsed": true
   },
   "outputs": [],
   "source": [
    "using DataFrames"
   ]
  },
  {
   "cell_type": "code",
   "execution_count": 2,
   "metadata": {
    "collapsed": false
   },
   "outputs": [],
   "source": [
    "FILE = \"../../data/small.ped\";"
   ]
  },
  {
   "cell_type": "code",
   "execution_count": 3,
   "metadata": {
    "collapsed": false
   },
   "outputs": [],
   "source": [
    "B = [\"S1\",\"D1\",\"O1\",\"O3\"]\n",
    "Animal = repeat(B,inner=[3])\n",
    "Age = repmat([1,2,3],4)\n",
    "intercept = ones(12,1)\n",
    "df = DataFrame(Animal=Animal,Age=Age,y=randn(12));"
   ]
  },
  {
   "cell_type": "code",
   "execution_count": 4,
   "metadata": {
    "collapsed": false
   },
   "outputs": [
    {
     "data": {
      "text/html": [
       "<table class=\"data-frame\"><tr><th></th><th>Animal</th><th>Age</th><th>y</th></tr><tr><th>1</th><td>S1</td><td>1</td><td>1.2650962332977682</td></tr><tr><th>2</th><td>S1</td><td>2</td><td>-0.13452481376320743</td></tr><tr><th>3</th><td>S1</td><td>3</td><td>-0.2564495689966189</td></tr><tr><th>4</th><td>D1</td><td>1</td><td>-1.120958801051827</td></tr><tr><th>5</th><td>D1</td><td>2</td><td>-0.10253693970145071</td></tr><tr><th>6</th><td>D1</td><td>3</td><td>-0.9813139071694701</td></tr><tr><th>7</th><td>O1</td><td>1</td><td>-0.34988132913283154</td></tr><tr><th>8</th><td>O1</td><td>2</td><td>0.462861272444874</td></tr><tr><th>9</th><td>O1</td><td>3</td><td>-1.0909420860668024</td></tr><tr><th>10</th><td>O3</td><td>1</td><td>-0.21484865978640336</td></tr><tr><th>11</th><td>O3</td><td>2</td><td>1.3568969388965595</td></tr><tr><th>12</th><td>O3</td><td>3</td><td>1.114150941765483</td></tr></table>"
      ],
      "text/plain": [
       "12x3 DataFrames.DataFrame\n",
       "| Row | Animal | Age | y         |\n",
       "|-----|--------|-----|-----------|\n",
       "| 1   | \"S1\"   | 1   | 1.2651    |\n",
       "| 2   | \"S1\"   | 2   | -0.134525 |\n",
       "| 3   | \"S1\"   | 3   | -0.25645  |\n",
       "| 4   | \"D1\"   | 1   | -1.12096  |\n",
       "| 5   | \"D1\"   | 2   | -0.102537 |\n",
       "| 6   | \"D1\"   | 3   | -0.981314 |\n",
       "| 7   | \"O1\"   | 1   | -0.349881 |\n",
       "| 8   | \"O1\"   | 2   | 0.462861  |\n",
       "| 9   | \"O1\"   | 3   | -1.09094  |\n",
       "| 10  | \"O3\"   | 1   | -0.214849 |\n",
       "| 11  | \"O3\"   | 2   | 1.3569    |\n",
       "| 12  | \"O3\"   | 3   | 1.11415   |"
      ]
     },
     "execution_count": 4,
     "metadata": {},
     "output_type": "execute_result"
    }
   ],
   "source": [
    "df"
   ]
  },
  {
   "cell_type": "markdown",
   "metadata": {},
   "source": [
    "### <font color=\"red\"> Run module</font>"
   ]
  },
  {
   "cell_type": "code",
   "execution_count": 5,
   "metadata": {
    "collapsed": false
   },
   "outputs": [],
   "source": [
    "MODULE_PATH=\"/Users/rohan/Box Sync/GitHub/JuliaClassReview/Module/MME.jl\";"
   ]
  },
  {
   "cell_type": "code",
   "execution_count": 6,
   "metadata": {
    "collapsed": false
   },
   "outputs": [
    {
     "data": {
      "text/plain": [
       "MMEModule"
      ]
     },
     "execution_count": 6,
     "metadata": {},
     "output_type": "execute_result"
    }
   ],
   "source": [
    "include(MODULE_PATH)"
   ]
  },
  {
   "cell_type": "code",
   "execution_count": 7,
   "metadata": {
    "collapsed": false
   },
   "outputs": [],
   "source": [
    "ped = PedModule.mkPed(FILE);"
   ]
  },
  {
   "cell_type": "code",
   "execution_count": 8,
   "metadata": {
    "collapsed": false,
    "scrolled": true
   },
   "outputs": [
    {
     "name": "stdout",
     "output_type": "stream",
     "text": [
      "10 "
     ]
    }
   ],
   "source": [
    "varRes=1.0\n",
    "mme = MMEModule.initMME(\"y = intercept + Age + Animal\",varRes)\n",
    "#MMEModule.covList(mme,\"Age\")\n",
    "G=zeros(1,1)\n",
    "G[1,1]=1.0\n",
    "MMEModule.setAsRandom(mme,\"Animal\",ped,G)\n",
    "#MMEModule.setAsRandom(mme,\"Age\",2.0)\n",
    "\n",
    "\n",
    "resG = MMEModule.getSolG(mme,df);"
   ]
  },
  {
   "cell_type": "code",
   "execution_count": 9,
   "metadata": {
    "collapsed": false
   },
   "outputs": [
    {
     "data": {
      "text/plain": [
       "9x2 Array{Any,2}:\n",
       " \"intercept: intercept\"  -0.095642  \n",
       " \"Age: 1\"                -0.100777  \n",
       " \"Age: 2\"                 0.400045  \n",
       " \"Age: 3\"                -0.299268  \n",
       " \"Animal: S1\"             0.383276  \n",
       " \"Animal: D1\"            -0.386528  \n",
       " \"Animal: O1\"            -0.138858  \n",
       " \"Animal: O3\"             0.507975  \n",
       " \"Animal: O2\"            -0.00162569"
      ]
     },
     "execution_count": 9,
     "metadata": {},
     "output_type": "execute_result"
    },
    {
     "name": "stdout",
     "output_type": "stream",
     "text": [
      "0.0005715250083931588\n",
      "20 6.560989302176208e-5\n",
      "30 7.531880184177994e-6\n",
      "40 8.646442860376982e-7\n"
     ]
    }
   ],
   "source": [
    "resG"
   ]
  },
  {
   "cell_type": "code",
   "execution_count": 11,
   "metadata": {
    "collapsed": false
   },
   "outputs": [
    {
     "name": "stdout",
     "output_type": "stream",
     "text": [
      "at sample: 100\n",
      "at sample: 200\n",
      "at sample: 300\n",
      "at sample: 400\n",
      "at sample: 500\n",
      "at sample: 600\n",
      "at sample: 700\n",
      "at sample: 800\n",
      "at sample: 900\n",
      "at sample: 1000\n",
      "at sample: 1100\n",
      "at sample: 1200\n",
      "at sample: 1300\n",
      "at sample: 1400\n",
      "at sample: 1500\n",
      "at sample: 1600\n",
      "at sample: 1700\n",
      "at sample: 1800\n",
      "at sample: 1900\n",
      "at sample: 2000\n",
      "at sample: 2100\n",
      "at sample: 2200\n",
      "at sample: 2300\n",
      "at sample: 2400\n",
      "at sample: 2500\n",
      "at sample: 2600\n",
      "at sample: 2700\n",
      "at sample: 2800\n",
      "at sample: 2900\n",
      "at sample: 3000\n",
      "at sample: 3100\n",
      "at sample: 3200\n",
      "at sample: 3300\n",
      "at sample: 3400\n",
      "at sample: 3500\n",
      "at sample: 3600\n",
      "at sample: 3700\n",
      "at sample: 3800\n",
      "at sample: 3900\n",
      "at sample: 4000\n",
      "at sample: 4100\n",
      "at sample: 4200\n",
      "at sample: 4300\n",
      "at sample: 4400\n",
      "at sample: 4500\n",
      "at sample: 4600\n",
      "at sample: 4700\n",
      "at sample: 4800\n",
      "at sample: 4900\n",
      "at sample: 5000\n"
     ]
    }
   ],
   "source": [
    "out=MMEModule.sampleMCMC(5000,mme,df;outFreq=100);"
   ]
  },
  {
   "cell_type": "code",
   "execution_count": 14,
   "metadata": {
    "collapsed": false
   },
   "outputs": [
    {
     "data": {
      "text/plain": [
       "Base.KeyIterator for a Dict{Any,Any} with 1 entry. Keys:\n",
       "  \"posteriorMeanLocationParms\""
      ]
     },
     "execution_count": 14,
     "metadata": {},
     "output_type": "execute_result"
    }
   ],
   "source": [
    "keys(out)"
   ]
  },
  {
   "cell_type": "code",
   "execution_count": 15,
   "metadata": {
    "collapsed": false
   },
   "outputs": [
    {
     "data": {
      "text/plain": [
       "9x2 Array{Any,2}:\n",
       " \"intercept: intercept\"  -16.3066   \n",
       " \"Age: 1\"                 16.1841   \n",
       " \"Age: 2\"                 16.6841   \n",
       " \"Age: 3\"                 15.9773   \n",
       " \"Animal: S1\"              0.285753 \n",
       " \"Animal: D1\"             -0.35989  \n",
       " \"Animal: O1\"             -0.158023 \n",
       " \"Animal: O3\"              0.331024 \n",
       " \"Animal: O2\"             -0.0464399"
      ]
     },
     "execution_count": 15,
     "metadata": {},
     "output_type": "execute_result"
    }
   ],
   "source": [
    "out[\"posteriorMeanLocationParms\"]"
   ]
  },
  {
   "cell_type": "code",
   "execution_count": 16,
   "metadata": {
    "collapsed": false
   },
   "outputs": [
    {
     "data": {
      "text/plain": [
       "9x2 Array{Any,2}:\n",
       " \"intercept: intercept\"  -0.095642  \n",
       " \"Age: 1\"                -0.100777  \n",
       " \"Age: 2\"                 0.400045  \n",
       " \"Age: 3\"                -0.299268  \n",
       " \"Animal: S1\"             0.383276  \n",
       " \"Animal: D1\"            -0.386528  \n",
       " \"Animal: O1\"            -0.138858  \n",
       " \"Animal: O3\"             0.507975  \n",
       " \"Animal: O2\"            -0.00162569"
      ]
     },
     "execution_count": 16,
     "metadata": {},
     "output_type": "execute_result"
    }
   ],
   "source": [
    "resG"
   ]
  },
  {
   "cell_type": "code",
   "execution_count": 17,
   "metadata": {
    "collapsed": false
   },
   "outputs": [
    {
     "name": "stdout",
     "output_type": "stream",
     "text": [
      "/Users/rohan/Box Sync/GitHub/JuliaClassReview/notes/singeTrait\n"
     ]
    }
   ],
   "source": [
    ";pwd"
   ]
  }
 ],
 "metadata": {
  "kernelspec": {
   "display_name": "Julia 0.4.3",
   "language": "julia",
   "name": "julia-0.4"
  },
  "language_info": {
   "file_extension": ".jl",
   "mimetype": "application/julia",
   "name": "julia",
   "version": "0.4.3"
  }
 },
 "nbformat": 4,
 "nbformat_minor": 0
}
